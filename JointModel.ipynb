{
 "cells": [
  {
   "cell_type": "code",
   "execution_count": 1,
   "metadata": {},
   "outputs": [],
   "source": [
    "from scripts.utils import Collection\n",
    "from pathlib import Path\n",
    "from gensim.models.word2vec import Word2VecKeyedVectors\n",
    "\n",
    "train_collection = Collection()\n",
    "train_collection.load(Path(\"C:/Users/ale/Desktop/5to/Tesis/ehealth/data/2020/training/scenario.txt\"))\n",
    "\n",
    "test_collection = Collection()\n",
    "test_collection.load(Path(\"C:/Users/ale/Desktop/5to/Tesis/ehealth/data/2020/development/main/scenario.txt\"))\n",
    "\n",
    "collection = Collection(train_collection.sentences+test_collection.sentences)"
   ]
  },
  {
   "cell_type": "code",
   "execution_count": 2,
   "metadata": {},
   "outputs": [],
   "source": [
    "from src.ehealth19 import DependencyJointAlgorithm"
   ]
  },
  {
   "cell_type": "code",
   "execution_count": 3,
   "metadata": {},
   "outputs": [],
   "source": [
    "algorithm = DependencyJointAlgorithm()"
   ]
  },
  {
   "cell_type": "code",
   "execution_count": 4,
   "metadata": {},
   "outputs": [
    {
     "name": "stdout",
     "output_type": "stream",
     "text": [
      "Loading nlp...\n",
      "Collecting data per sentence...\n"
     ]
    },
    {
     "name": "stderr",
     "output_type": "stream",
     "text": [
      "100%|████████████████████████████████████████████████████████████████████████████████| 999/999 [00:12<00:00, 79.38it/s]\n"
     ]
    },
    {
     "name": "stdout",
     "output_type": "stream",
     "text": [
      "Creating dataset...\n"
     ]
    },
    {
     "name": "stderr",
     "output_type": "stream",
     "text": [
      "100%|███████████████████████████████████████████████████████████████████████████████| 999/999 [00:01<00:00, 562.72it/s]\n"
     ]
    },
    {
     "name": "stdout",
     "output_type": "stream",
     "text": [
      "Optimizing...\n"
     ]
    },
    {
     "name": "stderr",
     "output_type": "stream",
     "text": [
      "100%|████████████████████████████████████████████████████████████████████████████████| 799/799 [15:10<00:00,  1.14s/it]\n"
     ]
    },
    {
     "name": "stdout",
     "output_type": "stream",
     "text": [
      "Evaluating on training data...\n"
     ]
    },
    {
     "name": "stderr",
     "output_type": "stream",
     "text": [
      "100%|████████████████████████████████████████████████████████████████████████████████| 799/799 [01:29<00:00,  8.92it/s]\n"
     ]
    },
    {
     "name": "stdout",
     "output_type": "stream",
     "text": [
      "Evaluating on validation data...\n"
     ]
    },
    {
     "name": "stderr",
     "output_type": "stream",
     "text": [
      "100%|████████████████████████████████████████████████████████████████████████████████| 200/200 [00:21<00:00,  9.23it/s]\n"
     ]
    },
    {
     "name": "stdout",
     "output_type": "stream",
     "text": [
      "[1] relations_loss: 4.25\n",
      "[1] ent_type_loss: 0.392\n",
      "[1] ent_tag_loss: 0.367\n",
      "[1] train_rels_acc: 0.33\n",
      "[1] train_ent_type_acc: 0.905\n",
      "[1] train_ent_tag_acc: 0.906\n",
      "[1] val_rels_acc: 0.336\n",
      "[1] val_ent_type_acc: 0.897\n",
      "[1] val_ent_tag_acc: 0.897\n",
      "Optimizing...\n"
     ]
    },
    {
     "name": "stderr",
     "output_type": "stream",
     "text": [
      "100%|████████████████████████████████████████████████████████████████████████████████| 799/799 [13:54<00:00,  1.05s/it]\n"
     ]
    },
    {
     "name": "stdout",
     "output_type": "stream",
     "text": [
      "Evaluating on training data...\n"
     ]
    },
    {
     "name": "stderr",
     "output_type": "stream",
     "text": [
      "100%|████████████████████████████████████████████████████████████████████████████████| 799/799 [01:13<00:00, 10.93it/s]\n"
     ]
    },
    {
     "name": "stdout",
     "output_type": "stream",
     "text": [
      "Evaluating on validation data...\n"
     ]
    },
    {
     "name": "stderr",
     "output_type": "stream",
     "text": [
      "100%|████████████████████████████████████████████████████████████████████████████████| 200/200 [00:17<00:00, 11.65it/s]\n"
     ]
    },
    {
     "name": "stdout",
     "output_type": "stream",
     "text": [
      "[2] relations_loss: 4.16\n",
      "[2] ent_type_loss: 0.298\n",
      "[2] ent_tag_loss: 0.223\n",
      "[2] train_rels_acc: 0.42\n",
      "[2] train_ent_type_acc: 0.903\n",
      "[2] train_ent_tag_acc: 0.911\n",
      "[2] val_rels_acc: 0.412\n",
      "[2] val_ent_type_acc: 0.883\n",
      "[2] val_ent_tag_acc: 0.867\n",
      "Optimizing...\n"
     ]
    },
    {
     "name": "stderr",
     "output_type": "stream",
     "text": [
      "100%|████████████████████████████████████████████████████████████████████████████████| 799/799 [14:33<00:00,  1.09s/it]\n"
     ]
    },
    {
     "name": "stdout",
     "output_type": "stream",
     "text": [
      "Evaluating on training data...\n"
     ]
    },
    {
     "name": "stderr",
     "output_type": "stream",
     "text": [
      "100%|████████████████████████████████████████████████████████████████████████████████| 799/799 [01:20<00:00,  9.88it/s]\n"
     ]
    },
    {
     "name": "stdout",
     "output_type": "stream",
     "text": [
      "Evaluating on validation data...\n"
     ]
    },
    {
     "name": "stderr",
     "output_type": "stream",
     "text": [
      "100%|████████████████████████████████████████████████████████████████████████████████| 200/200 [00:21<00:00,  9.12it/s]\n"
     ]
    },
    {
     "name": "stdout",
     "output_type": "stream",
     "text": [
      "[3] relations_loss: 4.13\n",
      "[3] ent_type_loss: 0.285\n",
      "[3] ent_tag_loss: 0.213\n",
      "[3] train_rels_acc: 0.423\n",
      "[3] train_ent_type_acc: 0.911\n",
      "[3] train_ent_tag_acc: 0.905\n",
      "[3] val_rels_acc: 0.383\n",
      "[3] val_ent_type_acc: 0.897\n",
      "[3] val_ent_tag_acc: 0.888\n",
      "Optimizing...\n"
     ]
    },
    {
     "name": "stderr",
     "output_type": "stream",
     "text": [
      "100%|████████████████████████████████████████████████████████████████████████████████| 799/799 [15:06<00:00,  1.13s/it]\n"
     ]
    },
    {
     "name": "stdout",
     "output_type": "stream",
     "text": [
      "Evaluating on training data...\n"
     ]
    },
    {
     "name": "stderr",
     "output_type": "stream",
     "text": [
      "100%|████████████████████████████████████████████████████████████████████████████████| 799/799 [01:27<00:00,  9.16it/s]\n"
     ]
    },
    {
     "name": "stdout",
     "output_type": "stream",
     "text": [
      "Evaluating on validation data...\n"
     ]
    },
    {
     "name": "stderr",
     "output_type": "stream",
     "text": [
      "100%|████████████████████████████████████████████████████████████████████████████████| 200/200 [00:21<00:00,  9.41it/s]\n"
     ]
    },
    {
     "name": "stdout",
     "output_type": "stream",
     "text": [
      "[4] relations_loss: 4.13\n",
      "[4] ent_type_loss: 0.28\n",
      "[4] ent_tag_loss: 0.214\n",
      "[4] train_rels_acc: 0.41\n",
      "[4] train_ent_type_acc: 0.906\n",
      "[4] train_ent_tag_acc: 0.922\n",
      "[4] val_rels_acc: 0.449\n",
      "[4] val_ent_type_acc: 0.893\n",
      "[4] val_ent_tag_acc: 0.891\n",
      "Optimizing...\n"
     ]
    },
    {
     "name": "stderr",
     "output_type": "stream",
     "text": [
      "100%|████████████████████████████████████████████████████████████████████████████████| 799/799 [15:25<00:00,  1.16s/it]\n"
     ]
    },
    {
     "name": "stdout",
     "output_type": "stream",
     "text": [
      "Evaluating on training data...\n"
     ]
    },
    {
     "name": "stderr",
     "output_type": "stream",
     "text": [
      "100%|████████████████████████████████████████████████████████████████████████████████| 799/799 [01:30<00:00,  8.80it/s]\n"
     ]
    },
    {
     "name": "stdout",
     "output_type": "stream",
     "text": [
      "Evaluating on validation data...\n"
     ]
    },
    {
     "name": "stderr",
     "output_type": "stream",
     "text": [
      "100%|████████████████████████████████████████████████████████████████████████████████| 200/200 [00:21<00:00,  9.19it/s]\n"
     ]
    },
    {
     "name": "stdout",
     "output_type": "stream",
     "text": [
      "[5] relations_loss: 4.12\n",
      "[5] ent_type_loss: 0.27\n",
      "[5] ent_tag_loss: 0.198\n",
      "[5] train_rels_acc: 0.421\n",
      "[5] train_ent_type_acc: 0.916\n",
      "[5] train_ent_tag_acc: 0.921\n",
      "[5] val_rels_acc: 0.4\n",
      "[5] val_ent_type_acc: 0.894\n",
      "[5] val_ent_tag_acc: 0.899\n",
      "Optimizing...\n"
     ]
    },
    {
     "name": "stderr",
     "output_type": "stream",
     "text": [
      "100%|████████████████████████████████████████████████████████████████████████████████| 799/799 [15:25<00:00,  1.16s/it]\n"
     ]
    },
    {
     "name": "stdout",
     "output_type": "stream",
     "text": [
      "Evaluating on training data...\n"
     ]
    },
    {
     "name": "stderr",
     "output_type": "stream",
     "text": [
      "100%|████████████████████████████████████████████████████████████████████████████████| 799/799 [01:41<00:00,  7.91it/s]\n"
     ]
    },
    {
     "name": "stdout",
     "output_type": "stream",
     "text": [
      "Evaluating on validation data...\n"
     ]
    },
    {
     "name": "stderr",
     "output_type": "stream",
     "text": [
      "100%|████████████████████████████████████████████████████████████████████████████████| 200/200 [00:23<00:00,  8.36it/s]\n"
     ]
    },
    {
     "name": "stdout",
     "output_type": "stream",
     "text": [
      "[6] relations_loss: 4.11\n",
      "[6] ent_type_loss: 0.261\n",
      "[6] ent_tag_loss: 0.194\n",
      "[6] train_rels_acc: 0.433\n",
      "[6] train_ent_type_acc: 0.914\n",
      "[6] train_ent_tag_acc: 0.903\n",
      "[6] val_rels_acc: 0.412\n",
      "[6] val_ent_type_acc: 0.906\n",
      "[6] val_ent_tag_acc: 0.885\n",
      "Optimizing...\n"
     ]
    },
    {
     "name": "stderr",
     "output_type": "stream",
     "text": [
      "100%|████████████████████████████████████████████████████████████████████████████████| 799/799 [15:33<00:00,  1.17s/it]\n"
     ]
    },
    {
     "name": "stdout",
     "output_type": "stream",
     "text": [
      "Evaluating on training data...\n"
     ]
    },
    {
     "name": "stderr",
     "output_type": "stream",
     "text": [
      "100%|████████████████████████████████████████████████████████████████████████████████| 799/799 [01:34<00:00,  8.49it/s]\n"
     ]
    },
    {
     "name": "stdout",
     "output_type": "stream",
     "text": [
      "Evaluating on validation data...\n"
     ]
    },
    {
     "name": "stderr",
     "output_type": "stream",
     "text": [
      "100%|████████████████████████████████████████████████████████████████████████████████| 200/200 [00:23<00:00,  8.64it/s]\n"
     ]
    },
    {
     "name": "stdout",
     "output_type": "stream",
     "text": [
      "[7] relations_loss: 4.11\n",
      "[7] ent_type_loss: 0.254\n",
      "[7] ent_tag_loss: 0.193\n",
      "[7] train_rels_acc: 0.423\n",
      "[7] train_ent_type_acc: 0.925\n",
      "[7] train_ent_tag_acc: 0.928\n",
      "[7] val_rels_acc: 0.418\n",
      "[7] val_ent_type_acc: 0.911\n",
      "[7] val_ent_tag_acc: 0.907\n",
      "Optimizing...\n"
     ]
    },
    {
     "name": "stderr",
     "output_type": "stream",
     "text": [
      "100%|████████████████████████████████████████████████████████████████████████████████| 799/799 [15:37<00:00,  1.17s/it]\n"
     ]
    },
    {
     "name": "stdout",
     "output_type": "stream",
     "text": [
      "Evaluating on training data...\n"
     ]
    },
    {
     "name": "stderr",
     "output_type": "stream",
     "text": [
      "100%|████████████████████████████████████████████████████████████████████████████████| 799/799 [01:43<00:00,  7.72it/s]\n"
     ]
    },
    {
     "name": "stdout",
     "output_type": "stream",
     "text": [
      "Evaluating on validation data...\n"
     ]
    },
    {
     "name": "stderr",
     "output_type": "stream",
     "text": [
      "100%|████████████████████████████████████████████████████████████████████████████████| 200/200 [00:23<00:00,  8.42it/s]\n"
     ]
    },
    {
     "name": "stdout",
     "output_type": "stream",
     "text": [
      "[8] relations_loss: 4.11\n",
      "[8] ent_type_loss: 0.249\n",
      "[8] ent_tag_loss: 0.183\n",
      "[8] train_rels_acc: 0.442\n",
      "[8] train_ent_type_acc: 0.92\n",
      "[8] train_ent_tag_acc: 0.921\n",
      "[8] val_rels_acc: 0.468\n",
      "[8] val_ent_type_acc: 0.904\n",
      "[8] val_ent_tag_acc: 0.899\n",
      "Optimizing...\n"
     ]
    },
    {
     "name": "stderr",
     "output_type": "stream",
     "text": [
      "100%|████████████████████████████████████████████████████████████████████████████████| 799/799 [15:24<00:00,  1.16s/it]\n"
     ]
    },
    {
     "name": "stdout",
     "output_type": "stream",
     "text": [
      "Evaluating on training data...\n"
     ]
    },
    {
     "name": "stderr",
     "output_type": "stream",
     "text": [
      "100%|████████████████████████████████████████████████████████████████████████████████| 799/799 [01:40<00:00,  7.92it/s]\n"
     ]
    },
    {
     "name": "stdout",
     "output_type": "stream",
     "text": [
      "Evaluating on validation data...\n"
     ]
    },
    {
     "name": "stderr",
     "output_type": "stream",
     "text": [
      "100%|████████████████████████████████████████████████████████████████████████████████| 200/200 [00:24<00:00,  8.05it/s]\n"
     ]
    },
    {
     "name": "stdout",
     "output_type": "stream",
     "text": [
      "[9] relations_loss: 4.1\n",
      "[9] ent_type_loss: 0.25\n",
      "[9] ent_tag_loss: 0.179\n",
      "[9] train_rels_acc: 0.44\n",
      "[9] train_ent_type_acc: 0.923\n",
      "[9] train_ent_tag_acc: 0.93\n",
      "[9] val_rels_acc: 0.423\n",
      "[9] val_ent_type_acc: 0.908\n",
      "[9] val_ent_tag_acc: 0.904\n",
      "Optimizing...\n"
     ]
    },
    {
     "name": "stderr",
     "output_type": "stream",
     "text": [
      "100%|████████████████████████████████████████████████████████████████████████████████| 799/799 [15:30<00:00,  1.16s/it]\n"
     ]
    },
    {
     "name": "stdout",
     "output_type": "stream",
     "text": [
      "Evaluating on training data...\n"
     ]
    },
    {
     "name": "stderr",
     "output_type": "stream",
     "text": [
      "100%|████████████████████████████████████████████████████████████████████████████████| 799/799 [01:46<00:00,  7.51it/s]\n"
     ]
    },
    {
     "name": "stdout",
     "output_type": "stream",
     "text": [
      "Evaluating on validation data...\n"
     ]
    },
    {
     "name": "stderr",
     "output_type": "stream",
     "text": [
      "100%|████████████████████████████████████████████████████████████████████████████████| 200/200 [00:24<00:00,  8.10it/s]\n"
     ]
    },
    {
     "name": "stdout",
     "output_type": "stream",
     "text": [
      "[10] relations_loss: 4.09\n",
      "[10] ent_type_loss: 0.248\n",
      "[10] ent_tag_loss: 0.187\n",
      "[10] train_rels_acc: 0.442\n",
      "[10] train_ent_type_acc: 0.922\n",
      "[10] train_ent_tag_acc: 0.929\n",
      "[10] val_rels_acc: 0.426\n",
      "[10] val_ent_type_acc: 0.908\n",
      "[10] val_ent_tag_acc: 0.92\n",
      "Optimizing...\n"
     ]
    },
    {
     "name": "stderr",
     "output_type": "stream",
     "text": [
      "100%|████████████████████████████████████████████████████████████████████████████████| 799/799 [15:25<00:00,  1.16s/it]\n"
     ]
    },
    {
     "name": "stdout",
     "output_type": "stream",
     "text": [
      "Evaluating on training data...\n"
     ]
    },
    {
     "name": "stderr",
     "output_type": "stream",
     "text": [
      "100%|████████████████████████████████████████████████████████████████████████████████| 799/799 [01:42<00:00,  7.81it/s]\n"
     ]
    },
    {
     "name": "stdout",
     "output_type": "stream",
     "text": [
      "Evaluating on validation data...\n"
     ]
    },
    {
     "name": "stderr",
     "output_type": "stream",
     "text": [
      "100%|████████████████████████████████████████████████████████████████████████████████| 200/200 [00:32<00:00,  6.20it/s]\n"
     ]
    },
    {
     "name": "stdout",
     "output_type": "stream",
     "text": [
      "[11] relations_loss: 4.09\n",
      "[11] ent_type_loss: 0.243\n",
      "[11] ent_tag_loss: 0.175\n",
      "[11] train_rels_acc: 0.443\n",
      "[11] train_ent_type_acc: 0.924\n",
      "[11] train_ent_tag_acc: 0.925\n",
      "[11] val_rels_acc: 0.401\n",
      "[11] val_ent_type_acc: 0.919\n",
      "[11] val_ent_tag_acc: 0.899\n",
      "Optimizing...\n"
     ]
    },
    {
     "name": "stderr",
     "output_type": "stream",
     "text": [
      "100%|████████████████████████████████████████████████████████████████████████████████| 799/799 [15:11<00:00,  1.14s/it]\n"
     ]
    },
    {
     "name": "stdout",
     "output_type": "stream",
     "text": [
      "Evaluating on training data...\n"
     ]
    },
    {
     "name": "stderr",
     "output_type": "stream",
     "text": [
      "100%|████████████████████████████████████████████████████████████████████████████████| 799/799 [01:47<00:00,  7.42it/s]\n"
     ]
    },
    {
     "name": "stdout",
     "output_type": "stream",
     "text": [
      "Evaluating on validation data...\n"
     ]
    },
    {
     "name": "stderr",
     "output_type": "stream",
     "text": [
      "100%|████████████████████████████████████████████████████████████████████████████████| 200/200 [00:24<00:00,  8.19it/s]\n"
     ]
    },
    {
     "name": "stdout",
     "output_type": "stream",
     "text": [
      "[12] relations_loss: 4.08\n",
      "[12] ent_type_loss: 0.24\n",
      "[12] ent_tag_loss: 0.175\n",
      "[12] train_rels_acc: 0.452\n",
      "[12] train_ent_type_acc: 0.924\n",
      "[12] train_ent_tag_acc: 0.923\n",
      "[12] val_rels_acc: 0.394\n",
      "[12] val_ent_type_acc: 0.908\n",
      "[12] val_ent_tag_acc: 0.902\n",
      "Optimizing...\n"
     ]
    },
    {
     "name": "stderr",
     "output_type": "stream",
     "text": [
      "100%|████████████████████████████████████████████████████████████████████████████████| 799/799 [15:11<00:00,  1.14s/it]\n"
     ]
    },
    {
     "name": "stdout",
     "output_type": "stream",
     "text": [
      "Evaluating on training data...\n"
     ]
    },
    {
     "name": "stderr",
     "output_type": "stream",
     "text": [
      "100%|████████████████████████████████████████████████████████████████████████████████| 799/799 [01:44<00:00,  7.63it/s]\n"
     ]
    },
    {
     "name": "stdout",
     "output_type": "stream",
     "text": [
      "Evaluating on validation data...\n"
     ]
    },
    {
     "name": "stderr",
     "output_type": "stream",
     "text": [
      "100%|████████████████████████████████████████████████████████████████████████████████| 200/200 [00:24<00:00,  8.02it/s]\n"
     ]
    },
    {
     "name": "stdout",
     "output_type": "stream",
     "text": [
      "[13] relations_loss: 4.09\n",
      "[13] ent_type_loss: 0.247\n",
      "[13] ent_tag_loss: 0.174\n",
      "[13] train_rels_acc: 0.442\n",
      "[13] train_ent_type_acc: 0.922\n",
      "[13] train_ent_tag_acc: 0.939\n",
      "[13] val_rels_acc: 0.435\n",
      "[13] val_ent_type_acc: 0.91\n",
      "[13] val_ent_tag_acc: 0.924\n",
      "Optimizing...\n"
     ]
    },
    {
     "name": "stderr",
     "output_type": "stream",
     "text": [
      "100%|████████████████████████████████████████████████████████████████████████████████| 799/799 [15:11<00:00,  1.14s/it]\n"
     ]
    },
    {
     "name": "stdout",
     "output_type": "stream",
     "text": [
      "Evaluating on training data...\n"
     ]
    },
    {
     "name": "stderr",
     "output_type": "stream",
     "text": [
      "100%|████████████████████████████████████████████████████████████████████████████████| 799/799 [01:48<00:00,  7.37it/s]\n"
     ]
    },
    {
     "name": "stdout",
     "output_type": "stream",
     "text": [
      "Evaluating on validation data...\n"
     ]
    },
    {
     "name": "stderr",
     "output_type": "stream",
     "text": [
      "100%|████████████████████████████████████████████████████████████████████████████████| 200/200 [00:25<00:00,  7.91it/s]\n"
     ]
    },
    {
     "name": "stdout",
     "output_type": "stream",
     "text": [
      "[14] relations_loss: 4.08\n",
      "[14] ent_type_loss: 0.226\n",
      "[14] ent_tag_loss: 0.174\n",
      "[14] train_rels_acc: 0.46\n",
      "[14] train_ent_type_acc: 0.923\n",
      "[14] train_ent_tag_acc: 0.937\n",
      "[14] val_rels_acc: 0.458\n",
      "[14] val_ent_type_acc: 0.908\n",
      "[14] val_ent_tag_acc: 0.908\n",
      "Optimizing...\n"
     ]
    },
    {
     "name": "stderr",
     "output_type": "stream",
     "text": [
      "100%|████████████████████████████████████████████████████████████████████████████████| 799/799 [15:22<00:00,  1.15s/it]\n"
     ]
    },
    {
     "name": "stdout",
     "output_type": "stream",
     "text": [
      "Evaluating on training data...\n"
     ]
    },
    {
     "name": "stderr",
     "output_type": "stream",
     "text": [
      "100%|████████████████████████████████████████████████████████████████████████████████| 799/799 [01:44<00:00,  7.61it/s]\n"
     ]
    },
    {
     "name": "stdout",
     "output_type": "stream",
     "text": [
      "Evaluating on validation data...\n"
     ]
    },
    {
     "name": "stderr",
     "output_type": "stream",
     "text": [
      "100%|████████████████████████████████████████████████████████████████████████████████| 200/200 [00:24<00:00,  8.18it/s]\n"
     ]
    },
    {
     "name": "stdout",
     "output_type": "stream",
     "text": [
      "[15] relations_loss: 4.08\n",
      "[15] ent_type_loss: 0.234\n",
      "[15] ent_tag_loss: 0.166\n",
      "[15] train_rels_acc: 0.458\n",
      "[15] train_ent_type_acc: 0.927\n",
      "[15] train_ent_tag_acc: 0.932\n",
      "[15] val_rels_acc: 0.452\n",
      "[15] val_ent_type_acc: 0.915\n",
      "[15] val_ent_tag_acc: 0.924\n",
      "Optimizing...\n"
     ]
    },
    {
     "name": "stderr",
     "output_type": "stream",
     "text": [
      "100%|████████████████████████████████████████████████████████████████████████████████| 799/799 [14:54<00:00,  1.12s/it]\n"
     ]
    },
    {
     "name": "stdout",
     "output_type": "stream",
     "text": [
      "Evaluating on training data...\n"
     ]
    },
    {
     "name": "stderr",
     "output_type": "stream",
     "text": [
      "100%|████████████████████████████████████████████████████████████████████████████████| 799/799 [01:43<00:00,  7.70it/s]\n"
     ]
    },
    {
     "name": "stdout",
     "output_type": "stream",
     "text": [
      "Evaluating on validation data...\n"
     ]
    },
    {
     "name": "stderr",
     "output_type": "stream",
     "text": [
      "100%|████████████████████████████████████████████████████████████████████████████████| 200/200 [00:26<00:00,  7.48it/s]\n"
     ]
    },
    {
     "name": "stdout",
     "output_type": "stream",
     "text": [
      "[16] relations_loss: 4.07\n",
      "[16] ent_type_loss: 0.24\n",
      "[16] ent_tag_loss: 0.157\n",
      "[16] train_rels_acc: 0.461\n",
      "[16] train_ent_type_acc: 0.925\n",
      "[16] train_ent_tag_acc: 0.931\n",
      "[16] val_rels_acc: 0.449\n",
      "[16] val_ent_type_acc: 0.909\n",
      "[16] val_ent_tag_acc: 0.899\n",
      "Optimizing...\n"
     ]
    },
    {
     "name": "stderr",
     "output_type": "stream",
     "text": [
      "100%|████████████████████████████████████████████████████████████████████████████████| 799/799 [14:48<00:00,  1.11s/it]\n"
     ]
    },
    {
     "name": "stdout",
     "output_type": "stream",
     "text": [
      "Evaluating on training data...\n"
     ]
    },
    {
     "name": "stderr",
     "output_type": "stream",
     "text": [
      "100%|████████████████████████████████████████████████████████████████████████████████| 799/799 [01:40<00:00,  7.96it/s]\n"
     ]
    },
    {
     "name": "stdout",
     "output_type": "stream",
     "text": [
      "Evaluating on validation data...\n"
     ]
    },
    {
     "name": "stderr",
     "output_type": "stream",
     "text": [
      "100%|████████████████████████████████████████████████████████████████████████████████| 200/200 [00:25<00:00,  7.71it/s]\n"
     ]
    },
    {
     "name": "stdout",
     "output_type": "stream",
     "text": [
      "[17] relations_loss: 4.07\n",
      "[17] ent_type_loss: 0.226\n",
      "[17] ent_tag_loss: 0.173\n",
      "[17] train_rels_acc: 0.472\n",
      "[17] train_ent_type_acc: 0.929\n",
      "[17] train_ent_tag_acc: 0.933\n",
      "[17] val_rels_acc: 0.463\n",
      "[17] val_ent_type_acc: 0.917\n",
      "[17] val_ent_tag_acc: 0.914\n",
      "Optimizing...\n"
     ]
    },
    {
     "name": "stderr",
     "output_type": "stream",
     "text": [
      "100%|████████████████████████████████████████████████████████████████████████████████| 799/799 [14:47<00:00,  1.11s/it]\n"
     ]
    },
    {
     "name": "stdout",
     "output_type": "stream",
     "text": [
      "Evaluating on training data...\n"
     ]
    },
    {
     "name": "stderr",
     "output_type": "stream",
     "text": [
      "100%|████████████████████████████████████████████████████████████████████████████████| 799/799 [01:45<00:00,  7.58it/s]\n"
     ]
    },
    {
     "name": "stdout",
     "output_type": "stream",
     "text": [
      "Evaluating on validation data...\n"
     ]
    },
    {
     "name": "stderr",
     "output_type": "stream",
     "text": [
      "100%|████████████████████████████████████████████████████████████████████████████████| 200/200 [00:25<00:00,  7.95it/s]\n"
     ]
    },
    {
     "name": "stdout",
     "output_type": "stream",
     "text": [
      "[18] relations_loss: 4.07\n",
      "[18] ent_type_loss: 0.227\n",
      "[18] ent_tag_loss: 0.173\n",
      "[18] train_rels_acc: 0.463\n",
      "[18] train_ent_type_acc: 0.931\n",
      "[18] train_ent_tag_acc: 0.937\n",
      "[18] val_rels_acc: 0.458\n",
      "[18] val_ent_type_acc: 0.916\n",
      "[18] val_ent_tag_acc: 0.927\n",
      "Optimizing...\n"
     ]
    },
    {
     "name": "stderr",
     "output_type": "stream",
     "text": [
      "100%|████████████████████████████████████████████████████████████████████████████████| 799/799 [14:54<00:00,  1.12s/it]\n"
     ]
    },
    {
     "name": "stdout",
     "output_type": "stream",
     "text": [
      "Evaluating on training data...\n"
     ]
    },
    {
     "name": "stderr",
     "output_type": "stream",
     "text": [
      "100%|████████████████████████████████████████████████████████████████████████████████| 799/799 [01:43<00:00,  7.70it/s]\n"
     ]
    },
    {
     "name": "stdout",
     "output_type": "stream",
     "text": [
      "Evaluating on validation data...\n"
     ]
    },
    {
     "name": "stderr",
     "output_type": "stream",
     "text": [
      "100%|████████████████████████████████████████████████████████████████████████████████| 200/200 [00:22<00:00,  8.79it/s]\n"
     ]
    },
    {
     "name": "stdout",
     "output_type": "stream",
     "text": [
      "[19] relations_loss: 4.08\n",
      "[19] ent_type_loss: 0.222\n",
      "[19] ent_tag_loss: 0.163\n",
      "[19] train_rels_acc: 0.464\n",
      "[19] train_ent_type_acc: 0.926\n",
      "[19] train_ent_tag_acc: 0.933\n",
      "[19] val_rels_acc: 0.5\n",
      "[19] val_ent_type_acc: 0.915\n",
      "[19] val_ent_tag_acc: 0.913\n",
      "Optimizing...\n"
     ]
    },
    {
     "name": "stderr",
     "output_type": "stream",
     "text": [
      "100%|████████████████████████████████████████████████████████████████████████████████| 799/799 [14:44<00:00,  1.11s/it]\n"
     ]
    },
    {
     "name": "stdout",
     "output_type": "stream",
     "text": [
      "Evaluating on training data...\n"
     ]
    },
    {
     "name": "stderr",
     "output_type": "stream",
     "text": [
      "100%|████████████████████████████████████████████████████████████████████████████████| 799/799 [01:41<00:00,  7.90it/s]\n"
     ]
    },
    {
     "name": "stdout",
     "output_type": "stream",
     "text": [
      "Evaluating on validation data...\n"
     ]
    },
    {
     "name": "stderr",
     "output_type": "stream",
     "text": [
      "100%|████████████████████████████████████████████████████████████████████████████████| 200/200 [00:24<00:00,  8.20it/s]\n"
     ]
    },
    {
     "name": "stdout",
     "output_type": "stream",
     "text": [
      "[20] relations_loss: 4.06\n",
      "[20] ent_type_loss: 0.224\n",
      "[20] ent_tag_loss: 0.161\n",
      "[20] train_rels_acc: 0.49\n",
      "[20] train_ent_type_acc: 0.92\n",
      "[20] train_ent_tag_acc: 0.926\n",
      "[20] val_rels_acc: 0.482\n",
      "[20] val_ent_type_acc: 0.909\n",
      "[20] val_ent_tag_acc: 0.912\n",
      "Optimizing...\n"
     ]
    },
    {
     "name": "stderr",
     "output_type": "stream",
     "text": [
      "100%|████████████████████████████████████████████████████████████████████████████████| 799/799 [14:51<00:00,  1.12s/it]\n"
     ]
    },
    {
     "name": "stdout",
     "output_type": "stream",
     "text": [
      "Evaluating on training data...\n"
     ]
    },
    {
     "name": "stderr",
     "output_type": "stream",
     "text": [
      "100%|████████████████████████████████████████████████████████████████████████████████| 799/799 [01:40<00:00,  7.96it/s]\n"
     ]
    },
    {
     "name": "stdout",
     "output_type": "stream",
     "text": [
      "Evaluating on validation data...\n"
     ]
    },
    {
     "name": "stderr",
     "output_type": "stream",
     "text": [
      "100%|████████████████████████████████████████████████████████████████████████████████| 200/200 [00:23<00:00,  8.41it/s]\n"
     ]
    },
    {
     "name": "stdout",
     "output_type": "stream",
     "text": [
      "[21] relations_loss: 4.06\n",
      "[21] ent_type_loss: 0.234\n",
      "[21] ent_tag_loss: 0.175\n",
      "[21] train_rels_acc: 0.502\n",
      "[21] train_ent_type_acc: 0.924\n",
      "[21] train_ent_tag_acc: 0.933\n",
      "[21] val_rels_acc: 0.498\n",
      "[21] val_ent_type_acc: 0.92\n",
      "[21] val_ent_tag_acc: 0.931\n",
      "Optimizing...\n"
     ]
    },
    {
     "name": "stderr",
     "output_type": "stream",
     "text": [
      "100%|████████████████████████████████████████████████████████████████████████████████| 799/799 [14:39<00:00,  1.10s/it]\n"
     ]
    },
    {
     "name": "stdout",
     "output_type": "stream",
     "text": [
      "Evaluating on training data...\n"
     ]
    },
    {
     "name": "stderr",
     "output_type": "stream",
     "text": [
      "100%|████████████████████████████████████████████████████████████████████████████████| 799/799 [01:41<00:00,  7.90it/s]\n"
     ]
    },
    {
     "name": "stdout",
     "output_type": "stream",
     "text": [
      "Evaluating on validation data...\n"
     ]
    },
    {
     "name": "stderr",
     "output_type": "stream",
     "text": [
      "100%|████████████████████████████████████████████████████████████████████████████████| 200/200 [00:23<00:00,  8.39it/s]\n"
     ]
    },
    {
     "name": "stdout",
     "output_type": "stream",
     "text": [
      "[22] relations_loss: 4.04\n",
      "[22] ent_type_loss: 0.224\n",
      "[22] ent_tag_loss: 0.167\n",
      "[22] train_rels_acc: 0.5\n",
      "[22] train_ent_type_acc: 0.926\n",
      "[22] train_ent_tag_acc: 0.935\n",
      "[22] val_rels_acc: 0.468\n",
      "[22] val_ent_type_acc: 0.918\n",
      "[22] val_ent_tag_acc: 0.927\n",
      "Optimizing...\n"
     ]
    },
    {
     "name": "stderr",
     "output_type": "stream",
     "text": [
      "100%|████████████████████████████████████████████████████████████████████████████████| 799/799 [14:27<00:00,  1.09s/it]\n"
     ]
    },
    {
     "name": "stdout",
     "output_type": "stream",
     "text": [
      "Evaluating on training data...\n"
     ]
    },
    {
     "name": "stderr",
     "output_type": "stream",
     "text": [
      "100%|████████████████████████████████████████████████████████████████████████████████| 799/799 [01:40<00:00,  7.97it/s]\n"
     ]
    },
    {
     "name": "stdout",
     "output_type": "stream",
     "text": [
      "Evaluating on validation data...\n"
     ]
    },
    {
     "name": "stderr",
     "output_type": "stream",
     "text": [
      "100%|████████████████████████████████████████████████████████████████████████████████| 200/200 [00:23<00:00,  8.42it/s]\n"
     ]
    },
    {
     "name": "stdout",
     "output_type": "stream",
     "text": [
      "[23] relations_loss: 4.05\n",
      "[23] ent_type_loss: 0.228\n",
      "[23] ent_tag_loss: 0.158\n",
      "[23] train_rels_acc: 0.463\n",
      "[23] train_ent_type_acc: 0.925\n",
      "[23] train_ent_tag_acc: 0.939\n",
      "[23] val_rels_acc: 0.46\n",
      "[23] val_ent_type_acc: 0.924\n",
      "[23] val_ent_tag_acc: 0.922\n",
      "Optimizing...\n"
     ]
    },
    {
     "name": "stderr",
     "output_type": "stream",
     "text": [
      "100%|████████████████████████████████████████████████████████████████████████████████| 799/799 [14:24<00:00,  1.08s/it]\n"
     ]
    },
    {
     "name": "stdout",
     "output_type": "stream",
     "text": [
      "Evaluating on training data...\n"
     ]
    },
    {
     "name": "stderr",
     "output_type": "stream",
     "text": [
      "100%|████████████████████████████████████████████████████████████████████████████████| 799/799 [01:40<00:00,  7.94it/s]\n"
     ]
    },
    {
     "name": "stdout",
     "output_type": "stream",
     "text": [
      "Evaluating on validation data...\n"
     ]
    },
    {
     "name": "stderr",
     "output_type": "stream",
     "text": [
      "100%|████████████████████████████████████████████████████████████████████████████████| 200/200 [00:23<00:00,  8.56it/s]\n"
     ]
    },
    {
     "name": "stdout",
     "output_type": "stream",
     "text": [
      "[24] relations_loss: 4.04\n",
      "[24] ent_type_loss: 0.227\n",
      "[24] ent_tag_loss: 0.165\n",
      "[24] train_rels_acc: 0.482\n",
      "[24] train_ent_type_acc: 0.93\n",
      "[24] train_ent_tag_acc: 0.937\n",
      "[24] val_rels_acc: 0.476\n",
      "[24] val_ent_type_acc: 0.916\n",
      "[24] val_ent_tag_acc: 0.923\n",
      "Optimizing...\n"
     ]
    },
    {
     "name": "stderr",
     "output_type": "stream",
     "text": [
      "100%|████████████████████████████████████████████████████████████████████████████████| 799/799 [13:57<00:00,  1.05s/it]\n"
     ]
    },
    {
     "name": "stdout",
     "output_type": "stream",
     "text": [
      "Evaluating on training data...\n"
     ]
    },
    {
     "name": "stderr",
     "output_type": "stream",
     "text": [
      "100%|████████████████████████████████████████████████████████████████████████████████| 799/799 [01:36<00:00,  8.30it/s]\n"
     ]
    },
    {
     "name": "stdout",
     "output_type": "stream",
     "text": [
      "Evaluating on validation data...\n"
     ]
    },
    {
     "name": "stderr",
     "output_type": "stream",
     "text": [
      "100%|████████████████████████████████████████████████████████████████████████████████| 200/200 [00:26<00:00,  7.52it/s]\n"
     ]
    },
    {
     "name": "stdout",
     "output_type": "stream",
     "text": [
      "[25] relations_loss: 4.05\n",
      "[25] ent_type_loss: 0.231\n",
      "[25] ent_tag_loss: 0.167\n",
      "[25] train_rels_acc: 0.493\n",
      "[25] train_ent_type_acc: 0.923\n",
      "[25] train_ent_tag_acc: 0.934\n",
      "[25] val_rels_acc: 0.523\n",
      "[25] val_ent_type_acc: 0.921\n",
      "[25] val_ent_tag_acc: 0.921\n",
      "Optimizing...\n"
     ]
    },
    {
     "name": "stderr",
     "output_type": "stream",
     "text": [
      "100%|████████████████████████████████████████████████████████████████████████████████| 799/799 [14:12<00:00,  1.07s/it]\n"
     ]
    },
    {
     "name": "stdout",
     "output_type": "stream",
     "text": [
      "Evaluating on training data...\n"
     ]
    },
    {
     "name": "stderr",
     "output_type": "stream",
     "text": [
      "100%|████████████████████████████████████████████████████████████████████████████████| 799/799 [01:38<00:00,  8.15it/s]\n"
     ]
    },
    {
     "name": "stdout",
     "output_type": "stream",
     "text": [
      "Evaluating on validation data...\n"
     ]
    },
    {
     "name": "stderr",
     "output_type": "stream",
     "text": [
      "100%|████████████████████████████████████████████████████████████████████████████████| 200/200 [00:25<00:00,  7.93it/s]\n"
     ]
    },
    {
     "name": "stdout",
     "output_type": "stream",
     "text": [
      "[26] relations_loss: 4.04\n",
      "[26] ent_type_loss: 0.221\n",
      "[26] ent_tag_loss: 0.16\n",
      "[26] train_rels_acc: 0.502\n",
      "[26] train_ent_type_acc: 0.931\n",
      "[26] train_ent_tag_acc: 0.944\n",
      "[26] val_rels_acc: 0.519\n",
      "[26] val_ent_type_acc: 0.91\n",
      "[26] val_ent_tag_acc: 0.929\n",
      "Optimizing...\n"
     ]
    },
    {
     "name": "stderr",
     "output_type": "stream",
     "text": [
      "100%|████████████████████████████████████████████████████████████████████████████████| 799/799 [14:22<00:00,  1.08s/it]\n"
     ]
    },
    {
     "name": "stdout",
     "output_type": "stream",
     "text": [
      "Evaluating on training data...\n"
     ]
    },
    {
     "name": "stderr",
     "output_type": "stream",
     "text": [
      "100%|████████████████████████████████████████████████████████████████████████████████| 799/799 [01:40<00:00,  7.95it/s]\n"
     ]
    },
    {
     "name": "stdout",
     "output_type": "stream",
     "text": [
      "Evaluating on validation data...\n"
     ]
    },
    {
     "name": "stderr",
     "output_type": "stream",
     "text": [
      "100%|████████████████████████████████████████████████████████████████████████████████| 200/200 [00:23<00:00,  8.35it/s]\n"
     ]
    },
    {
     "name": "stdout",
     "output_type": "stream",
     "text": [
      "[27] relations_loss: 4.03\n",
      "[27] ent_type_loss: 0.22\n",
      "[27] ent_tag_loss: 0.158\n",
      "[27] train_rels_acc: 0.51\n",
      "[27] train_ent_type_acc: 0.929\n",
      "[27] train_ent_tag_acc: 0.942\n",
      "[27] val_rels_acc: 0.514\n",
      "[27] val_ent_type_acc: 0.925\n",
      "[27] val_ent_tag_acc: 0.938\n",
      "Optimizing...\n"
     ]
    },
    {
     "name": "stderr",
     "output_type": "stream",
     "text": [
      "100%|████████████████████████████████████████████████████████████████████████████████| 799/799 [14:18<00:00,  1.07s/it]\n"
     ]
    },
    {
     "name": "stdout",
     "output_type": "stream",
     "text": [
      "Evaluating on training data...\n"
     ]
    },
    {
     "name": "stderr",
     "output_type": "stream",
     "text": [
      "100%|████████████████████████████████████████████████████████████████████████████████| 799/799 [01:39<00:00,  8.03it/s]\n"
     ]
    },
    {
     "name": "stdout",
     "output_type": "stream",
     "text": [
      "Evaluating on validation data...\n"
     ]
    },
    {
     "name": "stderr",
     "output_type": "stream",
     "text": [
      "100%|████████████████████████████████████████████████████████████████████████████████| 200/200 [00:22<00:00,  8.80it/s]\n"
     ]
    },
    {
     "name": "stdout",
     "output_type": "stream",
     "text": [
      "[28] relations_loss: 4.02\n",
      "[28] ent_type_loss: 0.216\n",
      "[28] ent_tag_loss: 0.147\n",
      "[28] train_rels_acc: 0.508\n",
      "[28] train_ent_type_acc: 0.93\n",
      "[28] train_ent_tag_acc: 0.93\n",
      "[28] val_rels_acc: 0.47\n",
      "[28] val_ent_type_acc: 0.911\n",
      "[28] val_ent_tag_acc: 0.902\n",
      "Optimizing...\n"
     ]
    },
    {
     "name": "stderr",
     "output_type": "stream",
     "text": [
      "100%|████████████████████████████████████████████████████████████████████████████████| 799/799 [14:07<00:00,  1.06s/it]\n"
     ]
    },
    {
     "name": "stdout",
     "output_type": "stream",
     "text": [
      "Evaluating on training data...\n"
     ]
    },
    {
     "name": "stderr",
     "output_type": "stream",
     "text": [
      "100%|████████████████████████████████████████████████████████████████████████████████| 799/799 [01:39<00:00,  8.06it/s]\n"
     ]
    },
    {
     "name": "stdout",
     "output_type": "stream",
     "text": [
      "Evaluating on validation data...\n"
     ]
    },
    {
     "name": "stderr",
     "output_type": "stream",
     "text": [
      "100%|████████████████████████████████████████████████████████████████████████████████| 200/200 [00:24<00:00,  8.21it/s]\n"
     ]
    },
    {
     "name": "stdout",
     "output_type": "stream",
     "text": [
      "[29] relations_loss: 4.03\n",
      "[29] ent_type_loss: 0.221\n",
      "[29] ent_tag_loss: 0.156\n",
      "[29] train_rels_acc: 0.484\n",
      "[29] train_ent_type_acc: 0.93\n",
      "[29] train_ent_tag_acc: 0.944\n",
      "[29] val_rels_acc: 0.461\n",
      "[29] val_ent_type_acc: 0.923\n",
      "[29] val_ent_tag_acc: 0.928\n",
      "Optimizing...\n"
     ]
    },
    {
     "name": "stderr",
     "output_type": "stream",
     "text": [
      "100%|████████████████████████████████████████████████████████████████████████████████| 799/799 [14:00<00:00,  1.05s/it]\n"
     ]
    },
    {
     "name": "stdout",
     "output_type": "stream",
     "text": [
      "Evaluating on training data...\n"
     ]
    },
    {
     "name": "stderr",
     "output_type": "stream",
     "text": [
      "100%|████████████████████████████████████████████████████████████████████████████████| 799/799 [01:36<00:00,  8.26it/s]\n"
     ]
    },
    {
     "name": "stdout",
     "output_type": "stream",
     "text": [
      "Evaluating on validation data...\n"
     ]
    },
    {
     "name": "stderr",
     "output_type": "stream",
     "text": [
      "100%|████████████████████████████████████████████████████████████████████████████████| 200/200 [00:24<00:00,  8.27it/s]\n"
     ]
    },
    {
     "name": "stdout",
     "output_type": "stream",
     "text": [
      "[30] relations_loss: 4.02\n",
      "[30] ent_type_loss: 0.217\n",
      "[30] ent_tag_loss: 0.149\n",
      "[30] train_rels_acc: 0.525\n",
      "[30] train_ent_type_acc: 0.931\n",
      "[30] train_ent_tag_acc: 0.941\n",
      "[30] val_rels_acc: 0.492\n",
      "[30] val_ent_type_acc: 0.915\n",
      "[30] val_ent_tag_acc: 0.918\n"
     ]
    }
   ],
   "source": [
    "algorithm.train(collection)"
   ]
  },
  {
   "cell_type": "code",
   "execution_count": 5,
   "metadata": {},
   "outputs": [
    {
     "name": "stderr",
     "output_type": "stream",
     "text": [
      "C:\\Program Files (x86)\\Microsoft Visual Studio\\Shared\\Anaconda3_64\\lib\\site-packages\\torch\\serialization.py:292: UserWarning: Couldn't retrieve source code for container of type DependencyJointModel. It won't be checked for correctness upon loading.\n",
      "  \"type \" + obj.__name__ + \". It won't be checked \"\n",
      "C:\\Program Files (x86)\\Microsoft Visual Studio\\Shared\\Anaconda3_64\\lib\\site-packages\\torch\\serialization.py:292: UserWarning: Couldn't retrieve source code for container of type PretrainedEmbedding. It won't be checked for correctness upon loading.\n",
      "  \"type \" + obj.__name__ + \". It won't be checked \"\n",
      "C:\\Program Files (x86)\\Microsoft Visual Studio\\Shared\\Anaconda3_64\\lib\\site-packages\\torch\\serialization.py:292: UserWarning: Couldn't retrieve source code for container of type Embedding. It won't be checked for correctness upon loading.\n",
      "  \"type \" + obj.__name__ + \". It won't be checked \"\n",
      "C:\\Program Files (x86)\\Microsoft Visual Studio\\Shared\\Anaconda3_64\\lib\\site-packages\\torch\\serialization.py:292: UserWarning: Couldn't retrieve source code for container of type CharCNN. It won't be checked for correctness upon loading.\n",
      "  \"type \" + obj.__name__ + \". It won't be checked \"\n",
      "C:\\Program Files (x86)\\Microsoft Visual Studio\\Shared\\Anaconda3_64\\lib\\site-packages\\torch\\serialization.py:292: UserWarning: Couldn't retrieve source code for container of type Sequential. It won't be checked for correctness upon loading.\n",
      "  \"type \" + obj.__name__ + \". It won't be checked \"\n",
      "C:\\Program Files (x86)\\Microsoft Visual Studio\\Shared\\Anaconda3_64\\lib\\site-packages\\torch\\serialization.py:292: UserWarning: Couldn't retrieve source code for container of type Conv1d. It won't be checked for correctness upon loading.\n",
      "  \"type \" + obj.__name__ + \". It won't be checked \"\n",
      "C:\\Program Files (x86)\\Microsoft Visual Studio\\Shared\\Anaconda3_64\\lib\\site-packages\\torch\\serialization.py:292: UserWarning: Couldn't retrieve source code for container of type ELU. It won't be checked for correctness upon loading.\n",
      "  \"type \" + obj.__name__ + \". It won't be checked \"\n",
      "C:\\Program Files (x86)\\Microsoft Visual Studio\\Shared\\Anaconda3_64\\lib\\site-packages\\torch\\serialization.py:292: UserWarning: Couldn't retrieve source code for container of type BiLSTM. It won't be checked for correctness upon loading.\n",
      "  \"type \" + obj.__name__ + \". It won't be checked \"\n",
      "C:\\Program Files (x86)\\Microsoft Visual Studio\\Shared\\Anaconda3_64\\lib\\site-packages\\torch\\serialization.py:292: UserWarning: Couldn't retrieve source code for container of type LSTM. It won't be checked for correctness upon loading.\n",
      "  \"type \" + obj.__name__ + \". It won't be checked \"\n",
      "C:\\Program Files (x86)\\Microsoft Visual Studio\\Shared\\Anaconda3_64\\lib\\site-packages\\torch\\serialization.py:292: UserWarning: Couldn't retrieve source code for container of type Dropout. It won't be checked for correctness upon loading.\n",
      "  \"type \" + obj.__name__ + \". It won't be checked \"\n",
      "C:\\Program Files (x86)\\Microsoft Visual Studio\\Shared\\Anaconda3_64\\lib\\site-packages\\torch\\serialization.py:292: UserWarning: Couldn't retrieve source code for container of type CRF. It won't be checked for correctness upon loading.\n",
      "  \"type \" + obj.__name__ + \". It won't be checked \"\n",
      "C:\\Program Files (x86)\\Microsoft Visual Studio\\Shared\\Anaconda3_64\\lib\\site-packages\\torch\\serialization.py:292: UserWarning: Couldn't retrieve source code for container of type Linear. It won't be checked for correctness upon loading.\n",
      "  \"type \" + obj.__name__ + \". It won't be checked \"\n",
      "C:\\Program Files (x86)\\Microsoft Visual Studio\\Shared\\Anaconda3_64\\lib\\site-packages\\torch\\serialization.py:292: UserWarning: Couldn't retrieve source code for container of type ChildSumTreeLSTM. It won't be checked for correctness upon loading.\n",
      "  \"type \" + obj.__name__ + \". It won't be checked \"\n"
     ]
    }
   ],
   "source": [
    "import torch\n",
    "\n",
    "torch.save(algorithm.model, \"./trained/models/jointmodel.pth\")"
   ]
  },
  {
   "cell_type": "code",
   "execution_count": 22,
   "metadata": {},
   "outputs": [],
   "source": [
    "from scripts.utils import Collection\n",
    "from pathlib import Path\n",
    "from gensim.models.word2vec import Word2VecKeyedVectors\n",
    "\n",
    "train_collection = Collection()\n",
    "train_collection.load(Path(\"C:/Users/ale/Desktop/5to/Tesis/ehealth/data/2020/training/scenario.txt\"))\n",
    "\n",
    "test_collection = Collection()\n",
    "test_collection.load(Path(\"C:/Users/ale/Desktop/5to/Tesis/ehealth/data/2020/development/main/scenario.txt\"))\n",
    "\n",
    "collection = Collection(train_collection.sentences+test_collection.sentences)\n",
    "\n",
    "from gensim.models.word2vec import Word2VecKeyedVectors\n",
    "\n",
    "wv = Word2VecKeyedVectors.load(\"C:/Users/ale/Desktop/5to/Tesis/ehealth/trained/embeddings/wiki_classic/wiki_classic.wv\")"
   ]
  },
  {
   "cell_type": "code",
   "execution_count": 23,
   "metadata": {},
   "outputs": [],
   "source": [
    "from kdtools.datasets import DependencyJointModelDataset"
   ]
  },
  {
   "cell_type": "code",
   "execution_count": 24,
   "metadata": {},
   "outputs": [
    {
     "name": "stdout",
     "output_type": "stream",
     "text": [
      "Loading nlp...\n",
      "Collecting data per sentence...\n"
     ]
    },
    {
     "name": "stderr",
     "output_type": "stream",
     "text": [
      "100%|████████████████████████████████████████████████████████████████████████████████| 999/999 [00:18<00:00, 54.56it/s]\n"
     ]
    },
    {
     "name": "stdout",
     "output_type": "stream",
     "text": [
      "Creating dataset...\n"
     ]
    },
    {
     "name": "stderr",
     "output_type": "stream",
     "text": [
      "100%|███████████████████████████████████████████████████████████████████████████████| 999/999 [00:02<00:00, 419.42it/s]\n"
     ]
    }
   ],
   "source": [
    "dataset = DependencyJointModelDataset(collection, wv)"
   ]
  },
  {
   "cell_type": "code",
   "execution_count": 25,
   "metadata": {},
   "outputs": [],
   "source": [
    "# model = algorithm.model"
   ]
  },
  {
   "cell_type": "code",
   "execution_count": 26,
   "metadata": {},
   "outputs": [
    {
     "data": {
      "text/plain": [
       "<All keys matched successfully>"
      ]
     },
     "execution_count": 26,
     "metadata": {},
     "output_type": "execute_result"
    }
   ],
   "source": [
    "from kdtools.models import DependencyJointModel \n",
    "model = DependencyJointModel(\n",
    "    dataset.embedding_size,\n",
    "    wv,\n",
    "    dataset.no_chars,\n",
    "    50,\n",
    "    dataset.no_dependencies,\n",
    "    50,\n",
    "    25,\n",
    "    25,\n",
    "    300,\n",
    "    300,\n",
    "    0.2,\n",
    "    dataset.no_entity_types,\n",
    "    dataset.no_entity_tags,\n",
    "    dataset.no_relations\n",
    ")\n",
    "model.load_state_dict(torch.load(\"./trained/models/jointmodel.pthdict\"))"
   ]
  },
  {
   "cell_type": "code",
   "execution_count": 27,
   "metadata": {},
   "outputs": [
    {
     "name": "stdout",
     "output_type": "stream",
     "text": [
      "Evaluating on training data...\n"
     ]
    },
    {
     "name": "stderr",
     "output_type": "stream",
     "text": [
      "100%|████████████████████████████████████████████████████████████████████████████████| 800/800 [01:43<00:00,  7.75it/s]\n"
     ]
    },
    {
     "name": "stdout",
     "output_type": "stream",
     "text": [
      "Evaluating on validation data...\n"
     ]
    },
    {
     "name": "stderr",
     "output_type": "stream",
     "text": [
      "100%|████████████████████████████████████████████████████████████████████████████████| 199/199 [00:26<00:00,  7.59it/s]\n"
     ]
    },
    {
     "name": "stdout",
     "output_type": "stream",
     "text": [
      "[1] relations_loss: 0.0\n",
      "[1] ent_type_loss: 0.0\n",
      "[1] ent_tag_loss: 0.0\n",
      "[1] train_rels_acc: 0.521\n",
      "[1] train_ent_type_acc: 0.929\n",
      "[1] train_ent_tag_acc: 0.939\n",
      "[1] val_rels_acc: 0.509\n",
      "[1] val_ent_type_acc: 0.924\n",
      "[1] val_ent_tag_acc: 0.928\n"
     ]
    }
   ],
   "source": [
    "from tqdm import tqdm\n",
    "import torch\n",
    "\n",
    "epoch = 0\n",
    "\n",
    "#log variables\n",
    "running_loss_ent_type = 0\n",
    "running_loss_ent_tag = 0\n",
    "running_loss_relations = 0\n",
    "train_correct_relations = 0\n",
    "train_correct_ent_types = 0\n",
    "train_correct_ent_tags = 0\n",
    "train_total_words = 0\n",
    "train_total_relations = 0\n",
    "val_correct_relations = 0\n",
    "val_correct_ent_types = 0\n",
    "val_correct_ent_tags = 0\n",
    "val_total_words = 0\n",
    "val_total_relations = 0\n",
    "\n",
    "train_data = dataset[:800]\n",
    "val_data = dataset[800:]\n",
    "\n",
    "model.eval()\n",
    "print(\"Evaluating on training data...\")\n",
    "for data in tqdm(train_data):\n",
    "    * X, y_ent_type, y_ent_tag, relations = data\n",
    "\n",
    "    (\n",
    "        word_inputs,\n",
    "        char_inputs,\n",
    "        dependency_inputs,\n",
    "        trees\n",
    "    ) = X\n",
    "\n",
    "    X = (\n",
    "        word_inputs.unsqueeze(0),\n",
    "        char_inputs.unsqueeze(0)\n",
    "    )\n",
    "\n",
    "    sentence_features, out_ent_type, out_ent_tag = model(X)\n",
    "\n",
    "    positive_rels = relations[\"pos\"]\n",
    "    for origin, destination, y_rel in positive_rels:\n",
    "        #positive direction\n",
    "        X = (\n",
    "            sentence_features,\n",
    "            out_ent_type,\n",
    "            out_ent_tag,\n",
    "            dependency_inputs.unsqueeze(0),\n",
    "            trees,\n",
    "            origin,\n",
    "            destination\n",
    "        )\n",
    "\n",
    "        out_rel = model(X, relation=True)\n",
    "        train_correct_relations += int(torch.argmax(out_rel) == y_rel)\n",
    "        train_total_relations += 1\n",
    "\n",
    "    #entity type\n",
    "    train_correct_ent_types += sum(torch.tensor(out_ent_type) == y_ent_type).item()\n",
    "\n",
    "    #entity tags\n",
    "    train_correct_ent_tags += sum(torch.tensor(out_ent_tag) == y_ent_tag).item()\n",
    "\n",
    "    train_total_words += len(out_ent_tag)\n",
    "\n",
    "print(\"Evaluating on validation data...\")\n",
    "for data in tqdm(val_data):\n",
    "    * X, y_ent_type, y_ent_tag, relations = data\n",
    "\n",
    "    (\n",
    "        word_inputs,\n",
    "        char_inputs,\n",
    "        dependency_inputs,\n",
    "        trees\n",
    "    ) = X\n",
    "\n",
    "    X = (\n",
    "        word_inputs.unsqueeze(0),\n",
    "        char_inputs.unsqueeze(0)\n",
    "    )\n",
    "\n",
    "    sentence_features, out_ent_type, out_ent_tag = model(X)\n",
    "\n",
    "    positive_rels = relations[\"pos\"]\n",
    "    for origin, destination, y_rel in positive_rels:\n",
    "        #positive direction\n",
    "        X = (\n",
    "            sentence_features,\n",
    "            out_ent_type,\n",
    "            out_ent_tag,\n",
    "            dependency_inputs.unsqueeze(0),\n",
    "            trees,\n",
    "            origin,\n",
    "            destination\n",
    "        )\n",
    "\n",
    "        out_rel = model(X, relation=True)\n",
    "        val_correct_relations += int(torch.argmax(out_rel) == y_rel)\n",
    "        val_total_relations += 1\n",
    "\n",
    "    #entity type\n",
    "    val_correct_ent_types += sum(torch.tensor(out_ent_type) == y_ent_type).item()\n",
    "\n",
    "    #entity tags\n",
    "    val_correct_ent_tags += sum(torch.tensor(out_ent_tag) == y_ent_tag).item()\n",
    "\n",
    "    val_total_words += len(out_ent_tag)\n",
    "\n",
    "print(f\"[{epoch + 1}] relations_loss: {running_loss_relations / train_total_relations :0.3}\")\n",
    "print(f\"[{epoch + 1}] ent_type_loss: {running_loss_ent_type / train_total_words :0.3}\")\n",
    "print(f\"[{epoch + 1}] ent_tag_loss: {running_loss_ent_tag / train_total_words :0.3}\")\n",
    "print(f\"[{epoch + 1}] train_rels_acc: {train_correct_relations / train_total_relations :0.3}\")\n",
    "print(f\"[{epoch + 1}] train_ent_type_acc: {train_correct_ent_types / train_total_words :0.3}\")\n",
    "print(f\"[{epoch + 1}] train_ent_tag_acc: {train_correct_ent_tags / train_total_words :0.3}\")\n",
    "print(f\"[{epoch + 1}] val_rels_acc: {val_correct_relations / val_total_relations :0.3}\")\n",
    "print(f\"[{epoch + 1}] val_ent_type_acc: {val_correct_ent_types / val_total_words :0.3}\")\n",
    "print(f\"[{epoch + 1}] val_ent_tag_acc: {val_correct_ent_tags / val_total_words :0.3}\")"
   ]
  },
  {
   "cell_type": "code",
   "execution_count": 12,
   "metadata": {},
   "outputs": [],
   "source": [
    "# torch.save(model.state_dict(), \"./trained/models/jointmodel.pthdict\")"
   ]
  },
  {
   "cell_type": "code",
   "execution_count": 29,
   "metadata": {},
   "outputs": [
    {
     "data": {
      "text/plain": [
       "OrderedDict([('word_embedding.embedding.weight',\n",
       "              tensor([[ 0.5360,  1.3597, -0.9245,  ...,  1.6871,  0.2463,  0.1890],\n",
       "                      [ 0.4752,  1.1316,  0.0626,  ...,  0.8675,  0.1427, -0.2476],\n",
       "                      [ 1.8183,  0.7720, -0.8073,  ...,  2.4167, -0.2984,  1.2178],\n",
       "                      ...,\n",
       "                      [-0.0998,  0.0193,  0.1432,  ..., -0.0123,  0.0726,  0.0302],\n",
       "                      [-0.0267,  0.0884,  0.0502,  ..., -0.0325, -0.0183, -0.0186],\n",
       "                      [-0.0964, -0.0093,  0.1140,  ..., -0.0576, -0.0088,  0.0250]])),\n",
       "             ('char_embedding.net.conv_top.weight',\n",
       "              tensor([[[-2.9729, -1.0612, -1.5296],\n",
       "                       [-0.0565,  0.0856,  0.0808],\n",
       "                       [-0.6206, -2.0257,  1.6691],\n",
       "                       ...,\n",
       "                       [ 1.5920, -2.3566,  1.1310],\n",
       "                       [-0.1042, -1.4772, -0.4480],\n",
       "                       [-1.9794,  0.7757, -0.9487]],\n",
       "              \n",
       "                      [[-3.1710,  1.6942, -0.0470],\n",
       "                       [-0.0498, -0.0850,  0.0303],\n",
       "                       [ 0.9265, -1.8159, -2.7826],\n",
       "                       ...,\n",
       "                       [-0.3387,  1.0070, -0.9941],\n",
       "                       [ 1.5329, -0.1041,  0.6328],\n",
       "                       [ 0.2210, -2.8292, -0.9871]],\n",
       "              \n",
       "                      [[-3.2912, -1.2462, -0.1526],\n",
       "                       [-0.0251, -0.0320,  0.0285],\n",
       "                       [-0.2129, -1.6122, -3.1733],\n",
       "                       ...,\n",
       "                       [ 0.5186, -1.1666, -0.3978],\n",
       "                       [-0.1120,  0.0463,  0.5549],\n",
       "                       [-0.9897,  0.6057,  1.0646]],\n",
       "              \n",
       "                      ...,\n",
       "              \n",
       "                      [[-0.3268,  0.5216, -0.8683],\n",
       "                       [ 0.1224,  0.1076, -0.1218],\n",
       "                       [ 1.3297, -2.1516,  0.8465],\n",
       "                       ...,\n",
       "                       [ 0.4880, -2.0681, -1.6093],\n",
       "                       [-0.4072, -0.0903,  0.3338],\n",
       "                       [ 0.3507,  0.9244, -0.4907]],\n",
       "              \n",
       "                      [[-3.8834, -0.0554,  1.6513],\n",
       "                       [-0.0371,  0.0286, -0.1098],\n",
       "                       [-1.6798, -1.4582, -2.6264],\n",
       "                       ...,\n",
       "                       [-0.1674, -2.4287, -0.3402],\n",
       "                       [-0.2958, -0.6712, -1.3287],\n",
       "                       [-1.2259, -0.8458, -2.3743]],\n",
       "              \n",
       "                      [[-1.1783, -1.1774, -2.1207],\n",
       "                       [-0.0910, -0.0097,  0.0305],\n",
       "                       [-0.1997, -0.1327,  1.5657],\n",
       "                       ...,\n",
       "                       [-1.3434, -0.5757, -1.8626],\n",
       "                       [ 0.7702, -0.7739, -0.3364],\n",
       "                       [ 0.9067, -1.0696, -2.1103]]])),\n",
       "             ('char_embedding.net.conv_top.bias',\n",
       "              tensor([-1.0153, -1.3729, -0.3586, -0.6500, -1.2323, -1.7500, -1.5849, -0.1946,\n",
       "                      -0.9318, -2.2312, -1.1258, -1.5065, -1.3698, -2.0795, -0.6838, -0.8882,\n",
       "                      -1.6156, -1.5199, -0.6589, -0.6670, -0.6584, -0.9447, -0.8819, -1.7753,\n",
       "                      -1.5743, -1.2018, -0.4049, -1.5327, -1.1474, -1.7555, -1.2468, -2.1155,\n",
       "                      -1.7280, -1.5567, -1.4657, -0.6658, -1.3798, -0.8453, -0.8485, -1.7840,\n",
       "                      -1.3345, -1.5961, -0.9754, -1.1150, -0.4559, -1.5622, -0.8958, -1.5394,\n",
       "                      -1.2441, -1.1808])),\n",
       "             ('word_bilstm.layer.weight_ih_l0',\n",
       "              tensor([[ 0.0924, -2.5128, -0.0809,  ..., -0.1649, -0.1217, -0.1563],\n",
       "                      [-0.2675,  0.9985,  1.7548,  ...,  2.1703,  0.7730,  0.0519],\n",
       "                      [-0.0847, -0.5474, -0.1141,  ..., -1.3677, -0.7849,  0.1152],\n",
       "                      ...,\n",
       "                      [ 0.1275, -0.6836, -1.4123,  ..., -0.8142, -1.4805,  0.5629],\n",
       "                      [-0.5737, -1.2376,  1.3680,  ..., -1.4868, -1.6427,  0.6057],\n",
       "                      [-0.1979,  0.4982, -0.1966,  ...,  0.4933, -0.5038, -2.6242]])),\n",
       "             ('word_bilstm.layer.weight_hh_l0',\n",
       "              tensor([[ 0.0276,  0.0090, -0.0678,  ..., -0.0197, -0.0744,  0.0328],\n",
       "                      [-0.0040,  0.0104, -0.0239,  ..., -0.0757,  0.0268, -0.0163],\n",
       "                      [ 0.0538, -0.0120, -0.0651,  ..., -0.0605, -0.0394, -0.0181],\n",
       "                      ...,\n",
       "                      [ 0.0084, -0.0723, -0.0032,  ...,  0.0275,  0.0305, -0.0124],\n",
       "                      [ 0.0429,  0.0008,  0.0771,  ..., -0.0305,  0.0308,  0.0611],\n",
       "                      [ 0.0694,  0.0663,  0.0158,  ...,  0.0010,  0.0389, -0.0575]])),\n",
       "             ('word_bilstm.layer.bias_ih_l0',\n",
       "              tensor([ 5.0599e-01, -3.1856e-01, -2.5646e+00,  1.8267e+00, -4.6836e-01,\n",
       "                      -8.0214e-01, -6.0610e-01, -1.2180e+00,  1.8453e+00,  5.9580e-02,\n",
       "                      -6.3372e-01,  9.7428e-02, -2.2482e+00, -9.0763e-01,  2.0511e+00,\n",
       "                       4.4979e-02, -9.5250e-01, -4.8522e-01, -1.4635e+00,  5.1717e-01,\n",
       "                      -7.8665e-01, -5.2904e-01, -3.9067e-01, -1.3462e+00,  1.0258e+00,\n",
       "                      -1.2136e+00, -4.2853e-02,  2.6318e-01,  6.0445e-02, -9.9454e-01,\n",
       "                      -1.8438e+00, -5.1627e-01, -1.2198e+00,  6.4713e-01, -1.0021e+00,\n",
       "                      -2.3188e+00, -7.7276e-01, -1.5054e+00,  9.7531e-02, -2.3783e+00,\n",
       "                      -1.2174e+00, -1.3613e+00,  1.2714e+00, -3.9771e-01,  4.6121e-01,\n",
       "                      -1.1166e+00, -7.9868e-01, -1.3678e+00, -5.4522e-01, -3.5091e+00,\n",
       "                      -1.3520e-01, -1.7023e-02,  7.5028e-01,  2.6954e+00, -1.3099e+00,\n",
       "                       6.0695e-01, -1.4535e+00, -6.6023e-02,  3.6448e-03, -1.3029e+00,\n",
       "                      -4.5580e-01, -1.1504e-01,  5.6964e-01, -1.2296e+00, -1.1060e+00,\n",
       "                      -6.1448e-01, -1.2230e+00, -9.4321e-02, -1.9929e+00, -2.0313e-01,\n",
       "                       7.0568e-01, -3.0894e+00,  1.7432e-01, -1.2658e+00, -2.1856e+00,\n",
       "                      -1.6446e+00, -1.9208e+00, -2.1553e+00,  1.8246e+00,  2.5120e-01,\n",
       "                      -1.5371e+00, -4.7715e-01,  5.4895e-01, -1.2885e+00,  4.6050e-01,\n",
       "                       4.1561e-01, -6.7922e-01, -1.6178e-01,  1.4345e+00,  1.1614e-01,\n",
       "                      -2.0268e+00, -3.3583e-01, -2.3963e+00, -1.8491e+00, -3.0421e-01,\n",
       "                       2.3394e-01, -9.9582e-01, -1.3718e+00,  1.0254e+00, -1.6318e+00,\n",
       "                       5.4833e-01, -3.3860e-01, -4.1541e-01, -1.0008e-01, -2.8168e-01,\n",
       "                       3.8757e-01, -8.2713e-01, -1.4596e+00,  4.2515e-02, -1.7924e+00,\n",
       "                       3.0851e-01, -5.2998e-01, -7.4953e-02, -2.2407e+00,  1.2393e+00,\n",
       "                      -1.9133e+00,  5.6656e-01, -6.1569e-01, -2.0003e-01, -9.5695e-01,\n",
       "                      -7.8065e-01, -2.2669e+00, -5.0827e-01, -1.5499e+00,  1.3864e+00,\n",
       "                      -8.3179e-01,  3.5126e-01,  2.1226e-01, -3.2634e-01, -4.2832e-01,\n",
       "                      -1.5788e-01,  5.8329e-01, -9.4839e-01, -1.2539e+00, -1.1450e+00,\n",
       "                       4.7315e-01, -4.7755e-01, -6.5066e-01, -5.9804e-01, -7.2515e-01,\n",
       "                       1.9815e+00, -1.0922e+00, -2.0188e-01, -1.2893e+00,  9.2638e-01,\n",
       "                       3.8437e-01, -1.0934e+00, -1.3544e+00, -2.4761e+00, -3.0265e-01,\n",
       "                       4.7951e-02,  6.2287e-02, -4.2695e-03,  6.0815e-02, -2.1671e-02,\n",
       "                       4.7247e-02, -4.4873e-02,  5.1486e-02, -1.7365e-02, -1.3445e-02,\n",
       "                       2.0121e-03,  1.3999e-02, -6.7515e-02,  7.6856e-02, -2.2714e-02,\n",
       "                       4.4853e-02, -1.1788e-02,  8.1440e-02, -2.1685e-02,  9.7834e-03,\n",
       "                       4.1560e-02, -3.9577e-02, -3.6945e-02, -3.2848e-02,  7.5217e-02,\n",
       "                      -6.6046e-02, -1.9305e-02, -1.5530e-02,  4.1159e-02, -2.6987e-02,\n",
       "                      -8.0095e-02, -3.2592e-03, -3.4182e-02, -7.0561e-02, -3.2405e-02,\n",
       "                      -7.7607e-02,  2.7750e-02,  3.3912e-02,  1.2042e-02,  5.1240e-02,\n",
       "                      -1.3240e-02,  3.0176e-02, -5.8072e-02, -7.3657e-02, -6.3076e-02,\n",
       "                      -1.9948e-02, -5.4206e-02,  5.5399e-02,  1.6863e-02, -6.9572e-02,\n",
       "                      -1.9965e-02,  6.6505e-02, -4.7541e-02, -5.2108e-02, -1.3203e-02,\n",
       "                      -1.0568e-02, -6.4562e-02, -3.6713e-02,  2.5501e-02, -4.9002e-04,\n",
       "                       4.2400e-02,  3.9618e-02, -5.8185e-02,  6.4282e-02,  2.1934e-02,\n",
       "                      -6.8757e-02, -3.2144e-02,  2.4650e-02,  3.1252e-03,  4.3949e-02,\n",
       "                      -5.1515e-03, -3.5131e-02,  5.9051e-02,  7.2197e-02, -1.6879e-02,\n",
       "                      -3.3864e-02,  6.3919e-02, -1.1281e-02, -4.7977e-02, -5.4075e-02,\n",
       "                      -4.4111e-02,  3.3232e-02, -7.3297e-02,  2.1517e-02,  4.0047e-02,\n",
       "                       5.1237e-02, -4.4539e-02,  2.7988e-02,  5.4173e-02,  1.2976e-02,\n",
       "                      -4.2213e-02, -7.2575e-02, -3.3914e-02,  6.1564e-02,  1.9134e-02,\n",
       "                      -3.2565e-02,  9.6775e-03,  3.3392e-02, -3.7088e-02, -6.0907e-02,\n",
       "                      -2.6214e-02, -7.4964e-02,  6.5242e-02, -2.0616e-02,  3.6839e-02,\n",
       "                      -4.8736e-03,  5.3856e-02,  2.6689e-02,  2.9968e-02, -6.6786e-02,\n",
       "                      -6.6086e-03,  7.1589e-02, -6.4475e-02,  6.2954e-02,  5.3819e-02,\n",
       "                       8.0740e-04, -2.1921e-02,  7.6984e-02, -7.6736e-02, -3.5521e-02,\n",
       "                       2.3444e-02, -4.1611e-02, -2.5457e-02, -3.1416e-02,  2.1056e-02,\n",
       "                       8.0302e-02,  1.5922e-03, -7.7564e-02, -4.1947e-02, -6.0583e-03,\n",
       "                      -1.5190e-02, -6.8021e-02,  1.7987e-02,  5.0225e-02, -1.5776e-02,\n",
       "                       6.4083e-02,  3.2432e-02, -9.1030e-04, -3.6714e-02, -7.3600e-02,\n",
       "                      -5.3901e-02,  3.5102e-02, -1.4906e-02, -9.3623e-04, -3.5912e-02,\n",
       "                       5.7672e-02,  6.5130e-02,  6.0814e-02,  3.9776e-02,  6.0640e-02,\n",
       "                       1.1407e+00,  3.1404e-01, -8.1374e-01, -1.2260e+00, -1.6341e-01,\n",
       "                      -1.0546e+00, -2.8491e-01, -3.6927e-01, -3.9769e-01, -5.7930e-01,\n",
       "                      -6.8647e-01,  1.5956e+00, -3.9646e-01,  7.5554e-01,  1.4671e+00,\n",
       "                      -1.9339e-01,  1.1737e+00,  2.6082e-01,  1.9077e-01, -2.6406e+00,\n",
       "                      -1.2741e+00, -7.3669e-01, -1.4689e+00,  6.5003e-01,  1.4636e+00,\n",
       "                      -5.9989e-01, -1.4523e+00, -8.0889e-01, -1.5021e+00, -7.0326e-01,\n",
       "                       6.2949e-01, -1.2655e+00, -2.7397e-01, -1.3440e+00, -8.2619e-01,\n",
       "                      -5.3306e-01,  1.2440e-01,  7.9284e-01,  4.4837e-01,  8.0311e-01,\n",
       "                       1.6047e+00, -9.7067e-01, -2.2879e+00,  6.2645e-01,  7.4357e-01,\n",
       "                       7.1511e-01,  2.2643e+00,  1.4684e+00,  1.6439e-01,  5.3161e-01,\n",
       "                      -1.5122e-01, -3.5992e-01, -1.3198e+00,  1.4469e+00,  1.0955e+00,\n",
       "                      -7.9236e-01, -2.9532e-02,  1.1917e+00, -5.8949e-01, -1.3368e+00,\n",
       "                      -1.6958e-01, -7.3361e-02, -5.2936e-01,  2.1968e+00, -9.4873e-01,\n",
       "                       1.6663e+00, -3.7723e-01, -1.6839e+00,  7.5918e-01, -1.1904e+00,\n",
       "                      -9.2578e-01, -6.7104e-01,  1.0245e+00,  3.6094e-01, -6.0222e-01,\n",
       "                      -2.2523e+00,  1.6629e+00,  3.7578e-02,  1.9759e+00,  1.6431e-01,\n",
       "                       1.2362e+00,  1.5245e+00, -3.7682e-02, -4.7269e-01, -1.0354e+00,\n",
       "                      -1.2264e+00, -1.9404e+00,  1.0213e+00, -1.4622e+00,  2.7879e-01,\n",
       "                       5.3968e-01,  1.7748e-01, -1.4135e+00, -1.6919e+00, -1.1564e+00,\n",
       "                       1.4867e-01,  3.7530e-01, -3.7380e-02, -1.9168e-01, -2.4905e-01,\n",
       "                      -1.8772e+00,  1.0640e+00,  8.7962e-02, -1.3630e-01, -1.5867e+00,\n",
       "                       8.6340e-01, -4.0645e-01,  1.9672e-01, -7.3470e-01, -1.1554e-01,\n",
       "                       7.6066e-01,  1.0372e+00,  8.3492e-01, -1.8806e-01, -2.4832e-01,\n",
       "                       1.3951e-02, -1.2375e-01, -8.8210e-01, -1.2747e+00, -2.2970e+00,\n",
       "                       1.7164e-01,  6.0608e-01,  1.8371e+00, -1.1807e+00, -1.0656e+00,\n",
       "                       2.5938e-02, -1.5020e+00,  1.4264e+00, -9.1759e-01, -5.7746e-01,\n",
       "                      -9.2749e-01,  1.3978e+00, -1.1951e+00,  9.7528e-02, -3.4627e-01,\n",
       "                      -2.3817e+00,  1.3013e+00,  7.6036e-01, -2.1205e-01,  3.5768e-01,\n",
       "                       9.3960e-01, -3.3271e-01,  2.8121e-01,  1.2726e+00, -1.7218e+00,\n",
       "                      -1.1837e+00, -4.6474e-01,  2.1840e-02,  5.0125e-01, -9.2196e-01,\n",
       "                      -3.4091e-02, -1.1035e+00, -2.0824e+00, -1.6547e+00, -4.6287e-01,\n",
       "                       6.7284e-01, -2.4976e+00, -1.8915e-01, -1.8635e+00, -6.4084e-01,\n",
       "                       2.8758e-02, -1.1949e+00,  9.9664e-01, -5.8827e-01, -1.1381e+00,\n",
       "                      -7.7021e-02,  1.1632e-01, -1.6386e+00, -2.0574e+00,  1.6170e+00,\n",
       "                       1.8083e+00, -6.3845e-01, -1.4316e+00,  5.0043e-01, -1.4225e+00,\n",
       "                      -2.1991e+00, -5.7355e-01, -7.8787e-01, -5.4588e-01, -5.8551e-01,\n",
       "                       2.0828e-02,  3.0879e-01, -3.8581e-01, -1.0732e+00, -1.8985e+00,\n",
       "                       6.8475e-02, -2.1425e+00,  4.1806e-01,  4.3534e-02,  6.7933e-01,\n",
       "                      -1.1945e+00,  3.9795e-02, -1.5225e-01,  1.3085e-01, -1.7872e+00,\n",
       "                      -9.8482e-01,  2.6352e-01, -1.8732e+00, -5.4193e-01, -4.8220e-01,\n",
       "                      -2.1249e+00,  1.8164e-01,  4.3431e-01, -2.4557e+00, -1.0657e+00,\n",
       "                       2.3121e-01, -9.0425e-01, -2.0796e+00, -1.2237e+00, -3.8363e-01,\n",
       "                      -6.6591e-01,  2.8540e-01, -6.1614e-01,  2.1733e+00,  1.1085e-01,\n",
       "                      -1.1143e+00,  6.0829e-01, -1.4572e+00, -5.1930e-01,  1.8941e+00,\n",
       "                      -1.1750e+00, -1.1185e-01, -1.2211e-01, -1.1489e+00, -1.9272e-01,\n",
       "                       6.2844e-01,  8.1530e-01,  6.1810e-01, -1.7691e-01, -4.4926e-01,\n",
       "                       6.3885e-02, -8.5176e-01, -1.6488e+00, -1.6499e+00, -4.0691e-01,\n",
       "                      -1.7583e+00, -4.3977e-01,  4.7577e-01,  4.4676e-01, -3.6492e-01,\n",
       "                       1.1071e+00, -1.4711e-01,  1.2285e+00, -1.5218e+00, -1.1812e+00,\n",
       "                      -1.7055e+00, -1.4389e+00,  7.3143e-02, -2.0346e+00,  1.9019e+00,\n",
       "                      -4.4338e-01, -4.0152e-01,  2.6893e-01,  1.4519e+00, -1.3209e+00,\n",
       "                      -1.7317e+00, -8.3068e-01,  3.0711e-02, -1.8180e+00,  7.6523e-01,\n",
       "                      -1.3354e+00, -1.7435e+00, -6.9043e-01,  1.4519e+00, -1.3425e+00,\n",
       "                      -3.9740e-01, -7.7292e-01, -1.4278e-01,  1.2375e+00,  8.8874e-01,\n",
       "                      -9.1434e-01,  4.1830e-01, -8.0456e-01,  8.2186e-01,  7.6854e-01,\n",
       "                      -2.0660e+00, -1.3209e+00, -1.2140e+00, -5.4648e-01, -8.7848e-01,\n",
       "                      -1.6591e+00, -1.2646e-01, -2.7184e-01, -1.0306e+00, -1.6229e+00,\n",
       "                       8.9783e-02, -1.6361e+00, -6.8156e-01, -2.2427e+00, -1.0260e+00,\n",
       "                      -3.7506e-01, -1.0222e+00,  2.8755e-01, -9.9229e-01, -1.2705e+00,\n",
       "                      -1.5533e+00, -2.3748e+00,  5.3001e-02, -5.7540e-01,  5.3691e-02])),\n",
       "             ('word_bilstm.layer.bias_hh_l0',\n",
       "              tensor([ 5.1301e-01, -4.0485e-01, -2.5053e+00,  1.8170e+00, -5.5015e-01,\n",
       "                      -7.4425e-01, -5.9816e-01, -1.3251e+00,  1.7462e+00,  8.5458e-02,\n",
       "                      -6.4881e-01,  6.7923e-02, -2.2094e+00, -8.7601e-01,  1.9522e+00,\n",
       "                       8.8637e-02, -9.6363e-01, -5.6010e-01, -1.3605e+00,  4.6983e-01,\n",
       "                      -8.4776e-01, -5.3622e-01, -5.0957e-01, -1.2676e+00,  1.1055e+00,\n",
       "                      -1.2677e+00, -3.9681e-02,  1.7282e-01,  1.6780e-01, -1.0319e+00,\n",
       "                      -1.8694e+00, -6.0411e-01, -1.3341e+00,  6.4183e-01, -1.0971e+00,\n",
       "                      -2.2259e+00, -7.1474e-01, -1.3950e+00,  1.2148e-01, -2.3521e+00,\n",
       "                      -1.2481e+00, -1.3849e+00,  1.3140e+00, -4.9212e-01,  4.3386e-01,\n",
       "                      -1.0943e+00, -7.4060e-01, -1.3394e+00, -5.2992e-01, -3.3858e+00,\n",
       "                      -1.3747e-01,  9.0707e-02,  7.0205e-01,  2.6421e+00, -1.2833e+00,\n",
       "                       6.3257e-01, -1.4538e+00, -6.1573e-02,  1.2448e-01, -1.2953e+00,\n",
       "                      -3.8454e-01, -1.1991e-01,  5.3333e-01, -1.3035e+00, -9.7463e-01,\n",
       "                      -6.0649e-01, -1.2315e+00, -5.5255e-02, -2.0011e+00, -1.0015e-01,\n",
       "                       6.7946e-01, -3.0891e+00,  2.5049e-01, -1.3099e+00, -2.2386e+00,\n",
       "                      -1.6270e+00, -1.8299e+00, -2.1087e+00,  1.7937e+00,  2.3305e-01,\n",
       "                      -1.5859e+00, -4.4551e-01,  6.5384e-01, -1.1265e+00,  5.4845e-01,\n",
       "                       3.8023e-01, -7.4579e-01, -2.0094e-01,  1.4031e+00,  7.2722e-02,\n",
       "                      -2.0116e+00, -4.5811e-01, -2.4245e+00, -1.9588e+00, -4.4091e-01,\n",
       "                       3.0625e-01, -9.3633e-01, -1.4888e+00,  9.0070e-01, -1.6347e+00,\n",
       "                       4.4958e-01, -4.7991e-01, -2.9037e-01, -1.1772e-01, -2.6240e-01,\n",
       "                       4.1801e-01, -7.7276e-01, -1.4519e+00,  6.3444e-02, -1.8383e+00,\n",
       "                       3.1864e-01, -4.8663e-01, -1.2300e-01, -2.2738e+00,  1.2757e+00,\n",
       "                      -1.9603e+00,  5.5156e-01, -6.2482e-01, -3.0781e-01, -9.0388e-01,\n",
       "                      -8.7797e-01, -2.4078e+00, -4.9825e-01, -1.5688e+00,  1.3633e+00,\n",
       "                      -8.6783e-01,  3.4573e-01,  2.3890e-01, -3.5962e-01, -5.4571e-01,\n",
       "                      -1.7937e-01,  6.6135e-01, -9.1033e-01, -1.1355e+00, -1.2242e+00,\n",
       "                       4.8727e-01, -3.7136e-01, -6.2918e-01, -4.9331e-01, -7.0793e-01,\n",
       "                       2.0809e+00, -1.0191e+00, -1.6427e-01, -1.2614e+00,  1.0185e+00,\n",
       "                       3.5377e-01, -1.0052e+00, -1.4014e+00, -2.4240e+00, -3.5622e-01,\n",
       "                       2.8882e-02, -7.0406e-02,  6.4635e-02, -5.8585e-02, -1.2569e-02,\n",
       "                      -2.5973e-02, -4.3002e-02,  3.4242e-02, -3.4075e-02, -3.6758e-03,\n",
       "                       8.0163e-03, -5.7038e-02, -5.9468e-02,  3.6258e-02,  4.8636e-02,\n",
       "                       7.4048e-02,  2.2880e-03, -4.8373e-02,  4.7139e-02,  7.3940e-02,\n",
       "                      -4.0639e-02, -6.3596e-02,  3.6862e-02,  3.6190e-02,  3.6675e-02,\n",
       "                      -4.0303e-02,  6.9418e-02,  3.8204e-02, -3.6868e-02, -6.0804e-03,\n",
       "                       2.0094e-02, -5.6796e-02, -5.9882e-02,  6.1919e-02,  6.6583e-02,\n",
       "                       7.4291e-02,  5.1947e-02,  6.7711e-02,  1.1216e-02,  5.0209e-03,\n",
       "                      -2.5675e-02, -3.3359e-03, -4.6671e-02,  3.0992e-02,  2.4157e-02,\n",
       "                       2.6781e-02, -5.8222e-02,  3.8481e-02,  3.7640e-02, -7.4671e-02,\n",
       "                       5.7408e-02, -4.1827e-02, -7.9630e-02, -5.6434e-02,  2.7574e-02,\n",
       "                       3.4395e-02, -7.1626e-02,  2.0143e-02,  6.7384e-02, -1.9940e-02,\n",
       "                      -3.7051e-02,  5.0042e-02,  3.0506e-02,  4.9910e-02,  7.0358e-04,\n",
       "                      -6.5527e-02,  7.1759e-02,  7.6048e-02,  6.3849e-02,  7.9362e-02,\n",
       "                      -5.8434e-02, -8.4736e-03,  1.8086e-03, -7.7925e-02, -3.6266e-03,\n",
       "                       8.1041e-02, -3.2544e-02,  3.7536e-02, -7.4663e-02,  2.9434e-02,\n",
       "                       4.6074e-02, -7.4370e-02,  6.3607e-02, -1.4102e-02, -5.1742e-02,\n",
       "                       2.8954e-02,  1.0123e-02, -5.5779e-02, -4.8274e-02,  2.2462e-02,\n",
       "                       3.5961e-02, -4.0178e-02, -3.8151e-02, -3.0062e-02,  2.9954e-02,\n",
       "                      -4.9982e-02,  6.7127e-02, -7.5272e-02, -8.0335e-02,  3.4374e-02,\n",
       "                      -4.3140e-02, -9.1147e-03,  7.0781e-02,  4.9361e-02, -3.9299e-02,\n",
       "                      -2.8219e-02, -4.2826e-02,  7.3031e-03,  7.9698e-02,  4.6989e-02,\n",
       "                       2.5614e-02, -3.3406e-02,  6.3414e-02, -4.3537e-02,  2.0045e-02,\n",
       "                      -7.8597e-02,  6.0387e-02,  2.4833e-02,  2.4687e-02,  1.7076e-02,\n",
       "                      -1.6789e-02,  5.9193e-02, -4.8689e-02, -1.3814e-02,  3.7648e-02,\n",
       "                       6.4107e-02, -7.1166e-02,  5.6350e-02,  3.9988e-03,  1.0750e-02,\n",
       "                      -2.7340e-02,  3.4794e-02,  6.1035e-03, -4.9093e-02, -6.2207e-02,\n",
       "                      -2.7075e-02, -4.8592e-02,  7.0600e-02, -4.8113e-02, -6.1660e-02,\n",
       "                      -1.1460e-02,  7.8661e-02, -1.2053e-02, -4.5987e-02, -1.4100e-02,\n",
       "                       4.4909e-02, -2.1873e-02, -1.3105e-02,  3.6310e-03, -2.6186e-02,\n",
       "                       1.2911e+00,  4.2956e-01, -8.5602e-01, -1.2523e+00, -2.8171e-01,\n",
       "                      -9.9855e-01, -3.0994e-01, -3.5790e-01, -3.4310e-01, -6.9835e-01,\n",
       "                      -7.4087e-01,  1.6485e+00, -3.6277e-01,  7.0178e-01,  1.5154e+00,\n",
       "                      -3.4888e-01,  1.1915e+00,  3.1009e-01,  1.1876e-01, -2.6368e+00,\n",
       "                      -1.2380e+00, -7.3869e-01, -1.5187e+00,  5.9035e-01,  1.5084e+00,\n",
       "                      -5.5552e-01, -1.4904e+00, -6.6869e-01, -1.3738e+00, -6.0396e-01,\n",
       "                       6.2447e-01, -1.2805e+00, -2.1202e-01, -1.4770e+00, -7.9767e-01,\n",
       "                      -4.9943e-01,  1.0515e-01,  7.4399e-01,  4.6907e-01,  8.4767e-01,\n",
       "                       1.6258e+00, -1.0348e+00, -2.2340e+00,  5.5834e-01,  7.7325e-01,\n",
       "                       7.2418e-01,  2.2409e+00,  1.4662e+00,  1.2456e-01,  5.6830e-01,\n",
       "                      -1.5240e-01, -2.9653e-01, -1.3245e+00,  1.5329e+00,  1.1103e+00,\n",
       "                      -8.1418e-01, -2.1695e-02,  1.1252e+00, -5.1519e-01, -1.4229e+00,\n",
       "                      -1.3236e-01, -9.3221e-02, -5.9545e-01,  2.1715e+00, -9.3688e-01,\n",
       "                       1.6684e+00, -4.9086e-01, -1.6473e+00,  8.7586e-01, -1.2724e+00,\n",
       "                      -9.1177e-01, -5.9848e-01,  9.7089e-01,  2.5410e-01, -6.5935e-01,\n",
       "                      -2.2134e+00,  1.7616e+00,  4.9831e-02,  1.9722e+00,  2.7100e-01,\n",
       "                       1.2519e+00,  1.6273e+00,  5.7487e-02, -4.6419e-01, -1.0298e+00,\n",
       "                      -1.3024e+00, -1.9598e+00,  9.7066e-01, -1.5311e+00,  2.1968e-01,\n",
       "                       4.4584e-01,  7.5558e-02, -1.3213e+00, -1.6983e+00, -1.1279e+00,\n",
       "                       1.5331e-01,  3.3229e-01, -1.4009e-01, -1.8348e-01, -3.5081e-01,\n",
       "                      -1.7207e+00,  1.0083e+00,  5.1985e-02, -1.4169e-01, -1.5204e+00,\n",
       "                       9.4536e-01, -4.5797e-01,  3.9955e-02, -7.3765e-01, -4.0853e-02,\n",
       "                       7.8054e-01,  9.7524e-01,  8.4135e-01, -2.1755e-01, -2.4586e-01,\n",
       "                       8.8359e-02, -1.7749e-01, -1.0154e+00, -1.2699e+00, -2.2861e+00,\n",
       "                       8.4647e-02,  7.3661e-01,  1.7462e+00, -1.2747e+00, -1.1793e+00,\n",
       "                       1.0255e-01, -1.5271e+00,  1.4440e+00, -8.8360e-01, -5.3193e-01,\n",
       "                      -8.9112e-01,  1.3683e+00, -1.2206e+00,  1.5102e-01, -2.8922e-01,\n",
       "                      -2.3679e+00,  1.3947e+00,  7.3124e-01, -2.1274e-01,  4.8243e-01,\n",
       "                       1.0711e+00, -3.3335e-01,  4.0260e-01,  1.2395e+00, -1.8253e+00,\n",
       "                      -1.1699e+00, -4.8922e-01, -4.8514e-02,  4.7446e-01, -1.0436e+00,\n",
       "                      -5.4605e-02, -1.1641e+00, -2.0761e+00, -1.6385e+00, -3.8711e-01,\n",
       "                       7.1905e-01, -2.6380e+00, -2.3844e-01, -1.8441e+00, -5.6790e-01,\n",
       "                       1.5834e-01, -1.2238e+00,  9.8837e-01, -4.6115e-01, -1.1318e+00,\n",
       "                       2.5668e-02,  8.7305e-02, -1.6525e+00, -2.0629e+00,  1.6435e+00,\n",
       "                       1.7609e+00, -5.5709e-01, -1.4011e+00,  5.7966e-01, -1.4590e+00,\n",
       "                      -2.2612e+00, -5.4053e-01, -8.4497e-01, -5.4326e-01, -5.9547e-01,\n",
       "                      -7.5492e-02,  4.0574e-01, -3.8157e-01, -1.0618e+00, -1.9823e+00,\n",
       "                       1.2924e-01, -2.2251e+00,  4.2857e-01, -2.8632e-02,  6.4691e-01,\n",
       "                      -1.2559e+00, -5.3086e-02, -1.2777e-01, -1.3161e-02, -1.8425e+00,\n",
       "                      -9.5695e-01,  3.2997e-01, -1.8209e+00, -5.7151e-01, -5.1974e-01,\n",
       "                      -2.2327e+00,  2.0385e-01,  4.2096e-01, -2.4150e+00, -1.1493e+00,\n",
       "                       1.9662e-01, -9.2148e-01, -1.9636e+00, -1.1856e+00, -3.9366e-01,\n",
       "                      -6.0671e-01,  2.3788e-01, -5.5491e-01,  2.2133e+00,  1.4396e-01,\n",
       "                      -1.0321e+00,  5.0857e-01, -1.3437e+00, -4.2055e-01,  1.9226e+00,\n",
       "                      -1.1756e+00, -5.7487e-02, -6.5801e-02, -1.2071e+00, -2.0276e-01,\n",
       "                       5.0739e-01,  8.1273e-01,  6.5367e-01, -2.4255e-01, -3.8858e-01,\n",
       "                       1.7180e-02, -9.5270e-01, -1.6967e+00, -1.5852e+00, -4.3094e-01,\n",
       "                      -1.6235e+00, -4.1311e-01,  4.4261e-01,  4.8297e-01, -5.0744e-01,\n",
       "                       1.1010e+00, -1.2527e-01,  1.2127e+00, -1.3889e+00, -1.1724e+00,\n",
       "                      -1.7015e+00, -1.3946e+00,  1.2577e-01, -2.0367e+00,  1.9603e+00,\n",
       "                      -3.8976e-01, -4.2525e-01,  2.1508e-01,  1.3593e+00, -1.3998e+00,\n",
       "                      -1.7675e+00, -7.2747e-01, -1.1633e-01, -1.8718e+00,  8.5208e-01,\n",
       "                      -1.3568e+00, -1.8310e+00, -6.7434e-01,  1.3665e+00, -1.3150e+00,\n",
       "                      -3.4080e-01, -7.6928e-01, -2.3814e-01,  1.3339e+00,  9.6932e-01,\n",
       "                      -8.6290e-01,  3.9742e-01, -6.9356e-01,  8.7337e-01,  8.6955e-01,\n",
       "                      -2.0113e+00, -1.3795e+00, -1.2427e+00, -5.2950e-01, -8.5172e-01,\n",
       "                      -1.6803e+00, -7.3213e-02, -3.5928e-01, -9.7109e-01, -1.6129e+00,\n",
       "                       1.7101e-02, -1.6309e+00, -6.0760e-01, -2.2339e+00, -1.0348e+00,\n",
       "                      -3.2613e-01, -9.0751e-01,  2.1810e-01, -9.3567e-01, -1.2388e+00,\n",
       "                      -1.4845e+00, -2.3369e+00,  7.6606e-03, -5.1107e-01,  1.3173e-01])),\n",
       "             ('word_bilstm.layer.weight_ih_l0_reverse',\n",
       "              tensor([[-0.7652,  0.1604,  0.0541,  ..., -2.2782, -0.2927, -0.7777],\n",
       "                      [ 0.4902, -1.0536, -0.8484,  ...,  0.1999,  0.8254, -2.4580],\n",
       "                      [-1.0495,  0.5306, -0.2150,  ..., -0.2606,  1.6181, -3.6366],\n",
       "                      ...,\n",
       "                      [ 2.3309, -0.2765, -0.9144,  ..., -1.0039, -1.1017,  1.3719],\n",
       "                      [ 1.2131, -2.4626, -2.3138,  ..., -1.4409, -1.3321, -2.1593],\n",
       "                      [ 0.3073, -0.2628,  0.6764,  ..., -1.4060, -1.5738,  0.6784]])),\n",
       "             ('word_bilstm.layer.weight_hh_l0_reverse',\n",
       "              tensor([[ 0.0629,  0.0699,  0.0052,  ..., -0.0785,  0.0494, -0.0594],\n",
       "                      [ 0.0700,  0.0753, -0.0660,  ..., -0.0596, -0.0360,  0.0155],\n",
       "                      [ 0.0741,  0.0297,  0.0521,  ..., -0.0516, -0.0663,  0.0731],\n",
       "                      ...,\n",
       "                      [ 0.0496,  0.0009, -0.0055,  ..., -0.0252,  0.0799,  0.0718],\n",
       "                      [-0.0221, -0.0219, -0.0021,  ...,  0.0576,  0.0787, -0.0660],\n",
       "                      [-0.0107,  0.0294, -0.0224,  ..., -0.0378, -0.0498, -0.0024]])),\n",
       "             ('word_bilstm.layer.bias_ih_l0_reverse',\n",
       "              tensor([-5.5603e-01,  4.1330e-01, -7.5391e-01, -1.7874e+00,  6.6196e-01,\n",
       "                      -6.6437e-01,  9.2604e-02,  6.0486e-01,  1.5361e+00, -5.3259e-02,\n",
       "                       7.1799e-01, -1.3764e+00, -3.7842e-01, -4.5329e-01, -3.2175e-01,\n",
       "                       2.1878e-01, -1.5759e+00, -1.1617e+00, -5.5515e-01,  1.2743e+00,\n",
       "                       4.6382e-01, -9.1120e-01,  1.9745e-01, -2.2655e+00, -2.6147e-01,\n",
       "                      -1.3618e+00,  1.1940e+00, -1.4264e+00,  5.6472e-01, -8.7360e-01,\n",
       "                       4.1435e-01, -9.8797e-02, -6.0075e-01, -1.6927e+00,  1.0320e+00,\n",
       "                      -1.3962e+00, -4.6090e-01, -1.9431e+00, -6.6587e-01, -6.1163e-01,\n",
       "                      -1.5655e+00, -3.4323e-01, -1.6987e+00,  6.5523e-01, -5.9768e-01,\n",
       "                       3.7293e-01,  5.2021e-01,  6.8842e-01, -4.9128e-01, -3.6923e-01,\n",
       "                      -2.1992e+00,  8.6197e-01, -2.0557e+00,  5.1722e-01,  1.8975e+00,\n",
       "                       7.7801e-01, -4.2409e-01, -1.3463e-01,  9.9434e-01, -5.9537e-01,\n",
       "                       2.3232e-01, -1.6612e+00, -1.1889e+00,  2.3792e-01, -5.7940e-01,\n",
       "                      -1.7556e+00, -3.1184e-01, -1.6696e+00,  2.0118e+00, -1.7412e+00,\n",
       "                      -8.6181e-01, -1.2824e+00, -1.8265e+00, -1.2209e+00, -2.0661e+00,\n",
       "                      -3.0716e-01, -1.9902e-01, -2.8960e+00,  4.5195e-01,  7.2123e-01,\n",
       "                      -5.2330e-01, -2.8935e-01, -5.9858e-01, -2.7754e+00,  6.8758e-01,\n",
       "                       5.5425e-02, -1.2355e+00, -7.1795e-01, -8.9312e-01, -6.6337e-02,\n",
       "                      -4.4401e-01, -2.1876e-02, -1.4521e+00, -1.3623e+00, -4.8027e-02,\n",
       "                      -5.6584e-01, -4.8097e-01,  4.9167e-01, -6.3152e-01, -7.3820e-01,\n",
       "                      -1.0511e+00,  1.8662e-03,  1.6235e-01, -8.6017e-01, -2.6525e+00,\n",
       "                      -9.7894e-01, -8.4970e-01,  3.9135e-01, -7.5497e-01,  4.6172e-01,\n",
       "                      -9.5359e-01, -1.0166e+00, -3.3728e-01,  3.2796e-02,  1.5787e+00,\n",
       "                      -8.6249e-02, -5.1807e-01, -2.1406e-01, -3.0234e-01, -1.9372e+00,\n",
       "                       1.1258e+00, -1.8700e+00, -2.0723e-01, -1.3427e+00, -9.5255e-02,\n",
       "                      -1.3576e+00,  1.1032e+00, -8.9241e-01, -5.3374e-01, -1.4615e+00,\n",
       "                      -2.5509e+00,  6.0095e-01,  1.7756e+00, -2.7313e+00, -2.0255e+00,\n",
       "                      -6.9927e-01,  5.6401e-01, -6.7844e-01,  6.4106e-01, -1.6924e+00,\n",
       "                      -1.3219e-01, -2.6728e-01, -1.9981e+00, -1.6008e-01, -6.9001e-01,\n",
       "                      -6.3876e-02, -3.9023e-01, -3.0645e-01,  1.4516e-01, -1.6685e+00,\n",
       "                      -2.0347e-02, -4.7059e-02,  6.1487e-02, -3.7734e-02, -7.1714e-02,\n",
       "                      -5.9709e-02,  8.0512e-02, -8.2858e-03,  4.9993e-02, -1.4764e-02,\n",
       "                      -6.1343e-02, -3.1728e-02, -4.0798e-02,  3.2207e-03,  4.3847e-02,\n",
       "                      -5.4691e-02, -3.1445e-02,  5.4337e-02, -3.3731e-02,  3.7961e-02,\n",
       "                      -5.6709e-02, -6.3662e-02,  2.7849e-02, -6.0213e-02, -7.5249e-02,\n",
       "                       6.7123e-02, -3.4526e-02, -4.4850e-02, -1.1360e-02,  7.3486e-02,\n",
       "                       2.3387e-02,  3.9387e-02,  4.9592e-02,  5.6828e-03, -5.4802e-02,\n",
       "                      -4.9988e-02,  7.2430e-02,  4.0791e-02,  6.6613e-02,  6.9908e-02,\n",
       "                       6.7168e-02,  2.9947e-02, -6.2278e-02, -4.2451e-02,  1.4462e-02,\n",
       "                      -4.9377e-02, -2.9991e-02, -7.0833e-02,  4.3638e-04,  6.9944e-02,\n",
       "                      -6.8366e-02, -5.4127e-02,  1.5035e-02, -4.2897e-02,  1.6995e-02,\n",
       "                      -2.3381e-02,  1.5122e-02,  5.4867e-02, -9.5051e-03,  3.6545e-02,\n",
       "                       2.9021e-02,  5.4329e-02,  6.2031e-02, -2.5752e-02,  2.1973e-02,\n",
       "                      -1.0619e-02,  2.9623e-03,  6.8143e-02,  4.6813e-02,  3.3630e-02,\n",
       "                       2.1533e-02, -3.4614e-02,  3.8390e-02, -8.0554e-03,  5.4872e-02,\n",
       "                       1.8283e-02,  3.7308e-02, -2.3959e-02,  3.5652e-02,  7.4170e-02,\n",
       "                       7.8535e-02, -7.3669e-03, -6.4070e-02, -3.7513e-02,  2.0655e-04,\n",
       "                       4.1460e-02,  6.7442e-02,  8.0155e-02,  6.8273e-02, -2.3022e-02,\n",
       "                      -8.1634e-02,  5.5764e-02, -7.5857e-02, -6.1757e-02,  5.0820e-02,\n",
       "                      -2.7540e-02,  3.8240e-02,  6.0751e-02,  7.4515e-02,  7.6589e-02,\n",
       "                      -5.8445e-02, -8.1563e-02, -1.8688e-02,  7.4203e-02, -2.3552e-02,\n",
       "                      -1.1205e-02,  5.3160e-02, -1.3354e-02,  5.4752e-02,  4.0642e-02,\n",
       "                      -2.6466e-02, -6.1522e-02,  9.0971e-03,  7.7540e-02, -7.9220e-02,\n",
       "                      -7.5629e-02,  3.9190e-02,  5.5886e-02,  4.1804e-03, -2.3691e-02,\n",
       "                      -5.1800e-02,  6.6441e-03,  7.4173e-02, -1.4778e-02,  2.6471e-02,\n",
       "                      -1.2586e-02,  1.7779e-02,  6.9038e-02, -1.9060e-02, -7.0783e-02,\n",
       "                      -2.5251e-02, -5.7702e-02,  4.9160e-02, -2.5635e-02,  2.5427e-02,\n",
       "                       4.9330e-02,  3.8113e-02, -3.8731e-02,  3.7059e-02, -1.2952e-02,\n",
       "                       4.9647e-02, -3.6751e-02,  3.4918e-02,  4.6221e-02,  4.4378e-02,\n",
       "                       1.7519e-02, -7.5987e-02, -2.7444e-02,  5.1416e-02,  5.6838e-02,\n",
       "                       2.8441e-01, -6.6345e-01,  4.6695e-01, -2.8428e-01,  2.1169e+00,\n",
       "                      -2.0599e+00, -9.9268e-02,  2.2705e+00,  1.1900e-01,  3.7585e-01,\n",
       "                      -9.4464e-02,  6.7287e-01, -2.9441e-02,  3.9244e-03,  4.8692e-01,\n",
       "                       3.8573e-01, -1.3709e+00,  5.7857e-01, -8.4753e-01, -1.2824e-01,\n",
       "                      -6.7268e-01,  4.7818e-01, -1.5708e+00, -6.0559e-02,  1.1169e+00,\n",
       "                       3.1264e-01, -1.5067e+00,  1.3490e+00, -1.5486e+00, -1.0520e+00,\n",
       "                      -2.5671e+00, -1.0809e+00, -4.7784e-01,  1.8073e-01,  1.5073e+00,\n",
       "                       2.6738e-01, -3.6653e-01, -4.9826e-01,  2.9500e-01, -1.9493e+00,\n",
       "                       3.5522e-01,  4.4181e-01,  2.3407e-01, -8.2074e-02, -4.5770e-01,\n",
       "                      -1.6457e+00, -9.4813e-01,  1.5550e+00, -4.0712e-01, -8.4326e-01,\n",
       "                       2.3916e-01, -2.4339e+00,  1.1069e+00,  7.3387e-01, -1.9627e+00,\n",
       "                       3.3283e-01,  2.2455e-01, -1.3660e+00, -1.9879e+00, -2.0965e+00,\n",
       "                      -9.2450e-01,  4.0447e-01,  2.7464e-01, -1.6257e+00,  1.5467e+00,\n",
       "                      -3.8369e-01,  1.5367e+00, -5.2595e-01, -8.1988e-02,  9.5761e-01,\n",
       "                      -1.0608e-01,  2.2510e-01,  2.4812e-01,  2.1387e-01,  8.8367e-01,\n",
       "                       2.9091e-02, -7.7211e-02,  4.0580e-01,  6.0459e-01,  1.1611e+00,\n",
       "                       1.5052e+00,  1.7017e+00, -1.2051e+00,  1.3696e+00,  1.2647e-01,\n",
       "                      -1.2050e+00,  6.8444e-01, -4.3106e-01,  1.2328e-01, -2.0526e-01,\n",
       "                       2.6324e-01,  1.3938e+00, -1.0415e+00, -4.6248e-01,  2.5973e+00,\n",
       "                      -7.0597e-01,  1.7947e+00,  7.8989e-02, -9.7599e-02,  2.1080e+00,\n",
       "                       4.6342e-02, -1.2815e+00, -1.0431e+00, -9.5995e-01, -9.0442e-02,\n",
       "                      -1.8504e+00, -3.2753e-02, -1.1111e+00,  1.0049e+00, -1.1687e+00,\n",
       "                       1.1718e+00, -1.5478e+00, -1.2147e+00,  1.1074e+00,  1.4481e+00,\n",
       "                       4.9829e-02, -6.0438e-02,  1.7080e+00,  3.9182e-01,  5.3163e-01,\n",
       "                       1.3570e+00,  1.6573e-01,  1.6468e-01, -9.7491e-02,  1.0603e+00,\n",
       "                       7.7305e-01,  5.4746e-01,  6.7915e-01,  3.8104e-01,  9.4909e-01,\n",
       "                       8.8260e-01,  1.4988e-01, -1.1472e+00,  4.9622e-01, -1.1817e+00,\n",
       "                      -1.1486e+00, -1.8516e+00,  4.9063e-01, -8.1117e-01,  1.5616e-01,\n",
       "                       4.9884e-01, -9.2509e-02,  1.5622e+00, -2.1474e-01, -3.8366e-01,\n",
       "                      -6.4262e-01, -5.5060e-01,  6.5563e-01, -2.0527e+00, -9.4500e-01,\n",
       "                      -1.1055e+00, -3.0969e-01,  6.4395e-01, -1.4492e+00, -5.0059e-01,\n",
       "                      -2.1667e+00, -3.1105e+00, -6.6470e-01, -2.0643e+00,  5.6818e-01,\n",
       "                      -1.8008e+00,  8.1843e-01, -5.5408e-02, -1.0712e+00, -1.6692e+00,\n",
       "                       9.3403e-01, -1.4631e+00, -1.1030e+00,  9.1232e-02, -4.3488e-01,\n",
       "                      -2.4194e+00,  4.4504e-01, -1.1221e+00,  3.4890e-01, -1.0142e+00,\n",
       "                      -2.7071e-02, -1.9646e+00, -1.0635e+00,  7.6129e-01, -4.7946e-01,\n",
       "                      -9.6244e-01, -6.5872e-01, -1.7061e+00,  5.7185e-01, -2.3101e-01,\n",
       "                      -1.2362e+00,  1.6465e+00,  3.3463e-02, -1.2773e+00,  5.6300e-01,\n",
       "                       7.3057e-01, -1.4285e+00,  2.0702e+00, -1.7569e+00, -1.3521e+00,\n",
       "                      -1.6033e+00,  2.6585e-01,  1.1755e-01,  1.4572e-01,  7.2541e-01,\n",
       "                      -1.1471e+00,  1.0456e-01, -1.6669e-01,  3.0287e-01, -7.0172e-01,\n",
       "                      -3.9216e-01, -5.8727e-01, -5.9934e-01, -1.4900e+00,  4.3215e-01,\n",
       "                      -2.6364e-01, -2.4540e+00, -1.8830e+00,  3.1648e+00, -1.5764e+00,\n",
       "                      -1.6633e+00,  1.6064e+00, -6.6132e-01,  6.9215e-01,  1.2715e-01,\n",
       "                      -1.7777e+00,  9.2126e-01, -8.6495e-02, -1.7209e-01,  1.1541e+00,\n",
       "                      -2.1442e+00,  7.2236e-01, -8.0337e-01, -4.7162e-01,  3.0125e-01,\n",
       "                      -6.3181e-01,  7.3366e-01,  4.7034e-01,  5.1343e-02, -2.3327e+00,\n",
       "                      -2.5198e+00,  7.7156e-01, -2.3186e+00, -7.5462e-01, -1.9281e+00,\n",
       "                      -1.0058e-01, -1.0775e+00, -1.5428e+00, -8.3459e-01,  8.0665e-01,\n",
       "                      -1.7630e+00, -1.4366e+00, -1.6528e+00,  2.8954e+00, -1.1011e-01,\n",
       "                       2.1175e-01, -1.2516e+00, -3.9400e-01, -2.0913e+00,  3.6866e-01,\n",
       "                      -1.1568e+00,  1.0126e+00, -7.8848e-02, -8.4848e-01, -2.0372e+00,\n",
       "                       1.2755e+00, -1.3337e+00, -4.0085e-01,  1.8130e-01,  8.0476e-02,\n",
       "                      -1.2999e+00, -4.5312e-01,  4.8493e-01, -1.3310e+00,  8.4605e-01,\n",
       "                      -1.1934e+00, -1.2849e+00, -2.1764e+00, -1.8863e-01, -1.5552e+00,\n",
       "                      -3.3178e-01, -2.9568e+00, -1.1192e+00, -1.2598e+00, -3.4560e-01,\n",
       "                      -2.3274e-01, -2.5334e+00, -1.2754e+00,  1.2292e+00, -9.1302e-01,\n",
       "                      -2.1215e+00, -5.2237e-01, -2.2834e+00, -8.9454e-01, -5.8632e-01,\n",
       "                       8.4224e-02,  2.0418e+00, -6.8858e-01, -2.3042e-01, -2.4673e+00,\n",
       "                       7.7019e-01, -1.1155e-02, -4.2234e-01, -2.2380e+00, -1.3231e+00])),\n",
       "             ('word_bilstm.layer.bias_hh_l0_reverse',\n",
       "              tensor([-4.3032e-01,  3.1242e-01, -7.4042e-01, -1.8044e+00,  6.1495e-01,\n",
       "                      -6.0478e-01,  3.1033e-02,  6.4825e-01,  1.4152e+00, -9.1455e-02,\n",
       "                       5.7967e-01, -1.2607e+00, -3.4489e-01, -5.0868e-01, -3.2369e-01,\n",
       "                       2.9973e-01, -1.4651e+00, -1.0552e+00, -5.0688e-01,  1.2914e+00,\n",
       "                       5.6361e-01, -8.9540e-01,  2.1883e-01, -2.2892e+00, -2.9474e-01,\n",
       "                      -1.3616e+00,  1.2015e+00, -1.4087e+00,  4.3534e-01, -8.6217e-01,\n",
       "                       4.5062e-01, -5.9687e-02, -5.8042e-01, -1.6645e+00,  1.0932e+00,\n",
       "                      -1.4845e+00, -4.9623e-01, -1.9573e+00, -6.4715e-01, -5.7571e-01,\n",
       "                      -1.5710e+00, -4.0380e-01, -1.6113e+00,  7.0499e-01, -6.1562e-01,\n",
       "                       2.9580e-01,  5.5680e-01,  6.4719e-01, -6.1896e-01, -2.6978e-01,\n",
       "                      -2.2142e+00,  8.4432e-01, -2.2108e+00,  5.2444e-01,  1.9457e+00,\n",
       "                       6.2725e-01, -4.6031e-01, -2.4301e-01,  1.0519e+00, -6.9660e-01,\n",
       "                       2.5271e-01, -1.6606e+00, -1.1517e+00,  3.4217e-01, -6.5948e-01,\n",
       "                      -1.7105e+00, -4.1405e-01, -1.6896e+00,  2.0655e+00, -1.7911e+00,\n",
       "                      -9.0497e-01, -1.3000e+00, -1.8941e+00, -1.2191e+00, -1.9660e+00,\n",
       "                      -2.7458e-01, -1.7355e-01, -2.8825e+00,  4.3397e-01,  7.0581e-01,\n",
       "                      -5.6231e-01, -2.1109e-01, -6.8572e-01, -2.9029e+00,  6.8892e-01,\n",
       "                       1.7071e-01, -1.3502e+00, -7.5526e-01, -8.4758e-01, -1.6343e-01,\n",
       "                      -3.0907e-01, -1.2760e-01, -1.4395e+00, -1.2687e+00, -3.5490e-02,\n",
       "                      -4.7547e-01, -4.7873e-01,  5.4946e-01, -6.5364e-01, -7.1307e-01,\n",
       "                      -1.0697e+00,  4.5045e-02,  1.0913e-01, -7.8095e-01, -2.6713e+00,\n",
       "                      -9.7034e-01, -8.5814e-01,  3.6165e-01, -8.9235e-01,  5.0574e-01,\n",
       "                      -1.0566e+00, -1.0310e+00, -2.8328e-01,  5.0858e-02,  1.6489e+00,\n",
       "                      -4.8407e-02, -5.5610e-01, -2.3278e-01, -4.2745e-01, -1.8509e+00,\n",
       "                       1.2018e+00, -1.7639e+00, -2.7641e-01, -1.4118e+00, -4.7840e-02,\n",
       "                      -1.3838e+00,  1.2070e+00, -8.7644e-01, -4.7566e-01, -1.5236e+00,\n",
       "                      -2.5850e+00,  4.8013e-01,  1.6379e+00, -2.6919e+00, -1.9982e+00,\n",
       "                      -5.6624e-01,  6.9877e-01, -5.8592e-01,  6.4662e-01, -1.7444e+00,\n",
       "                      -1.6367e-01, -2.1389e-01, -1.9065e+00, -1.8962e-01, -6.6344e-01,\n",
       "                      -2.2083e-02, -3.4375e-01, -2.5437e-01,  2.4590e-01, -1.7274e+00,\n",
       "                      -2.2195e-02,  3.5902e-02, -3.4034e-02, -2.6806e-02, -6.1253e-02,\n",
       "                       6.5222e-02,  6.8910e-02,  1.9598e-03,  5.9353e-02,  6.9577e-02,\n",
       "                       7.1764e-02,  5.1753e-03, -4.1324e-02,  1.4820e-02,  7.5990e-02,\n",
       "                      -7.5503e-02,  7.4223e-02, -6.8043e-02,  2.3355e-02, -2.8823e-02,\n",
       "                      -2.4580e-02, -5.9708e-02, -2.6874e-02, -1.9699e-02, -6.9990e-02,\n",
       "                       5.1365e-02, -3.5505e-02,  3.3653e-02,  3.6507e-02,  6.3864e-02,\n",
       "                       4.0472e-02, -1.6119e-02, -5.2641e-02, -5.1620e-02, -4.8567e-02,\n",
       "                       2.7596e-02,  1.4796e-02,  6.7229e-02,  6.2459e-02,  4.2323e-02,\n",
       "                      -9.6169e-03, -3.3204e-04, -1.8733e-02,  5.8159e-02, -7.5345e-02,\n",
       "                      -4.8851e-02, -2.9203e-02, -2.2374e-02,  5.6736e-05, -3.0583e-02,\n",
       "                      -3.8069e-02, -2.7701e-02,  4.3497e-02, -5.2904e-02, -6.7916e-02,\n",
       "                      -7.8935e-03, -3.5828e-02,  2.7581e-02,  2.3087e-03, -5.9837e-02,\n",
       "                      -3.0870e-02, -4.8429e-03,  3.6030e-02, -3.2576e-02,  4.7896e-02,\n",
       "                      -4.4964e-02, -7.7349e-02, -7.7501e-02,  7.9891e-02,  5.4470e-02,\n",
       "                       4.3603e-02, -5.6190e-02,  6.4796e-02,  7.5475e-02,  1.1990e-02,\n",
       "                      -5.7751e-03,  2.2740e-02, -4.9808e-02,  3.2653e-02,  7.0439e-02,\n",
       "                      -5.7092e-02, -1.0022e-02,  6.1279e-02,  3.3068e-02,  1.9970e-02,\n",
       "                       4.2948e-02, -3.6321e-02,  6.6294e-02, -5.1213e-02, -1.5981e-02,\n",
       "                       1.6905e-02, -5.9278e-02,  6.6270e-02, -7.9234e-02,  1.8445e-03,\n",
       "                       9.8839e-04,  4.5990e-03,  2.4196e-02,  7.0460e-02,  6.9870e-02,\n",
       "                      -3.9638e-02,  1.1412e-03, -1.4689e-02,  6.4690e-02,  3.4157e-02,\n",
       "                      -5.1746e-02, -5.7114e-02,  3.4564e-02, -2.7481e-02,  7.6385e-02,\n",
       "                      -6.9497e-02,  5.5472e-02, -2.8546e-02, -5.7368e-02, -7.9096e-02,\n",
       "                      -6.3167e-02, -7.1753e-02, -3.7685e-02,  6.6864e-02, -5.6559e-02,\n",
       "                      -2.2634e-02,  4.5386e-02,  3.8748e-02, -7.3385e-02,  4.8871e-02,\n",
       "                       8.1488e-02, -1.9996e-03,  2.4607e-02,  1.4355e-02, -3.2363e-02,\n",
       "                       5.7283e-02,  5.8989e-02, -5.9207e-02,  1.5202e-02,  7.1703e-02,\n",
       "                       7.6296e-02,  4.7810e-02, -5.7100e-02,  4.6425e-02, -8.1644e-02,\n",
       "                      -2.0731e-02, -4.5781e-02, -5.1510e-02,  9.6418e-03,  3.2739e-02,\n",
       "                       1.2981e-02, -6.5092e-02, -4.8671e-02,  6.9441e-02,  4.3256e-02,\n",
       "                       2.6191e-01, -5.8864e-01,  5.4458e-01, -2.0630e-01,  2.1517e+00,\n",
       "                      -2.0409e+00, -9.4744e-02,  2.1398e+00,  1.3991e-01,  3.2074e-01,\n",
       "                      -6.4667e-02,  5.7704e-01, -5.0871e-02,  3.4062e-02,  4.1751e-01,\n",
       "                       4.1693e-01, -1.2854e+00,  5.5782e-01, -8.6817e-01, -4.2916e-03,\n",
       "                      -5.5289e-01,  3.7855e-01, -1.5505e+00,  1.0648e-02,  1.1426e+00,\n",
       "                       3.7635e-01, -1.3442e+00,  1.2841e+00, -1.5823e+00, -1.1378e+00,\n",
       "                      -2.5236e+00, -1.1101e+00, -5.5993e-01,  1.4042e-01,  1.5572e+00,\n",
       "                       1.4122e-01, -4.0740e-01, -4.7734e-01,  2.5714e-01, -2.0511e+00,\n",
       "                       3.5699e-01,  4.3651e-01,  2.1449e-01, -3.3861e-02, -4.4195e-01,\n",
       "                      -1.7030e+00, -9.1388e-01,  1.5621e+00, -4.1214e-01, -8.3147e-01,\n",
       "                       1.6510e-01, -2.3315e+00,  1.0952e+00,  8.0242e-01, -2.0251e+00,\n",
       "                       2.3233e-01,  2.2548e-01, -1.3887e+00, -2.0780e+00, -2.0681e+00,\n",
       "                      -8.8181e-01,  4.6159e-01,  2.0930e-01, -1.6347e+00,  1.5634e+00,\n",
       "                      -4.2180e-01,  1.4784e+00, -4.8285e-01, -5.6266e-02,  8.7300e-01,\n",
       "                      -7.5857e-02,  1.9536e-01,  2.3198e-01,  2.4634e-01,  9.6864e-01,\n",
       "                      -1.0685e-01, -1.1840e-01,  4.3410e-01,  6.2980e-01,  1.2774e+00,\n",
       "                       1.5095e+00,  1.7812e+00, -1.1449e+00,  1.3365e+00,  1.7162e-01,\n",
       "                      -1.3469e+00,  7.3814e-01, -5.4317e-01,  2.3126e-02, -2.0041e-01,\n",
       "                       1.9206e-01,  1.4370e+00, -1.0993e+00, -4.9559e-01,  2.5887e+00,\n",
       "                      -8.0976e-01,  1.6754e+00,  5.4371e-02, -3.7464e-02,  2.1546e+00,\n",
       "                       7.6573e-02, -1.2232e+00, -1.1564e+00, -9.6161e-01, -1.2457e-01,\n",
       "                      -1.7711e+00, -9.1573e-02, -1.1227e+00,  9.1519e-01, -1.2255e+00,\n",
       "                       1.2871e+00, -1.6139e+00, -1.0894e+00,  1.0567e+00,  1.4368e+00,\n",
       "                      -9.2022e-03,  2.5766e-02,  1.6822e+00,  4.1925e-01,  5.7893e-01,\n",
       "                       1.4018e+00,  1.7728e-01,  1.0555e-01, -9.6607e-02,  1.1281e+00,\n",
       "                       7.8407e-01,  5.4298e-01,  7.0241e-01,  4.0014e-01,  9.4945e-01,\n",
       "                       9.0840e-01,  8.7341e-02, -1.0935e+00,  4.9340e-01, -1.1391e+00,\n",
       "                      -1.0984e+00, -1.7714e+00,  3.5346e-01, -7.4165e-01,  7.3966e-02,\n",
       "                       5.8386e-01, -8.4621e-02,  1.4603e+00, -3.4137e-01, -3.7994e-01,\n",
       "                      -5.0912e-01, -4.3894e-01,  5.9378e-01, -1.9291e+00, -8.8417e-01,\n",
       "                      -1.1894e+00, -3.2550e-01,  6.0680e-01, -1.3591e+00, -5.2979e-01,\n",
       "                      -2.0195e+00, -3.2295e+00, -7.7543e-01, -2.1071e+00,  5.5271e-01,\n",
       "                      -1.7977e+00,  7.9488e-01, -2.4489e-02, -1.1052e+00, -1.6671e+00,\n",
       "                       1.0856e+00, -1.4780e+00, -1.1410e+00,  1.2530e-01, -5.2503e-01,\n",
       "                      -2.5144e+00,  3.4837e-01, -1.1143e+00,  4.2679e-01, -1.0053e+00,\n",
       "                      -9.0061e-02, -1.9791e+00, -1.0400e+00,  8.1469e-01, -4.0818e-01,\n",
       "                      -1.0733e+00, -6.9506e-01, -1.8053e+00,  6.2774e-01, -2.6286e-01,\n",
       "                      -1.2069e+00,  1.6022e+00,  2.2271e-02, -1.2988e+00,  6.5194e-01,\n",
       "                       6.7216e-01, -1.3279e+00,  1.9452e+00, -1.8716e+00, -1.4017e+00,\n",
       "                      -1.5035e+00,  2.7354e-01,  7.3980e-02,  2.3976e-01,  7.2101e-01,\n",
       "                      -1.2564e+00,  1.0478e-01, -1.8030e-01,  3.3815e-01, -6.1341e-01,\n",
       "                      -3.8705e-01, -5.2259e-01, -7.3527e-01, -1.4687e+00,  4.8473e-01,\n",
       "                      -1.7051e-01, -2.4746e+00, -1.9400e+00,  3.1551e+00, -1.5733e+00,\n",
       "                      -1.5974e+00,  1.6363e+00, -5.8965e-01,  7.6142e-01,  5.7118e-02,\n",
       "                      -1.7053e+00,  7.8915e-01,  2.3429e-02, -1.9806e-01,  1.1085e+00,\n",
       "                      -2.0880e+00,  8.2432e-01, -7.5521e-01, -3.5831e-01,  3.1629e-01,\n",
       "                      -5.5073e-01,  6.5399e-01,  4.6608e-01,  1.1352e-01, -2.4165e+00,\n",
       "                      -2.4635e+00,  7.5836e-01, -2.3742e+00, -6.4833e-01, -1.7784e+00,\n",
       "                      -1.4161e-01, -1.0753e+00, -1.4642e+00, -8.1174e-01,  6.6219e-01,\n",
       "                      -1.8533e+00, -1.5302e+00, -1.6280e+00,  3.0107e+00, -2.1487e-01,\n",
       "                       1.7851e-01, -1.2428e+00, -4.8331e-01, -2.0788e+00,  2.8384e-01,\n",
       "                      -1.1351e+00,  1.0746e+00, -1.0565e-01, -9.4450e-01, -2.1820e+00,\n",
       "                       1.3882e+00, -1.3820e+00, -3.8987e-01,  1.5484e-01,  3.2898e-02,\n",
       "                      -1.3679e+00, -5.1791e-01,  5.7459e-01, -1.4313e+00,  7.7248e-01,\n",
       "                      -1.1334e+00, -1.2182e+00, -2.2872e+00, -1.4264e-01, -1.6107e+00,\n",
       "                      -3.6779e-01, -2.9062e+00, -1.0703e+00, -1.2508e+00, -3.6407e-01,\n",
       "                      -3.1508e-01, -2.4970e+00, -1.2342e+00,  1.2436e+00, -7.8236e-01,\n",
       "                      -2.0243e+00, -6.0209e-01, -2.1827e+00, -8.5973e-01, -7.0702e-01,\n",
       "                       1.4695e-01,  2.1357e+00, -7.2921e-01, -1.7565e-01, -2.5603e+00,\n",
       "                       8.2397e-01,  8.1738e-02, -5.6947e-01, -2.2032e+00, -1.4281e+00])),\n",
       "             ('entities_types_crf_decoder.transitions',\n",
       "              tensor([[ 6.9791e-01, -6.6325e-01, -8.7678e-01,  5.2017e-01,  2.5316e-02,\n",
       "                       -2.6178e+00, -1.0000e+04],\n",
       "                      [-1.5894e+00, -1.0119e+00, -2.0910e-01, -1.4820e+00,  6.5410e-01,\n",
       "                       -1.9011e+00, -1.0000e+04],\n",
       "                      [-2.2929e+00, -3.3359e-01, -2.5766e+00, -7.2517e+00, -1.5504e-01,\n",
       "                        9.7615e-01, -1.0000e+04],\n",
       "                      [-9.8566e-01, -6.0702e-01, -2.3477e+00,  7.2832e-01,  1.3678e-01,\n",
       "                       -8.2290e-03, -1.0000e+04],\n",
       "                      [-7.1224e-01,  3.4117e-01, -8.4098e-01,  8.9442e-01,  1.2243e+00,\n",
       "                       -7.7803e-01, -1.0000e+04],\n",
       "                      [-1.0000e+04, -1.0000e+04, -1.0000e+04, -1.0000e+04, -1.0000e+04,\n",
       "                       -1.0000e+04, -1.0000e+04],\n",
       "                      [-1.3023e+00, -2.3497e+00, -8.3491e+00, -3.1041e+00,  3.3643e+00,\n",
       "                       -1.7282e-01, -1.0000e+04]])),\n",
       "             ('entities_types_crf_decoder.hidden2tag.weight',\n",
       "              tensor([[-5.9540e-02,  3.9500e-01,  2.1514e-01,  ..., -4.2264e-01,\n",
       "                       -6.5759e-01,  8.1062e-01],\n",
       "                      [ 4.2634e-01, -5.5372e-02,  9.4513e-01,  ...,  6.3596e-01,\n",
       "                        4.6962e-01, -8.8809e-01],\n",
       "                      [-3.5777e+00, -1.8689e+00,  7.2556e-01,  ..., -1.2643e-01,\n",
       "                        9.9683e-02, -1.8502e-01],\n",
       "                      ...,\n",
       "                      [-2.5414e-01,  1.7023e-01, -6.4099e-01,  ...,  2.1055e-01,\n",
       "                        7.1846e-02,  3.3031e-01],\n",
       "                      [ 4.9260e-02, -3.4828e-02, -3.0614e-02,  ..., -2.4122e-03,\n",
       "                        4.6036e-02, -2.3303e-02],\n",
       "                      [-1.2743e-02, -1.5209e-02, -3.7644e-02,  ..., -5.6151e-02,\n",
       "                        1.2197e-02, -3.9746e-02]])),\n",
       "             ('entities_types_crf_decoder.hidden2tag.bias',\n",
       "              tensor([-0.0311, -0.1849, -0.7343, -0.1210,  0.5985,  0.0027,  0.0282])),\n",
       "             ('entities_tags_crf_decoder.transitions',\n",
       "              tensor([[-1.2468e+01, -1.2514e+01, -3.3879e+00, -7.7071e-01, -3.2818e-01,\n",
       "                       -9.2851e+00, -1.3465e+00, -1.0000e+04],\n",
       "                      [ 2.0636e+00,  2.7976e+00, -9.0207e+00, -5.0446e+00, -3.2765e+00,\n",
       "                       -1.9826e+00, -8.9018e+00, -1.0000e+04],\n",
       "                      [ 2.7208e+00,  2.5085e+00, -1.0012e+01, -1.5872e+01, -3.7652e+00,\n",
       "                        6.0132e-01, -9.7595e+00, -1.0000e+04],\n",
       "                      [-7.5992e+00, -1.5631e+01, -4.4782e-01,  9.3562e-01,  7.3383e-01,\n",
       "                       -4.2828e+00,  1.4904e-01, -1.0000e+04],\n",
       "                      [-6.3979e+00, -5.4913e+00,  5.0691e-01,  1.9789e+00,  1.8726e+00,\n",
       "                       -4.6679e+00, -3.7034e-01, -1.0000e+04],\n",
       "                      [ 1.3525e+00, -7.4500e+00, -7.9152e+00, -9.3010e+00, -6.4819e-01,\n",
       "                        3.2782e+00, -6.1055e+00, -1.0000e+04],\n",
       "                      [-1.0000e+04, -1.0000e+04, -1.0000e+04, -1.0000e+04, -1.0000e+04,\n",
       "                       -1.0000e+04, -1.0000e+04, -1.0000e+04],\n",
       "                      [-1.9139e-01, -5.9877e-01, -3.1054e+00, -2.0584e+00,  1.8259e+00,\n",
       "                        1.3502e+00,  5.6627e-01, -1.0000e+04]])),\n",
       "             ('entities_tags_crf_decoder.hidden2tag.weight',\n",
       "              tensor([[-5.0952e-01,  1.6961e+00, -2.8018e-01,  ..., -1.7604e+00,\n",
       "                        1.2239e+00, -6.4420e-01],\n",
       "                      [-7.8525e-01, -1.3510e+00, -1.0990e+00,  ...,  6.0960e-01,\n",
       "                        1.0201e+00,  1.2674e+00],\n",
       "                      [-1.7333e-01, -1.3221e+00,  5.8844e-01,  ...,  5.2168e-02,\n",
       "                        8.0173e-02, -3.7603e-01],\n",
       "                      ...,\n",
       "                      [-2.8944e+00,  2.0140e+00,  1.2353e+00,  ..., -4.6758e-01,\n",
       "                        8.8486e-03,  1.0244e-01],\n",
       "                      [-1.5066e-02,  5.5428e-02,  3.8463e-02,  ...,  4.0977e-04,\n",
       "                        2.4635e-02, -4.8347e-03],\n",
       "                      [-2.5689e-02, -5.2466e-02, -4.1057e-02,  ..., -4.4708e-02,\n",
       "                        1.6136e-02,  1.8380e-02]])),\n",
       "             ('entities_tags_crf_decoder.hidden2tag.bias',\n",
       "              tensor([-0.2499, -0.5657, -0.2216,  0.3886,  0.3261, -0.3512, -0.0573, -0.0097])),\n",
       "             ('entity_type_embedding.weight',\n",
       "              tensor([[ 0.0446, -1.7441,  0.2607, -0.6860,  0.4446, -2.5682, -2.3077,  0.1277,\n",
       "                        3.7316,  1.9440,  3.9924,  2.9594, -0.2013, -0.3093,  1.1491,  1.0453,\n",
       "                        0.2591, -0.1131, -3.1005,  0.5381, -1.1750,  1.1076, -0.5056,  0.0520,\n",
       "                        1.2469],\n",
       "                      [ 0.4690,  2.2183,  1.6309, -0.4037, -0.1389,  1.0656,  1.1152, -1.5553,\n",
       "                       -1.9990, -3.0650, -2.2920, -2.4734,  1.1123,  0.3987,  0.1023, -1.8627,\n",
       "                        1.5884, -0.4170,  1.6780, -0.4514, -0.6615, -2.4725, -1.5259, -1.5807,\n",
       "                       -2.1907],\n",
       "                      [ 1.4153,  0.7319, -0.6262,  2.5678, -2.3411, -2.0339,  1.8622,  3.3180,\n",
       "                        0.5634, -0.7327,  1.4104,  2.2891, -2.5823,  1.9630, -2.4190, -0.3141,\n",
       "                       -3.3235, -0.6784,  1.0730, -2.5439,  1.4076,  0.0583,  2.7018,  0.0853,\n",
       "                        1.6877],\n",
       "                      [ 0.4222,  0.2071, -1.0600,  0.3306,  1.2715,  0.1447,  0.7040, -0.7778,\n",
       "                       -1.8292,  1.5397, -1.0266,  2.7627, -1.5495, -0.2178, -2.2078, -0.9345,\n",
       "                       -2.4566,  0.3559,  0.1699,  0.4835,  2.1785, -1.2183, -3.1252, -2.5031,\n",
       "                        0.2379],\n",
       "                      [ 1.0514,  1.4837,  0.1640,  0.6542, -1.4278,  1.0232,  2.2116, -0.2210,\n",
       "                       -1.6226, -0.8103, -1.6202, -1.0111, -2.2466,  0.7569, -0.4528, -1.2272,\n",
       "                        0.0942,  0.1683,  1.4228, -1.4890,  0.1036, -0.2703, -0.6682,  0.3793,\n",
       "                       -0.2916]])),\n",
       "             ('entity_tag_embedding.weight',\n",
       "              tensor([[-2.6953e+00, -1.0860e-01,  1.3937e+00, -1.7520e+00, -3.7804e-01,\n",
       "                       -2.1207e-01, -1.8366e+00, -1.4179e+00,  8.8477e-01,  1.4254e+00,\n",
       "                        1.8535e+00, -2.8577e+00, -2.9591e+00, -5.8210e-01,  4.5308e-01,\n",
       "                       -1.4297e+00, -3.3878e+00, -2.4923e+00, -1.8340e+00,  2.6081e+00,\n",
       "                       -3.5699e+00, -1.7798e+00, -2.3779e+00, -2.2832e+00,  8.6335e-01],\n",
       "                      [ 2.2285e+00,  8.4219e-01, -1.0231e+00,  2.9192e-01,  1.0761e+00,\n",
       "                        1.5874e-01, -6.5941e-01, -7.1334e-01,  7.1843e-02,  4.6834e-01,\n",
       "                       -4.6415e-01,  2.5977e+00,  1.4976e-01, -1.0164e+00,  1.8504e-01,\n",
       "                        1.1565e+00,  2.0494e+00,  1.0318e+00,  1.2937e+00, -8.3741e-01,\n",
       "                        1.3215e+00,  7.0601e-01,  2.2477e+00,  1.0034e+00,  5.8925e-01],\n",
       "                      [ 4.0007e+00,  8.4113e-01, -1.9399e-01,  3.7270e+00,  1.9627e-01,\n",
       "                       -2.4977e-02,  4.2934e+00,  2.2021e+00, -1.7655e+00, -3.0497e+00,\n",
       "                       -1.1982e-01,  4.1712e+00,  2.9361e+00,  1.2675e+00,  4.4382e-01,\n",
       "                       -3.6200e+00,  4.4635e+00,  8.4970e-02,  3.5453e+00, -4.6932e+00,\n",
       "                        3.1792e+00,  3.7694e+00,  3.5649e+00,  4.1962e+00, -4.9129e+00],\n",
       "                      [-2.0747e-01,  6.6011e-01,  2.0063e-01, -7.8727e-02,  9.0748e-01,\n",
       "                        2.1578e+00,  7.8764e-01, -1.1657e-01, -6.7906e-01, -1.6120e+00,\n",
       "                       -9.5352e-01, -3.0092e-01, -9.1482e-04, -4.0944e-01, -3.7886e-01,\n",
       "                       -7.9241e-01, -7.0715e-01, -4.9265e-01, -4.1406e-01,  5.3340e-01,\n",
       "                       -5.1492e-01,  5.6347e-02, -9.9316e-02, -4.6274e-01,  1.6893e-02],\n",
       "                      [ 4.8972e-01, -1.3951e-01, -1.2537e+00,  1.0927e+00, -3.8542e-01,\n",
       "                        1.3201e+00,  1.2957e-01,  5.7922e-01, -7.1990e-01, -6.4868e-01,\n",
       "                       -6.8685e-01,  5.6170e-01,  6.2630e-01,  7.3850e-02, -8.2505e-01,\n",
       "                        4.7148e-01,  9.0694e-01,  1.1172e+00,  1.2498e+00, -8.0331e-01,\n",
       "                        1.1387e+00,  5.4648e-01,  1.2921e+00,  6.8386e-01, -3.2208e-01],\n",
       "                      [-1.8234e+00, -2.5180e-01,  2.4899e+00, -5.7062e-01,  4.8113e-01,\n",
       "                       -4.4519e+00, -5.7199e-02, -1.1636e+00,  6.9528e-01,  1.7888e+00,\n",
       "                        3.3066e+00, -2.2915e+00, -2.6723e+00, -2.8805e+00,  3.1642e+00,\n",
       "                       -2.7967e-01, -1.5461e+00, -1.5586e+00, -4.0657e+00,  1.5665e+00,\n",
       "                       -2.5998e+00, -3.1037e+00, -6.0803e-01, -1.7495e+00, -1.2812e+00]])),\n",
       "             ('dependency_embedding.weight',\n",
       "              tensor([[-0.3543, -1.4868, -1.4529,  ..., -2.6231, -1.8295,  2.2144],\n",
       "                      [-2.6522,  0.3124, -1.8467,  ...,  0.1545, -0.1375,  1.8720],\n",
       "                      [ 4.9700, -2.3229, -2.1144,  ..., -0.5280,  0.3456, -1.2101],\n",
       "                      ...,\n",
       "                      [-1.8258,  3.5924,  2.4708,  ...,  0.0743, -0.4674,  3.0991],\n",
       "                      [-2.1380,  2.9880, -0.4606,  ..., -0.3212, -0.1189,  1.1421],\n",
       "                      [ 1.2589, -0.7317, -1.4118,  ...,  1.2509, -2.3946,  0.7291]])),\n",
       "             ('tree_lstm.ioux.weight',\n",
       "              tensor([[-2.3473, -1.6950,  1.8453,  ..., -0.0273, -0.5578,  1.2272],\n",
       "                      [-1.1862,  0.9203,  1.7388,  ...,  0.2478, -0.4987, -0.6483],\n",
       "                      [ 0.7311, -0.5592,  1.1613,  ...,  0.9502,  0.5134, -0.7875],\n",
       "                      ...,\n",
       "                      [-1.1875,  0.7843, -1.0243,  ..., -0.1753, -0.8816,  0.4915],\n",
       "                      [-0.3081, -0.1382,  0.3671,  ...,  0.2509,  0.3842, -1.2892],\n",
       "                      [ 0.6198,  1.8091, -0.8953,  ..., -1.6174,  0.5736,  1.3297]])),\n",
       "             ('tree_lstm.ioux.bias',\n",
       "              tensor([-2.7603e+00,  1.0656e+00,  3.5412e-01, -1.0597e+00,  2.0585e-01,\n",
       "                      -1.8847e+00, -1.1491e+00,  1.1701e+00, -5.7679e-02,  1.4582e+00,\n",
       "                       2.5571e-01,  2.0682e+00,  1.1222e+00, -2.8971e+00,  2.3740e+00,\n",
       "                       4.0465e-01,  2.3681e+00,  1.5812e+00,  1.9887e+00,  1.0037e-01,\n",
       "                       1.2435e+00,  4.1757e-01,  9.4276e-01,  1.6338e+00, -6.5185e-01,\n",
       "                       4.7957e-01, -2.3212e+00, -1.6951e+00,  4.7753e-01, -8.2706e-01,\n",
       "                       8.2636e-01,  3.9168e+00, -2.1536e+00, -9.5902e-01,  4.1298e-01,\n",
       "                       1.9523e+00, -1.6417e+00,  9.6060e-01, -2.6698e+00, -2.0314e+00,\n",
       "                       5.3992e-02, -9.4931e-01, -1.5087e+00,  2.2835e+00,  1.1150e+00,\n",
       "                      -8.3197e-01, -8.6024e-01, -3.0635e-01, -2.4264e-01,  5.3391e-01,\n",
       "                       2.7709e-02, -1.7335e+00,  1.6278e+00,  6.0164e-01, -1.1445e+00,\n",
       "                       2.9113e-01, -5.4959e-01,  4.7979e-01,  4.9606e-01, -5.0035e-02,\n",
       "                      -8.1570e-01, -1.4326e+00,  6.8696e-01, -2.5085e-01,  1.0117e+00,\n",
       "                       1.0660e+00, -2.0216e+00, -1.2708e+00,  4.8732e-01,  3.0989e-01,\n",
       "                       4.0280e-01, -1.4389e+00, -2.1984e+00,  1.0081e+00,  2.7614e-01,\n",
       "                       5.9266e-01, -1.5476e+00,  7.0350e-01,  2.4391e+00, -6.6830e-01,\n",
       "                       1.2654e+00,  4.3385e-01, -9.7799e-01, -5.1241e-01, -4.6755e-01,\n",
       "                      -8.8016e-01,  1.7290e-01,  2.4733e+00, -2.7310e+00, -4.3066e-01,\n",
       "                      -8.6572e-01, -1.3695e+00,  1.0033e+00, -5.8373e-01,  1.2490e-01,\n",
       "                      -2.0057e+00, -8.8911e-02,  1.2514e+00, -1.3843e-01, -2.5725e+00,\n",
       "                      -4.7021e-01,  5.8436e-01, -1.0314e+00, -4.1182e-01,  1.3078e+00,\n",
       "                       2.9356e+00,  1.4017e-01,  1.3275e+00, -6.0142e-01,  2.5658e+00,\n",
       "                      -8.8022e-01, -1.2398e+00, -7.5460e-01, -2.1642e+00,  1.0832e+00,\n",
       "                       1.0901e+00, -1.2616e+00,  4.0644e-01,  1.5021e+00, -3.9957e-01,\n",
       "                      -3.3503e-01, -1.4165e+00, -7.1796e-01, -3.0731e-01,  9.7728e-01,\n",
       "                      -5.4489e-01, -1.5685e+00, -2.6720e-01, -1.1802e+00, -4.4456e-01,\n",
       "                       1.2254e+00, -3.3859e-01, -1.4273e+00, -2.2686e-01, -6.5520e-01,\n",
       "                       3.5253e+00,  4.1536e-02,  1.5088e-01,  5.8622e-01,  2.6527e+00,\n",
       "                       2.4035e+00, -7.1273e-02,  3.5519e+00,  8.8447e-01,  3.6057e-01,\n",
       "                      -1.6325e+00,  6.0171e-01, -5.3393e-01,  1.6040e+00, -7.4626e-01,\n",
       "                       2.1651e+00, -2.6511e+00, -2.4982e-01,  9.4238e-01,  1.5899e+00,\n",
       "                      -7.4765e-01,  1.5941e+00,  1.9577e+00,  1.4672e+00, -2.0570e+00,\n",
       "                      -1.3208e+00,  1.9683e-01, -1.7379e+00,  2.5625e+00, -2.6626e-01,\n",
       "                      -1.8182e-01, -8.3692e-01, -5.0001e-01,  6.9560e-01,  2.6149e+00,\n",
       "                       1.1735e+00, -1.4167e-01,  1.4570e+00, -9.8472e-03,  5.7811e-02,\n",
       "                       9.4927e-01, -1.6833e-01,  2.6797e-01,  1.5956e+00,  8.1638e-01,\n",
       "                      -8.5644e-01, -1.9651e-01,  1.4134e+00, -1.6613e+00, -1.7841e+00,\n",
       "                      -7.2332e-01, -2.1352e-01,  5.0274e-01, -1.0822e+00, -8.5009e-01,\n",
       "                      -1.0136e+00, -7.5507e-01, -1.0937e+00,  1.7942e+00,  9.7423e-01,\n",
       "                       1.1943e+00, -5.9694e-02,  9.7001e-01, -2.4927e+00, -1.1535e-01,\n",
       "                       6.5784e-02, -6.7228e-02, -6.9178e-01, -1.6912e-01,  1.3289e+00,\n",
       "                      -2.0368e+00,  9.9801e-01,  2.0379e-01, -2.8587e-01,  1.8346e+00,\n",
       "                       2.8861e-01,  1.3541e+00, -4.7800e-01, -7.1746e-01,  3.3694e+00,\n",
       "                       1.1737e+00,  2.1649e-01,  8.9020e-01, -2.0330e-02,  2.3725e-01,\n",
       "                      -8.9943e-01, -1.6508e+00, -1.0567e+00, -5.1616e-01, -3.3811e-02,\n",
       "                      -2.5188e-01,  1.4210e+00,  3.0318e-01, -1.6232e+00, -8.3829e-01,\n",
       "                      -1.3535e+00, -2.2715e+00, -1.5547e+00, -1.0705e-01,  9.7478e-01,\n",
       "                      -1.8096e+00, -8.6062e-01, -3.7931e-01,  1.4240e+00,  2.4280e+00,\n",
       "                       2.1848e+00, -1.3253e+00, -5.4854e-01,  3.7026e-01, -1.5024e-01,\n",
       "                      -2.3137e+00,  2.6466e+00, -1.7508e-01, -4.0856e-02,  5.9266e-01,\n",
       "                       4.5314e-01,  3.5048e-01,  1.4808e+00,  2.1363e-02,  3.0398e-01,\n",
       "                      -7.4434e-01, -2.2496e+00, -2.7284e-01,  8.2453e-01, -6.9975e-01,\n",
       "                      -3.2132e+00, -1.4402e+00,  8.5392e-01,  1.7777e-02,  4.7278e-01,\n",
       "                       1.7508e+00, -2.1837e+00, -2.1032e+00,  6.0520e-01, -8.3097e-01,\n",
       "                      -8.6878e-01, -1.4497e+00, -3.7649e-01,  2.2781e+00, -6.5556e-01,\n",
       "                       1.7974e-01,  2.5912e+00, -1.3035e+00, -6.1937e-01, -3.4159e-01,\n",
       "                      -1.6111e-02, -2.1369e+00,  1.5185e-02, -1.3011e+00, -1.0273e-01,\n",
       "                      -1.2258e-01,  1.0068e+00,  4.3203e-01, -6.1407e-01,  1.3318e+00,\n",
       "                      -3.7692e-01, -4.6660e-01,  1.2414e+00,  2.1757e+00,  2.2569e+00,\n",
       "                       1.3612e+00,  6.1844e-02, -3.4299e+00, -1.8654e+00,  2.0542e+00,\n",
       "                       1.2025e-01, -1.9343e+00,  4.5038e-02, -2.9922e-01,  1.6647e+00,\n",
       "                      -1.0270e+00,  5.1292e-01,  1.2009e+00,  7.3686e-01, -1.7700e+00,\n",
       "                      -1.7039e+00, -1.4394e+00,  1.2312e-01, -2.9701e-01, -1.5188e+00,\n",
       "                      -7.4815e-01,  1.4090e-01, -5.5361e-01, -9.8115e-01,  4.9519e-01,\n",
       "                       1.0924e+00, -1.6145e+00, -5.8923e-01,  1.6345e+00,  1.4455e+00,\n",
       "                       1.7865e+00,  7.7331e-01, -7.4660e-02,  1.3814e-01,  2.1851e+00,\n",
       "                      -6.3999e-01,  2.1840e+00, -1.9189e+00,  6.6423e-01,  2.5454e+00,\n",
       "                       1.4366e+00,  1.8547e+00, -1.9749e+00,  1.2209e+00,  5.7745e-01,\n",
       "                      -2.0620e+00, -2.8547e+00,  7.6237e-01, -2.8058e-01,  7.4632e-01,\n",
       "                      -1.6101e+00,  1.0100e+00, -7.0666e-01,  1.2676e+00,  2.6520e+00,\n",
       "                      -4.6595e-01, -1.4136e+00,  1.8782e+00,  5.8272e-02,  9.8641e-01,\n",
       "                       1.9407e-02, -5.2981e-01,  2.7134e+00, -5.2890e-02,  1.0230e-01,\n",
       "                      -2.3412e+00, -5.8344e-01,  1.3790e+00, -1.3859e+00,  7.3858e-01,\n",
       "                       6.0997e-01, -2.0809e-01,  1.5174e+00,  3.2832e-01,  2.2535e+00,\n",
       "                      -1.4494e+00,  2.0291e+00, -2.3818e+00,  7.2331e-01, -4.9492e-01,\n",
       "                      -1.5319e+00, -2.9490e-01,  9.5059e-02,  6.1796e-01,  2.1596e-01,\n",
       "                       1.4271e+00,  1.5551e+00, -2.0301e-01, -1.5952e+00,  4.8715e-01,\n",
       "                       1.4215e+00,  1.5656e+00, -3.0904e-01,  2.8402e+00,  1.0640e-01,\n",
       "                       3.4886e-01, -5.6983e-01, -1.6462e+00,  3.1281e+00, -1.1865e+00,\n",
       "                      -2.8692e-01,  1.7943e-01,  1.2735e+00,  1.8234e+00,  1.5043e-02,\n",
       "                      -5.9257e-01,  3.3773e-01,  1.0511e+00,  9.9221e-01,  8.5137e-01,\n",
       "                       2.1076e+00,  2.2476e+00,  3.0363e+00, -2.3614e+00, -9.7778e-01,\n",
       "                      -2.2117e+00,  1.2903e+00, -9.8880e-01,  5.8511e-01, -5.5590e-01,\n",
       "                      -1.4170e+00, -8.3389e-02,  1.3801e+00,  5.9343e-01,  6.4958e-02,\n",
       "                       2.1494e+00, -2.5704e+00, -7.4410e-01,  2.0603e+00,  4.3706e-01,\n",
       "                       1.2494e+00, -7.5040e-02,  1.1732e+00, -5.0650e-01, -6.1078e-01,\n",
       "                      -8.6217e-01, -3.0134e-02, -2.8084e-01,  9.3239e-01, -4.6653e-01,\n",
       "                       6.5020e-01, -3.5796e-01,  7.3532e-01,  8.3128e-01,  1.0912e+00,\n",
       "                       1.5052e+00,  6.8643e-02, -8.2697e-02, -2.2599e+00,  6.8468e-01,\n",
       "                       1.0516e+00,  1.6804e-02,  3.4234e-01,  8.2222e-01,  4.5093e-01,\n",
       "                      -1.2098e+00, -8.6323e-01,  1.1446e+00, -7.7776e-01,  7.1501e-01,\n",
       "                       3.3266e-01,  3.7516e-01,  2.3185e+00,  1.2422e+00,  2.4002e+00,\n",
       "                      -7.1282e-01, -3.4048e-01,  8.1813e-02,  7.1971e-01,  5.3074e-01,\n",
       "                       1.5470e+00,  2.8045e-01, -1.1850e-01,  1.9109e+00,  2.5686e+00,\n",
       "                      -9.5799e-01,  1.4038e-01, -2.9737e+00, -2.0204e+00,  5.6314e-01,\n",
       "                       1.8798e+00,  1.5755e-02, -3.5977e-01,  2.6373e-02,  1.7366e+00,\n",
       "                      -1.5568e+00,  3.8896e-01, -7.0960e-01,  3.5103e-01, -2.3372e+00,\n",
       "                       2.7106e+00, -3.3040e-01,  8.2551e-02,  3.1245e-01,  3.5618e-01,\n",
       "                       4.1538e-01,  2.9788e-01,  1.9077e+00,  5.2153e-01, -1.3075e+00,\n",
       "                      -1.0591e+00, -1.0462e+00, -7.6379e-01, -1.7043e+00, -5.1091e-01,\n",
       "                      -2.3074e+00,  2.1642e-01,  7.1983e-01, -1.2346e+00,  1.6730e-01,\n",
       "                       8.4319e-01,  4.7786e-01,  8.7449e-01,  1.7408e-01,  3.2320e+00,\n",
       "                      -2.0612e+00,  7.3069e-01, -2.6961e+00,  1.5148e+00,  2.9925e-01,\n",
       "                      -1.7339e-01,  1.6208e+00,  2.6898e+00,  5.7206e-01, -4.0270e-01,\n",
       "                       1.0751e+00, -9.8564e-01, -4.7594e-01, -1.1923e-01,  1.8949e+00,\n",
       "                       4.7126e-02,  1.4270e+00,  2.1196e+00,  3.7331e-01,  1.2528e+00,\n",
       "                      -1.1101e+00,  3.9102e-01, -4.1104e-01, -1.9820e-02, -8.6536e-01,\n",
       "                      -2.3374e+00,  2.2157e-01, -6.2461e-02, -1.9145e+00,  5.5413e-02,\n",
       "                       1.8161e+00, -1.9699e-01,  1.4004e-01, -3.9262e-01,  1.6409e+00,\n",
       "                      -7.0902e-01,  9.1031e-01,  3.9787e-01, -6.2653e-01, -1.2527e+00,\n",
       "                       6.0498e-01, -1.8082e+00,  2.1064e-01, -2.7091e+00,  1.8557e+00,\n",
       "                      -2.1757e+00, -4.9612e-01,  6.3864e-01, -2.0382e+00,  1.5715e-01,\n",
       "                      -2.0352e-01, -6.8855e-01, -1.3323e+00, -4.5185e-01, -4.2982e-01,\n",
       "                       2.8205e-01, -2.9411e+00,  1.6166e-01,  1.7342e+00,  2.3859e-01,\n",
       "                      -1.6836e-01, -7.3862e-01, -1.1056e+00, -5.1876e-01, -1.5088e+00,\n",
       "                       1.5877e+00, -7.9324e-01,  9.7508e-01, -5.5623e-01, -9.0521e-01,\n",
       "                       8.7538e-01, -8.6424e-01,  9.5120e-01,  2.0192e-01, -6.4451e-01,\n",
       "                       2.7884e-02,  1.9076e+00,  7.9101e-01, -7.8271e-01,  1.5338e+00,\n",
       "                      -4.3027e-01, -8.7927e-01,  5.1660e-01,  4.9747e-01,  1.0782e+00,\n",
       "                       9.0026e-01, -7.6107e-01,  1.1247e+00, -6.0418e-01, -1.3421e+00,\n",
       "                       1.3522e+00,  1.3796e+00,  7.0724e-01,  9.8379e-01,  5.0488e-01,\n",
       "                       2.3079e-01,  1.9751e+00, -1.2726e+00,  3.6829e-01,  1.9564e-01,\n",
       "                       1.4720e+00, -4.4825e-01, -9.3587e-01,  3.4837e-01, -6.3148e-01,\n",
       "                      -1.5714e+00,  1.5414e+00, -1.3984e+00,  1.3809e+00,  6.4896e-01,\n",
       "                      -8.3036e-01, -3.3493e-01,  9.0741e-01, -2.4427e+00, -1.3292e+00,\n",
       "                      -2.2459e-03,  2.3945e-01,  1.3690e+00, -1.0905e+00, -4.3908e-01,\n",
       "                       6.1870e-01, -1.4080e+00,  1.0106e+00,  1.7777e+00,  2.2645e-01,\n",
       "                       2.4493e+00, -1.1171e+00, -1.8438e+00,  3.6273e-01,  8.1588e-01,\n",
       "                      -1.0496e+00, -1.0371e+00,  8.2701e-01,  9.3490e-01,  2.2717e+00,\n",
       "                       4.7646e-01, -6.0878e-01, -1.5604e+00,  9.5970e-01,  2.1611e+00,\n",
       "                      -1.6273e+00,  1.6129e-01, -7.5256e-01,  1.3236e+00,  8.9482e-02,\n",
       "                      -1.7283e-01, -5.7740e-01,  6.3076e-01,  5.0305e-01, -1.0295e+00,\n",
       "                      -6.2436e-01, -1.7024e-01, -3.4428e-01,  9.7294e-03, -1.6745e+00,\n",
       "                      -8.3154e-01,  1.3938e+00,  2.5081e-01,  1.1494e-01, -1.4396e+00,\n",
       "                       9.7710e-01,  1.0518e+00, -5.2885e-01, -3.5593e-01, -1.0215e+00,\n",
       "                       9.4148e-01, -1.0067e+00, -1.5059e+00, -1.3779e+00, -6.7088e-01,\n",
       "                       3.0119e-01, -9.2005e-02,  6.7851e-01, -1.4128e+00,  1.0839e+00,\n",
       "                      -6.1854e-01,  6.8886e-01,  1.8359e-01, -1.6056e+00,  2.5768e-02,\n",
       "                      -3.2750e-01,  1.4307e+00, -9.5685e-01,  2.0408e+00, -6.1279e-01,\n",
       "                       5.5308e-01,  4.7559e-01, -6.1891e-01, -2.6541e-01,  1.0522e-01,\n",
       "                      -1.4493e+00,  3.8050e-01, -6.3553e-01,  1.1685e+00, -3.1430e-01,\n",
       "                       4.0370e-01, -1.3902e+00,  3.9478e-01, -2.4561e-01,  1.0349e+00,\n",
       "                      -3.3970e-01, -9.9683e-01, -1.2025e-01,  2.1928e+00,  1.2114e+00,\n",
       "                       1.7749e-01,  1.5554e+00, -1.3378e-01,  1.3923e-01, -5.7838e-01,\n",
       "                       1.0705e+00,  1.2025e-01,  6.1077e-01,  1.9071e+00,  6.9132e-01,\n",
       "                       5.8708e-01, -2.2269e+00,  5.4609e-01, -1.9691e+00, -6.3339e-01,\n",
       "                       5.8978e-01,  1.7014e+00,  6.3080e-02,  6.6416e-01,  6.4075e-01,\n",
       "                      -1.0630e+00, -1.8360e+00,  1.3630e+00, -6.0626e-01, -7.7511e-02,\n",
       "                      -1.1579e+00, -6.6152e-01,  1.0134e+00, -1.2808e+00, -2.2160e-02,\n",
       "                      -6.7312e-01,  9.4416e-01,  1.4572e+00, -1.1125e+00,  1.5227e+00,\n",
       "                      -4.2770e-01,  1.7159e+00,  1.7875e+00, -1.3062e+00,  3.5608e-01,\n",
       "                       2.1415e+00,  1.5968e-01, -1.6650e+00, -4.1620e-02, -6.4345e-01,\n",
       "                      -1.1921e+00,  3.9685e-01,  9.2755e-01,  1.6860e+00, -9.5974e-01,\n",
       "                      -3.0995e-01, -1.0064e+00, -1.0186e+00,  2.4672e-01,  4.8222e-01,\n",
       "                      -5.2058e-01,  2.9122e-01,  1.1902e+00,  8.5510e-01,  1.7050e-01,\n",
       "                      -1.6856e+00,  9.5840e-01,  4.3915e-02, -2.3759e-01,  8.0221e-01,\n",
       "                      -9.5304e-01, -9.0763e-02, -1.4660e+00, -2.4151e-02,  6.5582e-01,\n",
       "                       3.9799e-01,  1.9812e-02, -2.4518e-01, -2.0777e-01, -5.4950e-01,\n",
       "                       1.1014e-01,  2.0276e-01,  4.8033e-01,  1.0617e+00, -7.6294e-01,\n",
       "                       1.3726e+00,  7.3364e-01, -3.7039e-02,  5.0398e-01, -1.2671e+00,\n",
       "                      -6.1343e-01,  1.5672e-01,  1.5229e-01,  4.0381e-01,  8.5683e-02,\n",
       "                       2.9336e-02,  3.2696e-01,  1.3797e+00, -4.4196e-01, -1.7663e+00,\n",
       "                      -1.3985e+00, -1.3130e+00,  1.2033e+00,  4.2686e-01,  7.7427e-01,\n",
       "                      -1.4139e+00, -1.3268e+00,  1.8945e+00,  5.7298e-01,  2.2473e+00,\n",
       "                       1.2786e-02,  5.6251e-01, -1.5293e+00,  5.2036e-01, -5.8668e-01,\n",
       "                       2.2448e-01,  2.6398e+00, -1.0452e+00,  2.5294e-01,  2.8594e-01,\n",
       "                      -6.1919e-01,  3.5922e-01, -7.7181e-02,  1.7269e+00,  5.0790e-01,\n",
       "                       1.0851e+00, -6.8437e-01,  4.8426e-01,  1.2015e+00,  6.8837e-01,\n",
       "                      -2.0626e+00,  2.4871e-01,  2.0011e+00,  1.1163e+00,  1.4072e+00,\n",
       "                       2.8274e+00,  1.7856e-01,  2.1673e+00, -5.8334e-01, -5.4547e-01,\n",
       "                      -2.9316e-01, -2.7721e-01, -1.1736e+00,  2.6037e-01, -5.1307e-01,\n",
       "                      -1.7724e-01, -6.0559e-01, -1.4748e+00, -6.4586e-01,  1.7306e+00,\n",
       "                      -6.2225e-01,  7.1623e-01,  5.0536e-01, -1.5712e+00,  1.4591e+00,\n",
       "                      -7.0164e-01,  1.5950e-01, -3.1872e-01, -7.3656e-01,  1.0768e+00,\n",
       "                      -2.7517e-02,  4.6466e-01, -3.0684e-01, -5.4332e-01,  3.4935e-01,\n",
       "                      -2.2387e+00,  2.3243e+00,  1.3621e-01, -1.4046e+00, -1.2555e+00,\n",
       "                       3.4046e-01,  1.5038e+00,  3.9433e-01,  2.4135e-01,  9.2939e-01,\n",
       "                       3.0101e+00,  5.7062e-01,  1.2372e-01,  1.7126e+00,  9.9650e-01,\n",
       "                      -2.0050e-01, -1.4758e+00, -9.3653e-01, -1.1004e+00, -8.6523e-01,\n",
       "                       5.8127e-01,  1.3656e-01, -1.0246e+00, -1.1378e+00,  1.3686e+00])),\n",
       "             ('tree_lstm.iouh.weight',\n",
       "              tensor([[-1.9848, -0.2799, -0.7296,  ...,  0.1577,  0.0975,  0.7101],\n",
       "                      [ 1.9400, -0.1373, -1.3025,  ...,  0.4632, -0.8774, -0.6722],\n",
       "                      [-0.0528, -0.9981, -1.1378,  ..., -0.2182, -0.1754,  0.8718],\n",
       "                      ...,\n",
       "                      [ 0.3660,  0.3081,  0.1243,  ..., -0.2989,  0.2647,  0.0802],\n",
       "                      [-0.9416, -1.1961, -0.0886,  ..., -0.1482,  0.0492,  0.4222],\n",
       "                      [ 0.2734,  0.5481,  0.0741,  ...,  0.2646, -0.1795, -0.6424]])),\n",
       "             ('tree_lstm.iouh.bias',\n",
       "              tensor([-2.6707e+00,  1.0760e+00,  3.4785e-01, -1.0154e+00,  2.2094e-01,\n",
       "                      -1.9233e+00, -1.0960e+00,  1.1794e+00,  2.4769e-02,  1.5003e+00,\n",
       "                       2.1211e-01,  2.0457e+00,  1.0728e+00, -2.9151e+00,  2.3112e+00,\n",
       "                       3.2138e-01,  2.3476e+00,  1.5644e+00,  1.9732e+00,  1.3232e-01,\n",
       "                       1.1831e+00,  4.2416e-01,  9.2526e-01,  1.6537e+00, -5.7806e-01,\n",
       "                       4.7238e-01, -2.3207e+00, -1.6612e+00,  3.9060e-01, -8.0612e-01,\n",
       "                       8.4594e-01,  3.9184e+00, -2.1736e+00, -9.7903e-01,  4.1560e-01,\n",
       "                       1.9810e+00, -1.6046e+00,  9.4962e-01, -2.6789e+00, -2.0301e+00,\n",
       "                       3.7803e-02, -8.9670e-01, -1.4991e+00,  2.2619e+00,  1.1810e+00,\n",
       "                      -8.3897e-01, -8.6249e-01, -2.9607e-01, -2.6007e-01,  4.8706e-01,\n",
       "                       4.8084e-02, -1.7185e+00,  1.6208e+00,  6.3158e-01, -1.1542e+00,\n",
       "                       2.6271e-01, -5.4149e-01,  4.7980e-01,  5.2243e-01, -1.1248e-01,\n",
       "                      -7.6614e-01, -1.4274e+00,  6.7931e-01, -2.9314e-01,  1.0294e+00,\n",
       "                       1.0258e+00, -1.9910e+00, -1.2242e+00,  5.5740e-01,  3.0978e-01,\n",
       "                       4.4093e-01, -1.3765e+00, -2.1876e+00,  9.8464e-01,  3.1112e-01,\n",
       "                       6.2138e-01, -1.5973e+00,  7.3761e-01,  2.3925e+00, -6.7192e-01,\n",
       "                       1.2975e+00,  4.5730e-01, -9.7085e-01, -5.6954e-01, -4.7057e-01,\n",
       "                      -8.8661e-01,  1.2728e-01,  2.4502e+00, -2.7828e+00, -4.4447e-01,\n",
       "                      -9.6753e-01, -1.3777e+00,  1.0184e+00, -5.9949e-01,  1.8723e-01,\n",
       "                      -2.0001e+00, -1.6518e-02,  1.2289e+00, -1.3070e-01, -2.5846e+00,\n",
       "                      -4.4447e-01,  5.3926e-01, -1.0020e+00, -3.8998e-01,  1.2913e+00,\n",
       "                       2.9291e+00,  1.1871e-01,  1.2470e+00, -6.9497e-01,  2.5184e+00,\n",
       "                      -8.7291e-01, -1.2158e+00, -7.5179e-01, -2.1777e+00,  1.0625e+00,\n",
       "                       1.0827e+00, -1.2783e+00,  3.9815e-01,  1.5257e+00, -3.5612e-01,\n",
       "                      -3.3452e-01, -1.3634e+00, -7.6350e-01, -2.5660e-01,  1.0186e+00,\n",
       "                      -5.5267e-01, -1.5233e+00, -2.8569e-01, -1.2267e+00, -4.9254e-01,\n",
       "                       1.2381e+00, -3.4806e-01, -1.3981e+00, -2.0232e-01, -6.4393e-01,\n",
       "                       3.4970e+00,  3.1472e-02,  1.6738e-01,  6.3093e-01,  2.5950e+00,\n",
       "                       2.4214e+00, -4.7311e-02,  3.5728e+00,  8.2420e-01,  3.5311e-01,\n",
       "                      -1.6648e+00,  5.9408e-01, -4.8933e-01,  1.5687e+00, -7.6030e-01,\n",
       "                       2.1629e+00, -2.7077e+00, -2.0782e-01,  9.3183e-01,  1.6917e+00,\n",
       "                      -7.1847e-01,  1.6916e+00,  1.9050e+00,  1.4905e+00, -2.0449e+00,\n",
       "                      -1.3369e+00,  1.3546e-01, -1.7113e+00,  2.5225e+00, -2.6904e-01,\n",
       "                      -1.9296e-01, -7.5834e-01, -4.7631e-01,  6.5970e-01,  2.6738e+00,\n",
       "                       1.2117e+00, -1.5112e-01,  1.3722e+00, -4.8376e-02,  2.1733e-04,\n",
       "                       9.6465e-01, -2.0078e-01,  2.8922e-01,  1.5371e+00,  8.5471e-01,\n",
       "                      -7.8492e-01, -2.0179e-01,  1.4259e+00, -1.6316e+00, -1.7673e+00,\n",
       "                      -7.6543e-01, -1.8637e-01,  4.5094e-01, -1.0919e+00, -8.6441e-01,\n",
       "                      -1.0179e+00, -7.6015e-01, -1.1021e+00,  1.7730e+00,  1.0346e+00,\n",
       "                       1.2010e+00, -7.6649e-02,  8.8299e-01, -2.5476e+00, -1.3647e-01,\n",
       "                       9.4237e-03, -9.7855e-02, -7.6105e-01, -1.2500e-01,  1.3446e+00,\n",
       "                      -2.0313e+00,  1.0803e+00,  2.7482e-01, -2.8411e-01,  1.8329e+00,\n",
       "                       2.9912e-01,  1.4069e+00, -4.1777e-01, -6.3720e-01,  3.3706e+00,\n",
       "                       1.1276e+00,  2.4330e-01,  9.3271e-01, -9.1217e-02,  2.3380e-01,\n",
       "                      -9.6494e-01, -1.5979e+00, -1.0508e+00, -5.0748e-01, -1.3022e-02,\n",
       "                      -2.5351e-01,  1.4787e+00,  2.4086e-01, -1.6936e+00, -8.6083e-01,\n",
       "                      -1.3174e+00, -2.2973e+00, -1.6194e+00, -1.7150e-01,  1.0229e+00,\n",
       "                      -1.7884e+00, -8.9926e-01, -4.0650e-01,  1.4565e+00,  2.4599e+00,\n",
       "                       2.1200e+00, -1.2822e+00, -5.2226e-01,  3.7346e-01, -1.8325e-01,\n",
       "                      -2.3139e+00,  2.6521e+00, -2.0770e-01, -6.9086e-02,  6.5866e-01,\n",
       "                       4.6027e-01,  3.2970e-01,  1.4810e+00,  5.2279e-03,  3.4487e-01,\n",
       "                      -6.9880e-01, -2.2094e+00, -2.4069e-01,  7.8862e-01, -6.2042e-01,\n",
       "                      -3.1771e+00, -1.4930e+00,  9.5704e-01,  5.2538e-02,  4.2414e-01,\n",
       "                       1.7913e+00, -2.2697e+00, -2.1332e+00,  5.6574e-01, -8.0504e-01,\n",
       "                      -8.5328e-01, -1.5349e+00, -3.5126e-01,  2.2444e+00, -6.6033e-01,\n",
       "                       1.2834e-01,  2.5645e+00, -1.3069e+00, -5.8725e-01, -3.9053e-01,\n",
       "                      -4.0137e-04, -2.1016e+00,  9.3674e-03, -1.2168e+00, -1.5936e-01,\n",
       "                      -9.8766e-02,  1.0191e+00,  4.1726e-01, -6.0777e-01,  1.3167e+00,\n",
       "                      -3.8694e-01, -4.4349e-01,  1.3266e+00,  2.1449e+00,  2.3187e+00,\n",
       "                       1.2695e+00,  3.3687e-02, -3.4913e+00, -1.8892e+00,  2.0472e+00,\n",
       "                       1.7224e-01, -1.9517e+00,  5.8632e-02, -2.2072e-01,  1.6278e+00,\n",
       "                      -1.0034e+00,  4.2146e-01,  1.1058e+00,  7.6767e-01, -1.7411e+00,\n",
       "                      -1.8054e+00, -1.4032e+00,  9.7464e-02, -2.6448e-01, -1.5503e+00,\n",
       "                      -7.7476e-01,  1.8489e-01, -5.6759e-01, -9.7390e-01,  4.6461e-01,\n",
       "                       1.0878e+00, -1.6010e+00, -5.8161e-01,  1.6260e+00,  1.3966e+00,\n",
       "                       1.8133e+00,  7.7737e-01, -5.1336e-02,  1.4138e-01,  2.2553e+00,\n",
       "                      -5.7611e-01,  2.2321e+00, -1.9754e+00,  6.5136e-01,  2.4878e+00,\n",
       "                       1.4675e+00,  1.7740e+00, -1.9552e+00,  1.2339e+00,  5.7821e-01,\n",
       "                      -1.9764e+00, -2.9111e+00,  7.5706e-01, -2.6599e-01,  7.9589e-01,\n",
       "                      -1.6122e+00,  1.0674e+00, -7.7204e-01,  1.3323e+00,  2.6388e+00,\n",
       "                      -3.9469e-01, -1.3783e+00,  1.9083e+00,  4.9703e-02,  1.0167e+00,\n",
       "                       2.1125e-02, -6.0560e-01,  2.7632e+00, -8.8198e-02,  1.0892e-01,\n",
       "                      -2.3668e+00, -5.3297e-01,  1.4297e+00, -1.4334e+00,  7.3856e-01,\n",
       "                       6.6691e-01, -2.4412e-01,  1.6050e+00,  3.3364e-01,  2.2181e+00,\n",
       "                      -1.4491e+00,  2.0225e+00, -2.4246e+00,  6.7767e-01, -5.5736e-01,\n",
       "                      -1.5801e+00, -3.3627e-01,  1.6972e-01,  6.5496e-01,  1.5978e-01,\n",
       "                       1.4186e+00,  1.5566e+00, -2.1138e-01, -1.6411e+00,  5.1706e-01,\n",
       "                       1.3534e+00,  1.6519e+00, -3.1152e-01,  2.8739e+00,  1.2264e-01,\n",
       "                       2.9677e-01, -6.4462e-01, -1.6625e+00,  3.0663e+00, -1.1631e+00,\n",
       "                      -3.3614e-01,  2.2098e-01,  1.3685e+00,  1.7614e+00,  7.4223e-03,\n",
       "                      -6.4615e-01,  3.1039e-01,  1.0333e+00,  9.7483e-01,  8.2858e-01,\n",
       "                       2.0936e+00,  2.2812e+00,  3.0307e+00, -2.3528e+00, -8.7692e-01,\n",
       "                      -2.2092e+00,  1.2580e+00, -9.9266e-01,  5.3612e-01, -5.5873e-01,\n",
       "                      -1.4053e+00, -2.6794e-02,  1.4362e+00,  5.1574e-01,  9.7117e-02,\n",
       "                       2.1437e+00, -2.6307e+00, -7.4518e-01,  2.0475e+00,  4.7315e-01,\n",
       "                       1.3000e+00, -1.2230e-02,  1.1792e+00, -4.8379e-01, -5.9864e-01,\n",
       "                      -9.0248e-01, -2.6675e-02, -2.4622e-01,  9.4893e-01, -4.0016e-01,\n",
       "                       6.9928e-01, -3.6498e-01,  7.3900e-01,  7.8609e-01,  1.0551e+00,\n",
       "                       1.4537e+00,  1.2635e-01, -4.2433e-03, -2.2532e+00,  6.4875e-01,\n",
       "                       1.0411e+00,  1.2730e-02,  2.4543e-01,  7.9121e-01,  5.1078e-01,\n",
       "                      -1.2061e+00, -7.6497e-01,  1.2063e+00, -8.1796e-01,  7.9249e-01,\n",
       "                       3.2446e-01,  3.5448e-01,  2.2879e+00,  1.1836e+00,  2.3887e+00,\n",
       "                      -7.2328e-01, -3.7363e-01,  1.0688e-01,  7.2890e-01,  5.1760e-01,\n",
       "                       1.5285e+00,  2.5434e-01, -1.8486e-01,  1.8980e+00,  2.6288e+00,\n",
       "                      -9.3154e-01,  1.3469e-01, -3.0289e+00, -2.0535e+00,  5.0797e-01,\n",
       "                       1.8439e+00, -2.6438e-02, -3.8679e-01,  4.3236e-02,  1.7436e+00,\n",
       "                      -1.6419e+00,  4.2109e-01, -7.1828e-01,  3.3152e-01, -2.4310e+00,\n",
       "                       2.6986e+00, -3.8010e-01,  9.2691e-02,  3.0873e-01,  3.7887e-01,\n",
       "                       4.3404e-01,  2.5083e-01,  1.8104e+00,  5.0134e-01, -1.3065e+00,\n",
       "                      -1.0676e+00, -1.0210e+00, -6.6511e-01, -1.7026e+00, -4.8657e-01,\n",
       "                      -2.2670e+00,  2.1635e-01,  7.3242e-01, -1.1769e+00,  1.9802e-01,\n",
       "                       9.4108e-01,  4.3410e-01,  8.3105e-01,  7.7394e-02,  3.2613e+00,\n",
       "                      -1.9931e+00,  7.4600e-01, -2.7100e+00,  1.5107e+00,  3.5933e-01,\n",
       "                      -1.8506e-01,  1.6158e+00,  2.7182e+00,  6.3710e-01, -3.8855e-01,\n",
       "                       1.0753e+00, -9.7951e-01, -4.9000e-01, -1.6748e-01,  1.8985e+00,\n",
       "                      -4.0386e-02,  1.4251e+00,  2.1596e+00,  3.7711e-01,  1.2499e+00,\n",
       "                      -1.0709e+00,  4.0422e-01, -5.1177e-01,  4.8756e-02, -8.4932e-01,\n",
       "                      -2.3499e+00,  2.0060e-01, -6.4675e-02, -1.9441e+00,  3.7875e-02,\n",
       "                       1.8413e+00, -1.4914e-01,  1.3982e-01, -4.3840e-01,  1.6772e+00,\n",
       "                      -7.1299e-01,  9.3085e-01,  3.8191e-01, -5.9528e-01, -1.2211e+00,\n",
       "                       6.7062e-01, -1.8366e+00,  1.7490e-01, -2.7018e+00,  1.7636e+00,\n",
       "                      -2.2038e+00, -4.9150e-01,  6.8800e-01, -2.1161e+00,  2.2585e-01,\n",
       "                      -2.7015e-01, -6.1854e-01, -1.3364e+00, -4.4769e-01, -3.5890e-01,\n",
       "                       1.9884e-01, -2.9373e+00,  1.9050e-01,  1.7091e+00,  2.2465e-01,\n",
       "                      -9.1875e-02, -6.4752e-01, -1.0944e+00, -4.6338e-01, -1.4804e+00,\n",
       "                       1.5852e+00, -8.3116e-01,  9.2004e-01, -6.4318e-01, -9.0295e-01,\n",
       "                       9.4354e-01, -8.3801e-01,  8.9140e-01,  2.0372e-01, -6.9849e-01,\n",
       "                      -4.0765e-02,  1.8434e+00,  8.0639e-01, -8.2580e-01,  1.4570e+00,\n",
       "                      -3.6596e-01, -8.2990e-01,  5.1798e-01,  5.3981e-01,  1.1531e+00,\n",
       "                       8.6793e-01, -7.4743e-01,  1.1206e+00, -5.6219e-01, -1.2424e+00,\n",
       "                       1.3623e+00,  1.4758e+00,  7.0509e-01,  1.0398e+00,  5.1979e-01,\n",
       "                       2.6048e-01,  1.9722e+00, -1.3631e+00,  3.4115e-01,  1.7993e-01,\n",
       "                       1.4618e+00, -3.8859e-01, -9.2097e-01,  3.7315e-01, -5.6633e-01,\n",
       "                      -1.5591e+00,  1.5524e+00, -1.4208e+00,  1.4429e+00,  6.7550e-01,\n",
       "                      -8.1118e-01, -2.9989e-01,  8.3879e-01, -2.3983e+00, -1.2682e+00,\n",
       "                       5.9913e-03,  2.5836e-01,  1.4390e+00, -1.1890e+00, -4.6056e-01,\n",
       "                       6.1929e-01, -1.3718e+00,  1.0659e+00,  1.7969e+00,  2.4668e-01,\n",
       "                       2.5015e+00, -1.0430e+00, -1.8140e+00,  3.6127e-01,  7.9113e-01,\n",
       "                      -1.0736e+00, -1.0555e+00,  8.7390e-01,  9.3876e-01,  2.3220e+00,\n",
       "                       5.2211e-01, -5.4636e-01, -1.5583e+00,  9.3761e-01,  2.2250e+00,\n",
       "                      -1.5965e+00,  1.3917e-01, -7.4522e-01,  1.2972e+00,  9.3063e-02,\n",
       "                      -1.3307e-01, -5.5159e-01,  6.5105e-01,  5.4911e-01, -9.5431e-01,\n",
       "                      -6.3619e-01, -1.5735e-01, -3.6025e-01, -6.1261e-02, -1.6558e+00,\n",
       "                      -8.4080e-01,  1.4228e+00,  2.0810e-01,  1.3653e-01, -1.3916e+00,\n",
       "                       9.2669e-01,  1.0937e+00, -4.9123e-01, -3.4122e-01, -9.3882e-01,\n",
       "                       9.1123e-01, -1.0724e+00, -1.4688e+00, -1.3491e+00, -7.3961e-01,\n",
       "                       2.5182e-01, -7.7517e-02,  6.7207e-01, -1.3873e+00,  1.0051e+00,\n",
       "                      -6.6434e-01,  7.0106e-01,  1.5224e-01, -1.5772e+00,  5.9203e-02,\n",
       "                      -3.0847e-01,  1.4656e+00, -9.9472e-01,  2.0422e+00, -6.3605e-01,\n",
       "                       6.2853e-01,  5.4637e-01, -6.2806e-01, -2.8299e-01,  1.4709e-01,\n",
       "                      -1.5141e+00,  3.7245e-01, -6.2515e-01,  1.2204e+00, -2.8216e-01,\n",
       "                       4.2890e-01, -1.3975e+00,  3.9320e-01, -2.3442e-01,  9.9506e-01,\n",
       "                      -3.0475e-01, -1.0399e+00, -1.6795e-01,  2.1511e+00,  1.2537e+00,\n",
       "                       1.8018e-01,  1.5746e+00, -9.9080e-02,  1.7598e-01, -5.3682e-01,\n",
       "                       1.1390e+00,  1.1536e-01,  5.2684e-01,  1.8850e+00,  7.5269e-01,\n",
       "                       5.6354e-01, -2.2550e+00,  5.7080e-01, -1.9785e+00, -6.3472e-01,\n",
       "                       4.9389e-01,  1.7087e+00,  1.6918e-02,  6.8242e-01,  7.2473e-01,\n",
       "                      -1.1165e+00, -1.7497e+00,  1.3768e+00, -5.9570e-01, -1.2922e-02,\n",
       "                      -1.1297e+00, -6.7034e-01,  1.0932e+00, -1.2955e+00, -8.2123e-02,\n",
       "                      -6.5098e-01,  1.0114e+00,  1.4258e+00, -1.1234e+00,  1.4588e+00,\n",
       "                      -4.3615e-01,  1.7082e+00,  1.8171e+00, -1.2832e+00,  3.8829e-01,\n",
       "                       2.1295e+00,  1.4200e-01, -1.7479e+00,  7.2998e-03, -7.2774e-01,\n",
       "                      -1.1923e+00,  3.8618e-01,  8.4235e-01,  1.7393e+00, -8.7365e-01,\n",
       "                      -3.5052e-01, -1.0135e+00, -1.0271e+00,  2.7158e-01,  4.3033e-01,\n",
       "                      -5.7889e-01,  3.0471e-01,  1.2264e+00,  8.4955e-01,  2.5436e-01,\n",
       "                      -1.6425e+00,  9.6362e-01,  5.4920e-02, -2.9278e-01,  7.3017e-01,\n",
       "                      -9.5674e-01,  9.8276e-04, -1.3805e+00, -1.7755e-02,  7.1308e-01,\n",
       "                       3.6225e-01,  5.3436e-04, -2.1931e-01, -1.3899e-01, -5.7658e-01,\n",
       "                       3.1944e-02,  2.4931e-01,  4.5716e-01,  9.6403e-01, -7.1296e-01,\n",
       "                       1.3954e+00,  7.5154e-01,  3.0774e-03,  5.2097e-01, -1.2488e+00,\n",
       "                      -6.3404e-01,  1.5815e-01,  1.1051e-01,  4.0724e-01,  9.1042e-02,\n",
       "                       2.6146e-02,  3.8524e-01,  1.4279e+00, -4.8128e-01, -1.6873e+00,\n",
       "                      -1.4282e+00, -1.2679e+00,  1.2162e+00,  5.0159e-01,  7.7886e-01,\n",
       "                      -1.4140e+00, -1.3296e+00,  1.8876e+00,  5.6416e-01,  2.2509e+00,\n",
       "                       4.0114e-03,  6.0056e-01, -1.5266e+00,  5.3214e-01, -5.6246e-01,\n",
       "                       2.7997e-01,  2.6663e+00, -1.0500e+00,  2.7450e-01,  3.0257e-01,\n",
       "                      -6.2615e-01,  3.2399e-01, -5.0650e-02,  1.7473e+00,  5.7718e-01,\n",
       "                       1.0855e+00, -7.1347e-01,  4.5820e-01,  1.1973e+00,  6.9261e-01,\n",
       "                      -2.0471e+00,  2.6813e-01,  2.0590e+00,  1.0999e+00,  1.4099e+00,\n",
       "                       2.8386e+00,  1.9478e-01,  2.2077e+00, -5.2546e-01, -5.2301e-01,\n",
       "                      -3.0632e-01, -2.4261e-01, -1.2358e+00,  2.9700e-01, -5.3396e-01,\n",
       "                      -2.4387e-01, -6.2339e-01, -1.5313e+00, -6.0032e-01,  1.6952e+00,\n",
       "                      -6.2779e-01,  6.9629e-01,  5.1315e-01, -1.5434e+00,  1.3883e+00,\n",
       "                      -6.7587e-01,  1.7584e-01, -3.2211e-01, -6.8838e-01,  1.1044e+00,\n",
       "                      -4.3000e-02,  4.0505e-01, -2.6622e-01, -5.4879e-01,  3.6036e-01,\n",
       "                      -2.2565e+00,  2.3322e+00,  1.7063e-01, -1.4884e+00, -1.2530e+00,\n",
       "                       2.5504e-01,  1.5444e+00,  3.6388e-01,  2.7052e-01,  9.3221e-01,\n",
       "                       2.9783e+00,  5.4715e-01,  1.1154e-01,  1.6747e+00,  1.0482e+00,\n",
       "                      -1.5766e-01, -1.4831e+00, -1.0008e+00, -1.1243e+00, -8.4275e-01,\n",
       "                       5.2999e-01,  1.1985e-01, -1.0161e+00, -1.1277e+00,  1.3523e+00])),\n",
       "             ('tree_lstm.fx.weight',\n",
       "              tensor([[-1.0165,  0.9040,  0.6637,  ..., -1.2371,  0.3627, -0.5412],\n",
       "                      [-1.2718, -0.7753,  0.7697,  ..., -0.0247,  1.2081, -0.8917],\n",
       "                      [-1.5519, -1.9408,  0.3924,  ..., -1.0456,  0.3985,  0.6644],\n",
       "                      ...,\n",
       "                      [-0.1106,  0.2668, -0.4011,  ...,  0.2166, -0.8369,  0.6341],\n",
       "                      [ 0.6102, -0.7536, -0.1059,  ..., -1.5890, -0.1500, -0.5944],\n",
       "                      [-0.9774,  1.5854,  0.2781,  ..., -0.0299, -0.3828, -0.0267]])),\n",
       "             ('tree_lstm.fx.bias',\n",
       "              tensor([ 0.1788, -1.4277, -2.3810,  2.9136, -1.5426,  0.7134, -1.3617,  0.3683,\n",
       "                      -1.8217, -0.3354, -1.5895, -0.3313, -0.1159,  0.6695, -0.7927,  1.8442,\n",
       "                      -2.9297, -0.6029, -0.4398, -0.5319,  0.2150, -0.5671, -0.3217, -0.3341,\n",
       "                       0.9905, -0.0148,  1.7360, -0.9954, -0.6535, -1.4539, -1.2396, -0.8455,\n",
       "                      -0.2811,  0.6794, -2.0361, -1.3782, -1.7822, -0.9987, -0.2766,  0.8635,\n",
       "                      -0.4550,  0.7818, -1.5765, -1.6528,  1.9519,  2.7190, -3.2255, -1.5379,\n",
       "                       1.4746, -0.8703, -1.1214, -1.6188, -1.6459,  1.4954, -0.9708, -1.3017,\n",
       "                      -1.2894, -1.3026,  0.0371,  0.5733, -0.0554, -0.7472, -1.9988,  1.0514,\n",
       "                      -0.9927, -2.7243, -1.0430, -1.4971, -0.2546,  1.3378, -1.0658, -0.0752,\n",
       "                       0.2420,  0.8271,  0.4934, -0.4731, -0.3290, -0.5820, -0.7794, -0.1463,\n",
       "                      -2.2154,  0.0259,  1.6227, -0.6087, -1.6308, -0.7465,  1.7464,  1.6778,\n",
       "                      -1.3313, -0.1590, -0.7153, -0.8862, -0.8454, -1.3927, -0.3948,  0.2084,\n",
       "                      -1.7809, -2.6152, -2.5573,  0.8182, -0.0217, -1.7289, -1.9401, -1.3985,\n",
       "                      -1.2620, -0.3781,  1.4431,  0.8301, -1.0224, -0.2373, -0.9759, -1.1211,\n",
       "                       0.5251, -1.4439, -0.3720, -0.2073, -1.2751,  1.2934, -0.2325, -1.1778,\n",
       "                      -1.2959, -0.6986, -1.5615,  1.2262,  2.1104, -0.6842,  0.3835, -0.3490,\n",
       "                      -0.3245, -0.2162,  0.8895, -0.2437, -0.8620, -0.4166, -1.7834,  0.0060,\n",
       "                      -0.4883,  0.6285,  0.5555, -1.4448,  0.0564,  1.0969, -1.2585,  0.9077,\n",
       "                       0.5616,  0.9865, -1.9539,  0.8994, -2.3399,  0.0042, -0.9699,  0.5310,\n",
       "                      -1.1585,  1.3990, -2.9104, -1.5030, -0.3441, -1.5545, -2.0891, -1.1608,\n",
       "                       0.1426, -0.6275, -1.2819,  0.1576, -1.1189, -1.5587, -2.6000, -0.4928,\n",
       "                      -2.7950,  1.5395,  0.9864, -0.2866,  1.5923, -0.1928, -1.9529, -1.1434,\n",
       "                       1.8464, -2.3796, -2.7227,  1.0542,  0.2393,  0.6912,  0.3705, -1.2892,\n",
       "                       0.2104, -0.1327, -1.8628, -0.1521, -0.6311, -1.5226, -0.0894,  0.6258,\n",
       "                       0.0946, -0.7158,  0.0810, -1.0227,  0.3752, -0.4115,  0.4326,  2.0138,\n",
       "                      -0.9893, -2.7299, -1.0645, -0.1992,  0.1245, -1.1913, -0.3355, -0.6110,\n",
       "                      -1.3954, -0.9056,  1.5919,  1.2384,  0.4603,  1.7264,  0.2345, -0.8588,\n",
       "                      -0.2813,  0.7902, -2.5667,  0.0152,  1.7294, -0.4041,  0.6744, -0.6887,\n",
       "                       0.2167,  0.7001,  2.1492,  1.0326,  0.5093, -0.5655,  1.6394,  0.0892,\n",
       "                       0.2035,  0.6162, -1.4278,  1.2434,  0.4180,  2.2191,  0.4419, -2.4441,\n",
       "                       0.9731,  0.2148, -0.9984,  0.6347, -1.1650,  1.2105, -0.1391, -0.6358,\n",
       "                       0.1667,  0.9367, -0.0759,  0.2662, -0.1184, -0.6485,  0.1144, -0.2236,\n",
       "                      -0.4884, -1.1609, -0.5646,  1.2640, -0.6682, -0.1308,  0.3899, -2.9059,\n",
       "                      -0.5415, -0.7618,  0.1848, -1.1498, -2.4560,  2.4217,  0.8622, -1.7484,\n",
       "                       1.1972, -0.4183,  0.1227, -0.0295, -0.0981,  0.7554,  0.0363,  0.3993,\n",
       "                       0.9256, -1.5729,  0.3686, -0.8459, -0.3747,  1.4812, -1.3752, -1.5320,\n",
       "                       0.3011,  1.1678,  0.6197,  2.2747, -2.5520,  0.0207, -0.9808,  3.0075,\n",
       "                       2.2084,  0.5564, -0.5985, -0.1816])),\n",
       "             ('tree_lstm.fh.weight',\n",
       "              tensor([[ 0.3280,  0.9808, -1.5017,  ..., -0.3469, -1.5224,  0.3028],\n",
       "                      [-1.3007, -0.0866,  0.0792,  ...,  1.3344,  0.1608,  1.7012],\n",
       "                      [-0.5249,  0.9583, -0.5615,  ...,  0.4217,  0.0071, -1.2661],\n",
       "                      ...,\n",
       "                      [-0.1263, -0.5285,  1.2496,  ..., -0.3275, -0.1783, -0.1041],\n",
       "                      [ 0.0037,  0.3671, -0.2144,  ..., -0.2198,  0.5554, -0.0155],\n",
       "                      [ 0.3938,  0.1300,  0.2836,  ...,  0.4775, -0.1390, -0.6799]])),\n",
       "             ('tree_lstm.fh.bias',\n",
       "              tensor([ 0.1621, -1.4154, -2.4091,  2.9409, -1.5476,  0.6912, -1.2834,  0.4021,\n",
       "                      -1.8469, -0.3323, -1.5392, -0.3901, -0.0978,  0.6747, -0.7940,  1.8766,\n",
       "                      -2.8527, -0.5013, -0.4203, -0.4692,  0.2310, -0.5841, -0.3633, -0.2948,\n",
       "                       1.0032,  0.0317,  1.6930, -1.0240, -0.6176, -1.4813, -1.3020, -0.9018,\n",
       "                      -0.2474,  0.6744, -2.0046, -1.3949, -1.7803, -0.9735, -0.3492,  0.8885,\n",
       "                      -0.4248,  0.6958, -1.5316, -1.6910,  2.0409,  2.6577, -3.1699, -1.5602,\n",
       "                       1.5313, -0.9104, -1.1900, -1.6387, -1.6308,  1.4802, -1.0377, -1.3343,\n",
       "                      -1.2486, -1.3013,  0.0228,  0.5775, -0.0763, -0.7766, -1.9285,  1.1248,\n",
       "                      -0.9265, -2.6644, -1.1045, -1.4925, -0.1955,  1.3367, -1.0739, -0.0281,\n",
       "                       0.2206,  0.7881,  0.5221, -0.4460, -0.2720, -0.6451, -0.7699, -0.2017,\n",
       "                      -2.2466,  0.0486,  1.6610, -0.6205, -1.7001, -0.6623,  1.7845,  1.6881,\n",
       "                      -1.3382, -0.1332, -0.7498, -0.8883, -0.8601, -1.3474, -0.3476,  0.2136,\n",
       "                      -1.7143, -2.6099, -2.6000,  0.8707, -0.0536, -1.7162, -1.8813, -1.3883,\n",
       "                      -1.2955, -0.3966,  1.4296,  0.8235, -1.0061, -0.2447, -1.0298, -1.2150,\n",
       "                       0.5188, -1.4086, -0.3550, -0.2113, -1.2410,  1.3510, -0.2585, -1.2585,\n",
       "                      -1.3029, -0.7104, -1.5081,  1.2297,  2.1635, -0.6870,  0.3901, -0.3311,\n",
       "                      -0.3347, -0.1196,  0.8939, -0.2216, -0.8450, -0.4462, -1.8658, -0.0594,\n",
       "                      -0.4852,  0.6425,  0.5483, -1.4892,  0.0735,  1.0984, -1.1977,  0.8591,\n",
       "                       0.5554,  1.0648, -1.8804,  0.9177, -2.3602, -0.0617, -0.9771,  0.6035,\n",
       "                      -1.2331,  1.3945, -2.9302, -1.4776, -0.3321, -1.5664, -2.1346, -1.1206,\n",
       "                       0.0989, -0.6620, -1.2919,  0.1778, -1.0918, -1.5369, -2.5712, -0.4953,\n",
       "                      -2.7814,  1.4879,  0.8930, -0.3302,  1.5405, -0.1710, -1.8851, -1.2050,\n",
       "                       1.8318, -2.3633, -2.7554,  1.0517,  0.2229,  0.6940,  0.3591, -1.2039,\n",
       "                       0.2040, -0.1363, -1.9033, -0.0652, -0.6322, -1.5381, -0.0569,  0.6085,\n",
       "                       0.0170, -0.7619,  0.1139, -1.0495,  0.3265, -0.3766,  0.3758,  2.0187,\n",
       "                      -1.0156, -2.6891, -1.0977, -0.2361,  0.0522, -1.1922, -0.4067, -0.5628,\n",
       "                      -1.4066, -0.8775,  1.5360,  1.2489,  0.4392,  1.7638,  0.2507, -0.8565,\n",
       "                      -0.2301,  0.7830, -2.5260,  0.0503,  1.7451, -0.4008,  0.6661, -0.7274,\n",
       "                       0.2373,  0.7157,  2.1138,  1.0889,  0.4616, -0.6443,  1.6649,  0.0676,\n",
       "                       0.1957,  0.5510, -1.5028,  1.2332,  0.4436,  2.2296,  0.4806, -2.4738,\n",
       "                       1.0074,  0.2042, -1.0227,  0.5942, -1.1369,  1.2566, -0.1841, -0.6377,\n",
       "                       0.1478,  0.9338, -0.1217,  0.3349, -0.1925, -0.6623,  0.0921, -0.1872,\n",
       "                      -0.4725, -1.1386, -0.6554,  1.2663, -0.6620, -0.0929,  0.3035, -2.9108,\n",
       "                      -0.5575, -0.8037,  0.1739, -1.1963, -2.4939,  2.4315,  0.8692, -1.7195,\n",
       "                       1.1813, -0.4014,  0.0391, -0.0787, -0.1168,  0.6903,  0.0668,  0.3389,\n",
       "                       0.9113, -1.5780,  0.4249, -0.8511, -0.3778,  1.5188, -1.3724, -1.4671,\n",
       "                       0.3150,  1.1427,  0.6407,  2.2371, -2.4928, -0.0114, -1.0169,  3.0212,\n",
       "                       2.2089,  0.6081, -0.5954, -0.1348])),\n",
       "             ('relations_decoder.weight',\n",
       "              tensor([[-1.6448, -0.8606, -0.6678,  ..., -1.9516, -0.9663, -0.1314],\n",
       "                      [-4.3715, -1.3745, -0.9004,  ..., -0.3495,  0.6989,  1.1775],\n",
       "                      [ 0.4219,  0.1110,  2.1053,  ...,  0.7492, -1.6852, -1.1186],\n",
       "                      ...,\n",
       "                      [ 0.0151, -0.4714,  0.3469,  ..., -0.9283,  1.0590,  0.2958],\n",
       "                      [-0.2628, -0.1940,  0.2236,  ..., -0.2850, -0.2852,  1.0308],\n",
       "                      [ 3.4380,  1.4725,  1.3799,  ...,  0.0090,  0.3067, -0.2354]])),\n",
       "             ('relations_decoder.bias',\n",
       "              tensor([-1.1031,  0.0178, -0.6613, -0.7118,  0.2802, -0.6756, -0.1841, -0.2945,\n",
       "                      -0.9398,  0.0599, -0.6429, -0.3169, -1.2825,  2.3516]))])"
      ]
     },
     "execution_count": 29,
     "metadata": {},
     "output_type": "execute_result"
    }
   ],
   "source": [
    "model.state_dict()"
   ]
  },
  {
   "cell_type": "code",
   "execution_count": null,
   "metadata": {},
   "outputs": [],
   "source": []
  }
 ],
 "metadata": {
  "kernelspec": {
   "display_name": "Python 3",
   "language": "python",
   "name": "python3"
  },
  "language_info": {
   "codemirror_mode": {
    "name": "ipython",
    "version": 3
   },
   "file_extension": ".py",
   "mimetype": "text/x-python",
   "name": "python",
   "nbconvert_exporter": "python",
   "pygments_lexer": "ipython3",
   "version": "3.6.5"
  }
 },
 "nbformat": 4,
 "nbformat_minor": 2
}
